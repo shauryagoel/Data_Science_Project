{
  "nbformat": 4,
  "nbformat_minor": 0,
  "metadata": {
    "colab": {
      "name": "DSc Course Project visualisation",
      "provenance": [],
      "collapsed_sections": [],
      "toc_visible": true
    },
    "kernelspec": {
      "name": "python3",
      "display_name": "Python 3"
    }
  },
  "cells": [
    {
      "cell_type": "code",
      "metadata": {
        "id": "Uld62FtfAOdC",
        "colab_type": "code",
        "colab": {}
      },
      "source": [
        "import numpy as np\n",
        "import matplotlib.pyplot as plt\n",
        "import seaborn as sns\n",
        "import pandas as pd\n",
        "import itertools"
      ],
      "execution_count": 0,
      "outputs": []
    },
    {
      "cell_type": "code",
      "metadata": {
        "id": "LqVr5YqmBbfp",
        "colab_type": "code",
        "outputId": "9e5606e6-9461-40ab-d0b5-a71c37d2ffa2",
        "colab": {
          "base_uri": "https://localhost:8080/",
          "height": 34
        }
      },
      "source": [
        "!echo '{\"username\":\"shauryagoel\",\"key\":\"99b18bf60d96475b98c3c32c0d3b33ec\"}' > /root/.kaggle/kaggle.json"
      ],
      "execution_count": 2,
      "outputs": [
        {
          "output_type": "stream",
          "text": [
            "/bin/bash: /root/.kaggle/kaggle.json: No such file or directory\n"
          ],
          "name": "stdout"
        }
      ]
    },
    {
      "cell_type": "code",
      "metadata": {
        "id": "pBYQgdGkFYMZ",
        "colab_type": "code",
        "outputId": "b9d97f44-2e90-4d36-fda3-79b5c39ef022",
        "colab": {
          "base_uri": "https://localhost:8080/",
          "height": 153
        }
      },
      "source": [
        "!kaggle datasets download himanshupoddar/zomato-bangalore-restaurants --unzip"
      ],
      "execution_count": 3,
      "outputs": [
        {
          "output_type": "stream",
          "text": [
            "Traceback (most recent call last):\n",
            "  File \"/usr/local/bin/kaggle\", line 5, in <module>\n",
            "    from kaggle.cli import main\n",
            "  File \"/usr/local/lib/python2.7/dist-packages/kaggle/__init__.py\", line 23, in <module>\n",
            "    api.authenticate()\n",
            "  File \"/usr/local/lib/python2.7/dist-packages/kaggle/api/kaggle_api_extended.py\", line 146, in authenticate\n",
            "    self.config_file, self.config_dir))\n",
            "IOError: Could not find kaggle.json. Make sure it's located in /root/.kaggle. Or use the environment method.\n"
          ],
          "name": "stdout"
        }
      ]
    },
    {
      "cell_type": "code",
      "metadata": {
        "id": "AjkWlGI3FryX",
        "colab_type": "code",
        "colab": {}
      },
      "source": [
        "!echo '{\"username\":\"shauryagoel\",\"key\":\"99b18bf60d96475b98c3c32c0d3b33ec\"}' > /root/.kaggle/kaggle.json"
      ],
      "execution_count": 0,
      "outputs": []
    },
    {
      "cell_type": "code",
      "metadata": {
        "id": "JykzeABx8T8o",
        "colab_type": "code",
        "outputId": "487af4f1-bcba-4d4c-a9d1-ccb964fdbc35",
        "colab": {
          "base_uri": "https://localhost:8080/",
          "height": 105
        }
      },
      "source": [
        "!kaggle datasets download himanshupoddar/zomato-bangalore-restaurants --unzip"
      ],
      "execution_count": 5,
      "outputs": [
        {
          "output_type": "stream",
          "text": [
            "Warning: Your Kaggle API key is readable by other users on this system! To fix this, you can run 'chmod 600 /root/.kaggle/kaggle.json'\n",
            "Downloading zomato-bangalore-restaurants.zip to /content\n",
            "\r  0% 0.00/89.0M [00:00<?, ?B/s]\r  6% 5.00M/89.0M [00:00<00:06, 12.7MB/s]\r 10% 9.00M/89.0M [00:00<00:05, 15.9MB/s]\r 19% 17.0M/89.0M [00:00<00:03, 20.5MB/s]\r 37% 33.0M/89.0M [00:00<00:02, 26.4MB/s]\r 55% 49.0M/89.0M [00:01<00:01, 31.8MB/s]\r 66% 59.0M/89.0M [00:01<00:00, 40.1MB/s]\r 74% 66.0M/89.0M [00:01<00:00, 45.9MB/s]\r 82% 73.0M/89.0M [00:01<00:00, 44.9MB/s]\r 91% 81.0M/89.0M [00:01<00:00, 48.4MB/s]\n",
            "\r100% 89.0M/89.0M [00:01<00:00, 54.3MB/s]\n"
          ],
          "name": "stdout"
        }
      ]
    },
    {
      "cell_type": "code",
      "metadata": {
        "id": "zgnhe_9HBbX6",
        "colab_type": "code",
        "colab": {}
      },
      "source": [
        "df=pd.read_csv('/content/zomato.csv')"
      ],
      "execution_count": 0,
      "outputs": []
    },
    {
      "cell_type": "code",
      "metadata": {
        "id": "cR9X5kMONLzR",
        "colab_type": "code",
        "outputId": "b24fd34a-ceb6-4cc5-fad9-8620b789dd8c",
        "colab": {
          "base_uri": "https://localhost:8080/",
          "height": 34
        }
      },
      "source": [
        "df.shape"
      ],
      "execution_count": 0,
      "outputs": [
        {
          "output_type": "execute_result",
          "data": {
            "text/plain": [
              "(51717, 17)"
            ]
          },
          "metadata": {
            "tags": []
          },
          "execution_count": 22
        }
      ]
    },
    {
      "cell_type": "code",
      "metadata": {
        "id": "iwi3JoRPBbS-",
        "colab_type": "code",
        "outputId": "2fe23ad8-46a2-4235-eab2-d9268fa0ddff",
        "colab": {
          "base_uri": "https://localhost:8080/",
          "height": 598
        }
      },
      "source": [
        "df.head()"
      ],
      "execution_count": 0,
      "outputs": [
        {
          "output_type": "execute_result",
          "data": {
            "text/html": [
              "<div>\n",
              "<style scoped>\n",
              "    .dataframe tbody tr th:only-of-type {\n",
              "        vertical-align: middle;\n",
              "    }\n",
              "\n",
              "    .dataframe tbody tr th {\n",
              "        vertical-align: top;\n",
              "    }\n",
              "\n",
              "    .dataframe thead th {\n",
              "        text-align: right;\n",
              "    }\n",
              "</style>\n",
              "<table border=\"1\" class=\"dataframe\">\n",
              "  <thead>\n",
              "    <tr style=\"text-align: right;\">\n",
              "      <th></th>\n",
              "      <th>url</th>\n",
              "      <th>address</th>\n",
              "      <th>name</th>\n",
              "      <th>online_order</th>\n",
              "      <th>book_table</th>\n",
              "      <th>rate</th>\n",
              "      <th>votes</th>\n",
              "      <th>phone</th>\n",
              "      <th>location</th>\n",
              "      <th>rest_type</th>\n",
              "      <th>dish_liked</th>\n",
              "      <th>cuisines</th>\n",
              "      <th>approx_cost(for two people)</th>\n",
              "      <th>reviews_list</th>\n",
              "      <th>menu_item</th>\n",
              "      <th>listed_in(type)</th>\n",
              "      <th>listed_in(city)</th>\n",
              "    </tr>\n",
              "  </thead>\n",
              "  <tbody>\n",
              "    <tr>\n",
              "      <th>0</th>\n",
              "      <td>https://www.zomato.com/bangalore/jalsa-banasha...</td>\n",
              "      <td>942, 21st Main Road, 2nd Stage, Banashankari, ...</td>\n",
              "      <td>Jalsa</td>\n",
              "      <td>Yes</td>\n",
              "      <td>Yes</td>\n",
              "      <td>4.1/5</td>\n",
              "      <td>775</td>\n",
              "      <td>080 42297555\\r\\n+91 9743772233</td>\n",
              "      <td>Banashankari</td>\n",
              "      <td>Casual Dining</td>\n",
              "      <td>Pasta, Lunch Buffet, Masala Papad, Paneer Laja...</td>\n",
              "      <td>North Indian, Mughlai, Chinese</td>\n",
              "      <td>800</td>\n",
              "      <td>[('Rated 4.0', 'RATED\\n  A beautiful place to ...</td>\n",
              "      <td>[]</td>\n",
              "      <td>Buffet</td>\n",
              "      <td>Banashankari</td>\n",
              "    </tr>\n",
              "    <tr>\n",
              "      <th>1</th>\n",
              "      <td>https://www.zomato.com/bangalore/spice-elephan...</td>\n",
              "      <td>2nd Floor, 80 Feet Road, Near Big Bazaar, 6th ...</td>\n",
              "      <td>Spice Elephant</td>\n",
              "      <td>Yes</td>\n",
              "      <td>No</td>\n",
              "      <td>4.1/5</td>\n",
              "      <td>787</td>\n",
              "      <td>080 41714161</td>\n",
              "      <td>Banashankari</td>\n",
              "      <td>Casual Dining</td>\n",
              "      <td>Momos, Lunch Buffet, Chocolate Nirvana, Thai G...</td>\n",
              "      <td>Chinese, North Indian, Thai</td>\n",
              "      <td>800</td>\n",
              "      <td>[('Rated 4.0', 'RATED\\n  Had been here for din...</td>\n",
              "      <td>[]</td>\n",
              "      <td>Buffet</td>\n",
              "      <td>Banashankari</td>\n",
              "    </tr>\n",
              "    <tr>\n",
              "      <th>2</th>\n",
              "      <td>https://www.zomato.com/SanchurroBangalore?cont...</td>\n",
              "      <td>1112, Next to KIMS Medical College, 17th Cross...</td>\n",
              "      <td>San Churro Cafe</td>\n",
              "      <td>Yes</td>\n",
              "      <td>No</td>\n",
              "      <td>3.8/5</td>\n",
              "      <td>918</td>\n",
              "      <td>+91 9663487993</td>\n",
              "      <td>Banashankari</td>\n",
              "      <td>Cafe, Casual Dining</td>\n",
              "      <td>Churros, Cannelloni, Minestrone Soup, Hot Choc...</td>\n",
              "      <td>Cafe, Mexican, Italian</td>\n",
              "      <td>800</td>\n",
              "      <td>[('Rated 3.0', \"RATED\\n  Ambience is not that ...</td>\n",
              "      <td>[]</td>\n",
              "      <td>Buffet</td>\n",
              "      <td>Banashankari</td>\n",
              "    </tr>\n",
              "    <tr>\n",
              "      <th>3</th>\n",
              "      <td>https://www.zomato.com/bangalore/addhuri-udupi...</td>\n",
              "      <td>1st Floor, Annakuteera, 3rd Stage, Banashankar...</td>\n",
              "      <td>Addhuri Udupi Bhojana</td>\n",
              "      <td>No</td>\n",
              "      <td>No</td>\n",
              "      <td>3.7/5</td>\n",
              "      <td>88</td>\n",
              "      <td>+91 9620009302</td>\n",
              "      <td>Banashankari</td>\n",
              "      <td>Quick Bites</td>\n",
              "      <td>Masala Dosa</td>\n",
              "      <td>South Indian, North Indian</td>\n",
              "      <td>300</td>\n",
              "      <td>[('Rated 4.0', \"RATED\\n  Great food and proper...</td>\n",
              "      <td>[]</td>\n",
              "      <td>Buffet</td>\n",
              "      <td>Banashankari</td>\n",
              "    </tr>\n",
              "    <tr>\n",
              "      <th>4</th>\n",
              "      <td>https://www.zomato.com/bangalore/grand-village...</td>\n",
              "      <td>10, 3rd Floor, Lakshmi Associates, Gandhi Baza...</td>\n",
              "      <td>Grand Village</td>\n",
              "      <td>No</td>\n",
              "      <td>No</td>\n",
              "      <td>3.8/5</td>\n",
              "      <td>166</td>\n",
              "      <td>+91 8026612447\\r\\n+91 9901210005</td>\n",
              "      <td>Basavanagudi</td>\n",
              "      <td>Casual Dining</td>\n",
              "      <td>Panipuri, Gol Gappe</td>\n",
              "      <td>North Indian, Rajasthani</td>\n",
              "      <td>600</td>\n",
              "      <td>[('Rated 4.0', 'RATED\\n  Very good restaurant ...</td>\n",
              "      <td>[]</td>\n",
              "      <td>Buffet</td>\n",
              "      <td>Banashankari</td>\n",
              "    </tr>\n",
              "  </tbody>\n",
              "</table>\n",
              "</div>"
            ],
            "text/plain": [
              "                                                 url  ... listed_in(city)\n",
              "0  https://www.zomato.com/bangalore/jalsa-banasha...  ...    Banashankari\n",
              "1  https://www.zomato.com/bangalore/spice-elephan...  ...    Banashankari\n",
              "2  https://www.zomato.com/SanchurroBangalore?cont...  ...    Banashankari\n",
              "3  https://www.zomato.com/bangalore/addhuri-udupi...  ...    Banashankari\n",
              "4  https://www.zomato.com/bangalore/grand-village...  ...    Banashankari\n",
              "\n",
              "[5 rows x 17 columns]"
            ]
          },
          "metadata": {
            "tags": []
          },
          "execution_count": 8
        }
      ]
    },
    {
      "cell_type": "code",
      "metadata": {
        "id": "CZnB88noBbPP",
        "colab_type": "code",
        "outputId": "c367cd63-c658-49d8-f806-b6988ae5c4ab",
        "colab": {
          "base_uri": "https://localhost:8080/",
          "height": 102
        }
      },
      "source": [
        "df.columns"
      ],
      "execution_count": 0,
      "outputs": [
        {
          "output_type": "execute_result",
          "data": {
            "text/plain": [
              "Index(['url', 'address', 'name', 'online_order', 'book_table', 'rate', 'votes',\n",
              "       'phone', 'location', 'rest_type', 'dish_liked', 'cuisines',\n",
              "       'approx_cost(for two people)', 'reviews_list', 'menu_item',\n",
              "       'listed_in(type)', 'listed_in(city)'],\n",
              "      dtype='object')"
            ]
          },
          "metadata": {
            "tags": []
          },
          "execution_count": 9
        }
      ]
    },
    {
      "cell_type": "code",
      "metadata": {
        "id": "GHopY0sEBbHY",
        "colab_type": "code",
        "outputId": "78db79ab-655a-44f0-ca9a-ffa5fb036654",
        "colab": {
          "base_uri": "https://localhost:8080/",
          "height": 34
        }
      },
      "source": [
        "df['url'].str.startswith('http').all()   # first column is all URLs"
      ],
      "execution_count": 0,
      "outputs": [
        {
          "output_type": "execute_result",
          "data": {
            "text/plain": [
              "True"
            ]
          },
          "metadata": {
            "tags": []
          },
          "execution_count": 10
        }
      ]
    },
    {
      "cell_type": "code",
      "metadata": {
        "id": "t6AEx6LGBbBf",
        "colab_type": "code",
        "outputId": "93931d6d-bf57-4315-c941-d6950e5e2bfd",
        "colab": {
          "base_uri": "https://localhost:8080/",
          "height": 173
        }
      },
      "source": [
        "df['menu_item'].unique()\n",
        "# value_counts().to_list()"
      ],
      "execution_count": 0,
      "outputs": [
        {
          "output_type": "execute_result",
          "data": {
            "text/plain": [
              "array(['[]',\n",
              "       \"['Chocolate Fantasy (Pack Of 5)', 'Pan Cake (Pack Of 6)', 'Gulab Jamun (Pack Of 10)', 'Gulkand Shot (Pack Of 5)', 'Chocolate Decadence (Pack of 2)', 'CheeseCake (Pack Of 2)', 'Red Velvet Slice Cake (Pack of 2)', 'Red Velvet Slice Cake & Cheese Cake (Pack of 2)', 'Red Velvet Slice Cake & Chocolate Decadence Cake (Pack of 2)', 'Hazelnut Brownie (Pack of 2)', 'Moments', 'Red Velvet Cake With Butter Cream Frosting (750 Gm)', 'Red Velvet Slice Cake (Pack of 2)', 'Red Velvet Slice Cake & Cheese Cake (Pack of 2)', 'Red Velvet Slice Cake & Chocolate Decadence Cake (Pack of 2)', 'Red Velvet Slice Cake (Pack of 1)', 'Valentine Red Velvet Jar', 'Valentine Chocolate Jar', 'Valentines Jar Combo', 'Pink Guava 500 ML', 'Oreo Vanilla 500 ML', 'Cookie Crumble 500 ML', 'Chocolate Fantasy', 'Gulkand-E-Bahar', 'Pan Cake', 'Hazelnut Brownie (Pack Of 1)', 'Gulab Jamun (Pack Of 2)', 'Plum Cake', 'Red Velvet Cake With Butter Cream Frosting (750 Gm)', 'Chocolate Mud Cake (700 Gms)', 'CheeseCake (Pack of 1)', 'Chocolate Decadence (Pack of 1)', 'Red Velvet Slice Cake (Pack of 1)']\",\n",
              "       \"['Chole Kulcha Meal', 'Upvas Aloo Paratha With Dahi', 'Singhada Aloo Paratha with Hare Tamatar Ki Sabji', 'Smoked Butter Chicken Combo', 'Paneer Methi Chaman Combo', 'Mutton Bhuna Combo', 'Rajma Masala Meal', 'Dal Makhani Veg Starter Combo', 'Dal Makhani Non-Veg Starter Combo', 'Malai Kofta Combo', 'Jumbo Chicken Wrap', 'Jumbo Veg Wrap', 'Jumbo Falafel Salsa Wrap', 'Chicken Overload Jumbo Wrap', 'Veg Pizza Wrap', 'Chicken Pizza Wrap', 'Mexican Potato Salsa Wrap', 'American Smokey Sausage Wrap', 'Makhani Falafel Wrap', 'Mutton Overload Wrap', 'Mac & Cheese Chicken Wrap', 'Mac & Cheese Veg Wrap', 'Barbeque Chicken Wrap', 'Mutton Boti Wrap', 'Masala Paneer Tikka Wrap', 'Fiery Paneer Tikka Wrap', 'Masala Chicken Tikka Wrap', 'Cheesy Corn Salsa Wrap', 'Chicken Mayo Wrap', 'Cheese Melt Chicken Wrap', 'Cheese Melt Paneer Wrap', 'Double Cheese Meatball Wrap', 'Reshmi Chicken Kebab Wrap', 'Egg Cheese Sausage Wrap', 'Double Egg Chatpata Wrap', 'Cheesy Potato Wrap', 'Veg Falafel Wrap', 'Chicken Bhuna Wrap', 'Chatpate Chole Wrap', 'Fiery Paneer Wrap', 'Fiery Chicken Wrap', 'Mac & Cheese Wrap', 'Hare Tamatar & Sabudana Wada Royal Thali', 'Singhada Aloo Paratha & Hare Tamatar Royal Satvik Meal', 'Smoked Butter Chicken With Omelette', 'Rajma Masala Royal Combo', 'Paneer Methi Chaman Royal Combo', 'Mutton Bhuna Royal Combo', 'Smoked Butter Chicken Royal Combo', 'Malai Kofta Royal Combo', 'Fusion Breakfast', 'Pan Cake', 'Aloo Paratha Combo', 'Chai for 4', 'Cheesy Chicken Meatballs', 'Peach Tea (Serves 4)', 'Falafel Nuggets with Mayo Dip', 'Potato Chilli Shots with Mayo Dip', 'Pan Cake', 'Kashmiri Kahwa (Serves 4)', 'Masala Chai (Serves 4)', 'Chai for 4 + Nature valley bar', 'Kulcha', 'Flavorful Rice Tub', 'Dal Makhani Bowl (Half KG)', 'Smoked Butter Chicken Bowl (Half KG)', 'Mutton Bhuna Bowl (Half KG)', 'Singhada Aloo Paratha Tub', 'Curd Bowl (Half KG)', 'Hare Tamatar Ki Subji (Half KG)', 'Rajma Masala Bowl (Half KG)', 'Triangle Paratha Tub', 'Malai Kofta Bowl (Half Kg)', 'Chocolate Fantasy', 'SWIG Jeera Masala', 'SWIG Green apple', 'Kesar Muesli', 'Gulab Jamun (Pack Of 2)', 'Plum Cake', 'Gulab Jamun (Pack of 1)', 'Moments', 'Hazelnut Brownie (Pack Of 1)', 'CheeseCake (Pack of 1)', 'Chocolate Decadence (Pack of 1)', 'Red Velvet Slice Cake (Pack of 1)', 'Mint Chaas']\",\n",
              "       ...,\n",
              "       '[\\'Veg Thai Green Curry\\', \\'BBQ Sloppy Chicken Burger\\', \"Harry\\'s Farm House Pizza\", \\'Egg Schezwan Fried Rice\\', \\'Chicken Schezwan Noodles\\', \\'Veg Platter\\', \\'Non Veg Platter\\', \\'Tom Yum Goong\\', \\'Tandoori Kalonji Aloo\\', \\'Tandoori Pesto Flowerets\\', \\'Paneer and Pineapple Tikka\\', \\'Adraki Soy Chilli Chicken Kebab\\', \\'Tandoori Chicken Lollipop\\', \\'Parpika Choosa\\', \\'Lamb Seekh Kebab\\', \\'Achari Fish Tikka\\', \\'Rumali Roti\\', \\'Naan\\', \\'Butter Naan\\', \\'Garlic Naan\\', \\'Butter Garlic Naan\\', \\'Cheese Naan\\', \\'Butter Garlic Cheese Naan\\', \\'Garlic Cheese Naan\\', \\'Veg Fried Rice\\', \\'Veg Schezwan Fried Rice\\', \\'Veg Hakka Noodles\\', \\'Veg Schezwan Noodles\\', \\'Veg Singapore Noodles\\', \\'Egg Fried Rice\\', \\'Egg Schezwan Fried Rice\\', \\'Egg Hakka Noodles\\', \\'Egg Schezwan Noodles\\', \\'Egg Singapore Noodles\\', \\'Chicken Hakka Noodles\\', \\'Chicken Schezwan Noodles\\', \\'Chicken Singapore Noodles\\', \\'Prawns Fried Rice\\', \\'Prawns Schezwan Fried Rice\\', \\'Prawns Hakka Noodles\\', \\'Prawns Schezwan Noodles\\', \\'Prawns Singapore Noodles\\', \\'Margherita Pizza\\', \"Harry\\'s Farm House Pizza\", \\'Classique Paneer Tikka Pizza\\', \\'Veg Exotica Pizza\\', \\'Thai Basil Chicken Pizza\\', \\'Classic Chicken Tikka Pizza\\', \\'Spicy Pepperoni Pizza\\', \\'Penne Rustica\\', \\'Spaghetti Aglio e Olio Pasta\\', \\'HarryÃ\\x83\\\\x83Ã\\x82\\\\x83Ã\\x83\\\\x82Ã\\x82\\\\x83Ã\\x83\\\\x83Ã\\x82\\\\x82Ã\\x83\\\\x82Ã\\x82Â¢Ã\\x83\\\\x83Ã\\x82\\\\x83Ã\\x83\\\\x82Ã\\x82\\\\x82Ã\\x83\\\\x83Ã\\x82\\\\x82Ã\\x83\\\\x82Ã\\x82\\\\x80Ã\\x83\\\\x83Ã\\x82\\\\x83Ã\\x83\\\\x82Ã\\x82\\\\x82Ã\\x83\\\\x83Ã\\x82\\\\x82Ã\\x83\\\\x82Ã\\x82\\\\x99s Mac and Cheese Pasta\\', \\'Penne Vodkatini\\', \\'Baked Butter Chicken Lasaqna\\', \\'Spaghetti Carbonara\\', \\'Straight Up Veg Burger\\', \\'BBQ Sloppy Chicken Burger\\', \\'HarryÃ\\x83\\\\x83Ã\\x82\\\\x83Ã\\x83\\\\x82Ã\\x82\\\\x83Ã\\x83\\\\x83Ã\\x82\\\\x82Ã\\x83\\\\x82Ã\\x82Â¢Ã\\x83\\\\x83Ã\\x82\\\\x83Ã\\x83\\\\x82Ã\\x82\\\\x82Ã\\x83\\\\x83Ã\\x82\\\\x82Ã\\x83\\\\x82Ã\\x82\\\\x80Ã\\x83\\\\x83Ã\\x82\\\\x83Ã\\x83\\\\x82Ã\\x82\\\\x82Ã\\x83\\\\x83Ã\\x82\\\\x82Ã\\x83\\\\x82Ã\\x82\\\\x99s Lamb Burger\\', \\'Jazz Burger\\', \\'Paneer Bhurji Pav\\', \\'Egg Kejriwal\\', \\'Anda Bhurji Pav\\', \\'Omelette Pav\\', \\'Egg Chilly\\', \\'Goan Rassa Omelette with Pav\\', \\'Veg Wok Tossed Ginger Sprout Noodles with Crackling Spinach\\', \\'Veg Kung Pao Curry\\', \\'Veg Thai Green Curry\\', \\'Veg Laksa\\', \\'Chicken Wok Tossed Ginger Sprout Noodles with Crackling Spinach\\', \\'Grilled Chilly Chicken\\', \\'Chicken Kung Pao Curry\\', \\'Chicken Thai Green Curry\\', \\'Chicken Laksa\\', \\'Sri Lankan Black Pepper Chicken\\', \\'Nasi Stir Fry Rice\\', \\'Fish Wok Tossed Ginger Sprout Noodles with Crackling Spinach\\', \\'Seafood Kung Pao Curry\\', \\'Seafood Thai Green Curry\\', \\'Seafood Laksa\\', \\'Bangkok Seafood Bowl\\', \\'Crispy Garlic Bread\\', \\'Classic Masala Peanut\\', \\'Salt and Pepper Corn\\', \\'Bombay Spiced Wedges\\', \\'Harrys Onion Rings\\', \\'French Fries\\', \\'Crispy Chilli Potatoes\\', \\'Baked Sweet Potato Wedges\\', \\'Peri Peri Salsa Fries\\', \\'Parmigiana Truffle Fries\\', \\'Chicken Tikka Poutine\\', \\'Lamb Lovers Fries\\', \\'Paneer Bhurji Pav\\', \\'Cheese Chilli Toast\\', \\'Pita Chips with Classic Hummus\\', \\'Paneer Chilli Dry\\', \\'Veg Smoked Quesadillas\\', \\'Fondue Stuffed Mushrooms\\', \\'Wonton Kachories\\', \\'Cottage Cheese Malaysian Satay\\', \\'Muchos Nachos Veggie\\', \"Harry\\'s Cheese Fondue Veg Dunks\", \\'Non Veg Smoked Quesadillas\\', \\'Chilli Chicken\\', \\'Chicken Malaysian Satay\\', \\'Drunken Chicken\\', \\'Crispy Chicken\\', \\'Andhra Chicken Pepper Fry\\', \\'Singapore Chicken Lollipop\\', \\'Fiery Schezwan Pepper Chicken\\', \\'Chilli Chicken Roll\\', \\'BBQ Rum Flambeed Wings\\', \\'Grilled Tenderloin Chilli Fry\\', \\'Keema Pav\\', \\'Pigs in a Blanket\\', \\'Kerala Buff Chilly\\', \\'Buffalo Chicken Winglets\\', \\'Pattaya Beach Fish Goujons\\', \\'Fishermans Basket\\', \"Harry\\'s Cheese Fondue Non Veg Dunks\", \\'Paneer Urban Tikka Masala\\', \"Veg Harry\\'s Stroganoff\", \\'Chicken Urban Tikka Masala\\', \\'Jamaican Jerk Chicken\\', \"Chicken Harry\\'s Stroganoff\", \\'Harrys Pepper Chicken\\', \\'Peppered Tenderloin Steak\\', \"Harry\\'s Beer Batter Fish\", \\'Smoked Paprika Fish\\', \\'Darsaan\\', \\'Sizzling Brownie\\']',\n",
              "       '[\\'Chicken Wings\\', \\'Pepper Chicken\\', \"Beef Grilled One\\'s Burger\", \\'Spicy Louisiana Pizza\\', \\'Chilly Chicken Pizza\\', \\'Chicken Mexicana Pizza\\', \\'Veg Italian Tomato and Fresh Basil Soup\\', \\'Chicken Lemon Coriander Soup\\', \\'Southern Fried Chicken\\', \\'Chicken Wings\\', \\'Gambas\\', \\'Bbq Jerk Chicken\\', \\'Chicken Nachos Carnitos\\', \\'Spicy Chicken Carrebbean Sausages\\', \\'Spicy Pork Carrebbean Sausages\\', \\'Pork Nachos Carnitos\\', \\'Beef Spicy New Orleans Braised Meat\\', \\'Cajun Spiced Fish Fingers\\', \\'Pepper Chicken\\', \\'Chicken Apollo Style\\', \\'Prawns Apollo Style\\', \\'Chicken Streetside Chilly Style\\', \\'Beef Streetside Chilly Style\\', \\'Pork Streetside Chilly Style\\', \\'Chicken Manchurian Style\\', \"Chicken Spicy Chef\\'s Special Style\", \"Beef Spicy Chef\\'s Special Style\", \"Chicken Kim\\'s Style\", \\'Beef Nachos Carnitos\\', \"Beef Kim\\'s Style\", \"Pork Kim\\'s Style\", \\'Chettinad Chicken Roast\\', \\'Chettinad Pudhina Chicken Roast\\', \\'Chicken Kabab\\', \"Prawns Spicy Chef\\'s Special Style\", \\'Prawns Manchurian Style\\', \\'Fried Beef\\', \\'Pork Spicy New Orleans Braised Meat\\', \\'Fried Pork\\', \"Prawns Kim\\'s Style\", \\'Fish Manchurian Style\\', \"Fish Spicy Chef\\'s Special Style\", \\'Fish Streetside Chilly Style\\', \\'Fish Apollo Style\\', \"Fish Kim\\'s Style\", \\'Pork Streetside Chilly Style\\', \"Pork Spicy Chef\\'s Special Style\", \\'Pork Manchurian Style\\', \\'Beef Manchurian Style\\', \"Paneer Korean Kim\\'s Style\", \\'Paneer Tangy Spinach Sauce\\', \\'Paneer Apollo Style Sauce\\', \\'Paneer Singaporean Style Sauce\\', \\'Paneer Ginger Chilly Garlic Sauce\\', \\'Paneer Ginger Chilly Garlic Sauce\\', \\'Paneer Ginger Chilly Garlic Sauce\\', \\'Paneer Hot Garlic Sauce\\', \\'Paneer Lemon Coriander Sauce\\', \"Veg Korean Kim\\'s Style\", \\'Veg Tangy Spinach Sauce\\', \\'Veg Apollo Style Sauce\\', \"Veg Korean Kim\\'s Style\", \\'Veg Singaporean Style Sauce\\', \\'Veg Ginger Chilly Garlic Sauce Burger\\', \\'Veg Chefs Super Spicy Style\\', \\'Veg Hot Garlic Sauce\\', \\'Lemon Coriander Sauce\\', \"Chicken Korean Kim\\'s Style\", \\'Chicken Tangy Spinach Sauce\\', \\'Apollo Style Sauce\\', \\'Chicken Singaporean Style Sauce\\', \\'Chicken Singaporean Style Sauce\\', \\'Chicken Chefs Super Spicy Style\\', \\'Chicken Hot Garlic Sauce\\', \\'Chicken Hot Garlic Sauce\\', \"Beef Korean Kim\\'s Style\", \\'Beef Tangy Spinach Sauce\\', \\'Beef Apollo Style Sauce\\', \\'Beef Singaporean Style Sauce\\', \\'Beef Ginger Chilly Garlic Sauce\\', \\'Beef Chefs Super Spicy Style\\', \\'Beef Chefs Super Spicy Style\\', \\'Beef Hot Garlic Sauce\\', \\'Beef Lemon Coriander Sauce\\', \"Pork Korean Kim\\'s Style\", \\'Pork Tangy Spinach Sauce\\', \\'Pork Apollo Style Sauce\\', \\'Pork Singaporean Style Sauce\\', \\'Pork Ginger Chilly Garlic Sauce\\', \\'Pork Chefs Super Spicy Style\\', \\'Pork Hot Garlic Sauce\\', \\'Pork Lemon Coriander Sauce\\', \"Fish Korean Kim\\'s Style\", \\'Fish Tangy Spinach Sauce\\', \\'Fish Apollo Style Sauce\\', \\'Fish Singaporean Style Sauce\\', \\'Fish Ginger Chilly Garlic Sauce\\', \\'Fish Chefs Super Spicy Style\\', \\'Fish Hot Garlic Sauce\\', \\'Fish Lemon Coriander Sauce\\', \"Korean Kim\\'s Style\", \\'Prawns Tangy Spinach Sauce\\', \\'Prawns Apollo Style Sauce\\', \\'Prawns Apollo Style Sauce\\', \\'Prawns Ginger Chilly Garlic Sauce\\', \\'Prawns Chefs Super Spicy Style\\', \\'Prawns Hot Garlic Sauce\\', \\'Prawns Lemon Coriander Sauce\\', \\'Veg Stir Fried Rice\\', \\'Veg Mongolian Rice\\', \\'Veg Olivers Spicy Rice\\', \\'Veg Singaporean Rice\\', \\'Egg Stir Fried Rice\\', \\'Egg Mongolian Rice\\', \\'Egg Olivers Spicy Rice\\', \\'Egg Singaporean Rice\\', \\'Chicken Stir Fried Rice\\', \\'Chicken Mongolian Rice\\', \\'Chicken Olivers Spicy Rice\\', \\'Chicken Singaporean Rice\\', \\'Beef Stir Fried Rice\\', \\'Beef Mongolian Rice\\', \\'Beef Olivers Spicy Rice\\', \\'Beef Singaporean Rice\\', \\'Pork Stir Fried Rice\\', \\'Pork Mongolian Rice\\', \\'Pork Olivers Spicy Rice\\', \\'Pork Singaporean Rice\\', \\'Fish Stir Fried Rice\\', \\'Fish Mongolian Rice\\', \\'Fish Olivers Spicy Rice\\', \\'Fish Singaporean Rice\\', \\'Prawns Stir Fried Rice\\', \\'Prawns Mongolian Rice\\', \\'Prawns Olivers Spicy Rice\\', \\'Prawns Singaporean Rice\\', \\'Veg Stir Fried Noodles\\', \\'Veg Mongolian Noodles\\', \\'Veg Olivers Spicy Noodles\\', \\'Veg Singaporean Noodles\\', \\'Egg Stir Fried Noodles\\', \\'Egg Mongolian Noodles\\', \\'Egg Olivers Spicy Noodles\\', \\'Egg Singaporean Noodles\\', \\'Chicken Stir Fried Noodles\\', \\'Chicken Mongolian Noodles\\', \\'Chicken Olivers Spicy Noodles\\', \\'Chicken Singaporean Noodles\\', \\'Beef Stir Fried Noodles\\', \\'Beef Mongolian Noodles\\', \\'Beef Olivers Spicy Noodles\\', \\'Beef Singaporean Noodles\\', \\'Pork Stir Fried Noodles\\', \\'Pork Mongolian Noodles\\', \\'Pork Olivers Spicy Noodles\\', \\'Pork Singaporean Noodles\\', \\'Fish Stir Fried Noodles\\', \\'Fish Mongolian Noodles\\', \\'Fish Olivers Spicy Noodles\\', \\'Fish Singaporean Noodles\\', \\'Prawns Stir Fried Noodles\\', \\'Prawns Mongolian Noodles\\', \\'Prawns Olivers Spicy Noodles\\', \\'Prawns Singaporean Noodles\\', \\'Mexican Bean Burger\\', \\'Bean Bbq\\', \\'Ginger Chilly Garlic Sauce Burger\\', \\'Cottage Cheese Jerky Burgers\\', \\'Spinach Ricotta Smashers\\', \\'Grilled Pepper Smashers\\', \\'Grilled Veg Sandwich\\', \\'Falafel\\', \\'Eggplant Parm\\', \"Chicken Grilled One\\'s Burger\", \"Beef Grilled One\\'s Burger\", \\'Almost Famous Moo Burger\\', \\'Miami Chicken Burger\\', \\'Miami Beef Burger\\', \\'Philly Cheesesteak Burger\\', \\'Santa Fe Beef Burger\\', \\'Cleveland Sandwich\\', \\'Philly Cheese Steak Sandwich\\', \\'Cuban Sandwich\\', \\'Pulled Chicken Sandwich\\', \\'Beef Saigon Bahn Mi Sandwich\\', \\'Pork Saigon Bahn Mi Sandwich\\', \\'Cheese Garlic Bread\\', \\'Jalapeno Poppers\\', \\'Cajun Spiced Potato Wedges\\', \\'Bruschetta\\', \\'Spring Rolls\\', \\'Crispy Potato Fingers\\', \\'Manchurian Style\\', \\'Streeside Chilly Style\\', \\'Crispy Fried Babycorn\\', \\'American Corn Bombs\\', \\'Cripsy Fried Paneer\\', \\'Pepper Salt\\', \\'OliverÃ\\x83\\\\x83Ã\\x82\\\\x83Ã\\x83\\\\x82Ã\\x82\\\\x83Ã\\x83\\\\x83Ã\\x82\\\\x82Ã\\x83\\\\x82Ã\\x82Â¢Ã\\x83\\\\x83Ã\\x82\\\\x83Ã\\x83\\\\x82Ã\\x82\\\\x82Ã\\x83\\\\x83Ã\\x82\\\\x82Ã\\x83\\\\x82Ã\\x82\\\\x80Ã\\x83\\\\x83Ã\\x82\\\\x83Ã\\x83\\\\x82Ã\\x82\\\\x82Ã\\x83\\\\x83Ã\\x82\\\\x82Ã\\x83\\\\x82Ã\\x82\\\\x99s Pepper Masala Paneer Roast\\', \\'OliverÃ\\x83\\\\x83Ã\\x82\\\\x83Ã\\x83\\\\x82Ã\\x82\\\\x83Ã\\x83\\\\x83Ã\\x82\\\\x82Ã\\x83\\\\x82Ã\\x82Â¢Ã\\x83\\\\x83Ã\\x82\\\\x83Ã\\x83\\\\x82Ã\\x82\\\\x82Ã\\x83\\\\x83Ã\\x82\\\\x82Ã\\x83\\\\x82Ã\\x82\\\\x80Ã\\x83\\\\x83Ã\\x82\\\\x83Ã\\x83\\\\x82Ã\\x82\\\\x82Ã\\x83\\\\x83Ã\\x82\\\\x82Ã\\x83\\\\x82Ã\\x82\\\\x99s Chettinad Aloo Roast\\', \\'OliverÃ\\x83\\\\x83Ã\\x82\\\\x83Ã\\x83\\\\x82Ã\\x82\\\\x83Ã\\x83\\\\x83Ã\\x82\\\\x82Ã\\x83\\\\x82Ã\\x82Â¢Ã\\x83\\\\x83Ã\\x82\\\\x83Ã\\x83\\\\x82Ã\\x82\\\\x82Ã\\x83\\\\x83Ã\\x82\\\\x82Ã\\x83\\\\x82Ã\\x82\\\\x80Ã\\x83\\\\x83Ã\\x82\\\\x83Ã\\x83\\\\x82Ã\\x82\\\\x82Ã\\x83\\\\x83Ã\\x82\\\\x82Ã\\x83\\\\x82Ã\\x82\\\\x99s Pudhina Aloo Roast\\', \\'Onion Pakoda\\', \\'Paneer Pakoda\\', \\'Egg Bhurji\\', \\'Masala Egg Pakoda\\', \\'Masala Omlette\\', \\'Egg Bhurji With Bacon & Sausage\\', \\'Chilly Egg\\', \\'Egg Bhurji With Bacon And Sausage\\', \\'Pizza Margharita\\', \\'Spicy Louisiana Pizza\\', \\'Wilted Spinach Pizza\\', \\'Eggplant Pizza\\', \\'Patata Salsa Pizza\\', \\'Stirfried Babycorn Pizza\\', \\'Arugula Pizza\\', \\'Pesto Shrooms Pizza\\', \\'Chilly Paneer Pizza\\', \\'Spicy Peri Peri Paneer & Spinach Pizza\\', \\'Mexican Nachos Special Pizza\\', \\'Chicken BBQ Pizza\\', \\'Chicken Sausage Pizza\\', \\'Chilly Chicken Pizza\\', \\'Chicken 65 Pizza\\', \\'Chicken Mexicana Pizza\\', \\'Chicken Bolognese Pizza\\', \\'Mexican Chicken Nachos Pizza\\', \\'Mexican Beef Nachos Pizza\\', \\'Arugula Bacon Pizza\\', \\'Pepperoni Pizza\\', \\'Chorizo Pizza\\', \\'Chocolate Brownie\\']',\n",
              "       \"['Dal Tadka', 'Dal Makhani', 'Paneer Tikka Masala', 'Kadai Paneer', 'Paneer Makhani', 'Malai Kofta', 'Mutton Rogan Josh', 'Jeera Rice', 'Veg Biryani', 'Murgh Dum Biryani', 'Murgh Dum Biryani [Family Pack]', 'Hara Bara Kabab', 'Paneer Tikka', 'Tandoori Murgh', 'Murgh Lahori Kalmi', 'Jalebi with Rabdi', 'Roomali Roti', 'Afghani Naan', 'Stuffed Paratha', 'Paneer Tikka Masala Meal', 'Paneer Makhani Meal', 'Veg Biryani Meal', 'Executive Veg Box Meal', 'Executive Non Veg Box Meal', 'Rajma Meal', 'Peshawari Channa Meal', 'Paneer Tikka Masala Meal', 'Paneer Makhani Meal', 'Egg Curry Meal', 'Butter Chicken Meal', 'Rara Murgh Meal', 'Mutton Rogan Josh Meal', 'Rara Mutton Meal', 'Veg Biryani Meal', 'Egg Biryani Meal', 'Murgh Dum Biryani Meal', 'Murgh Tikka Biryani Meal', 'Mutton Biryani Meal', 'Prawns Biryani Meal', 'Executive Veg Box Meal', 'Executive Non Veg Box Meal', 'Tomato Shorba', 'Murgh Shorba', 'Bagicha ka Salad', 'Karela Salad', 'Kaju Fry Salad', 'Murgh Tikka Salad', 'French Fries', 'Aloo Tak-a-Tak', 'Baby Corn Harimirch Wala', 'Bhatti ka Gobi', 'Hara Bara Kabab', 'Tandoori Mushroom', 'Mushroom Harimirch Wala', 'Paneer Resunga', 'Paneer Tikka', 'Peshawari Seekh Kabab', 'Tandoori Murgh', 'Murgh Lahori Kalmi', 'Mutton Pepper Dry', 'Macchi Amritsari', 'Macchi Tak-a-Tak', 'Tawa Macchi', 'Prawns Balaika', 'Prawns Tak-a-Tak', 'Tandoori Prawns', 'Prawns Harimirch Wala', 'Dal Tadka', 'Dal Makhani', 'Paneer Tikka Masala', 'Paneer Saagwala', 'Kadai Paneer', 'Paneer Makhani', 'Mushroom Matar', 'Veg Patiala', 'Diwani Handi', 'Kadai Veg', 'Rajma', 'Sarson ka Saag', 'Aloo Gobi Masala', 'Bhindi Do Pyaza', 'Peshawari Channa', 'Malai Kofta', 'Kaju Masala', 'Egg Bhurji', 'Egg Masala', 'Rarra Mutton', 'Mutton Rogan Josh', 'Methi Macchi Masala', 'Macchi Jalfrezi', 'Prawns Masala', 'Plain Rice', 'Curd Rice', 'Jeera Rice', 'Veg Pulao', 'Peas Pulao', 'Veg Biryani', 'Egg Biryani', 'Murgh Dum Biryani', 'Murgh Tikka Biryani', 'Mutton Biryani', 'Prawns Biryani', 'Egg Biryani [Family Pack]', 'Murgh Dum Biryani [Family Pack]', 'Murgh Tikka Biryani [Family Pack]', 'Mutton Biryani [Family Pack]', 'Prawns Biryani [Family Pack]', 'Phulka', 'Roti', 'Butter Roti', 'Harimirch Paratha', 'Lalmirch Paratha', 'Garlic Naan', 'Naan', 'Butter Naan', 'Lachha Paratha', 'Kulcha', 'Butter Kulcha', 'Makkai Ki Roti', 'Roomali Roti', 'Afghani Naan', 'Peshawari Paratha', 'Stuffed Paratha', '8 Roti ka Chota Khazana', '12 Roti ka Bada Khazana', 'Egg Paratha', 'Mutton Keema Paratha', 'Roasted Papad', 'Masala Papad', 'Plain Curd', 'Mixed Veg Raita', 'Boondi Raita', 'Cucumber Raita', 'Pineapple Raita', 'Onion Raita', 'Mint Raita', 'Rabdi', 'Jalebi', 'Jalebi with Rabdi', 'Gulab Jamun', 'Rasgulla', 'Bhune Jeere ki Chaach', 'Jal Jeera', 'Meetha Punjabi Lassi', 'Namkeen Punjabi Lassi', 'Masala Punjabi Lassi', 'Patiala Punjabi Lassi', 'Meetha Nimboo Paani', 'Namkeen Nimboo Paani', 'Roohafza Sherbat', 'Mineral Water [1 litre]']\"],\n",
              "      dtype=object)"
            ]
          },
          "metadata": {
            "tags": []
          },
          "execution_count": 11
        }
      ]
    },
    {
      "cell_type": "code",
      "metadata": {
        "id": "tvwzZuwwBa8J",
        "colab_type": "code",
        "outputId": "a09a04cc-1030-43e0-c804-e8b6086325ba",
        "colab": {
          "base_uri": "https://localhost:8080/",
          "height": 323
        }
      },
      "source": [
        "df.isnull().sum()"
      ],
      "execution_count": 0,
      "outputs": [
        {
          "output_type": "execute_result",
          "data": {
            "text/plain": [
              "url                                0\n",
              "address                            0\n",
              "name                               0\n",
              "online_order                       0\n",
              "book_table                         0\n",
              "rate                            7775\n",
              "votes                              0\n",
              "phone                           1208\n",
              "location                          21\n",
              "rest_type                        227\n",
              "dish_liked                     28078\n",
              "cuisines                          45\n",
              "approx_cost(for two people)      346\n",
              "reviews_list                       0\n",
              "menu_item                          0\n",
              "listed_in(type)                    0\n",
              "listed_in(city)                    0\n",
              "dtype: int64"
            ]
          },
          "metadata": {
            "tags": []
          },
          "execution_count": 12
        }
      ]
    },
    {
      "cell_type": "code",
      "metadata": {
        "id": "HBMe27LuBaqa",
        "colab_type": "code",
        "colab": {}
      },
      "source": [
        "del df['dish_liked']               # too many null values so remove the column\n",
        "del df['listed_in(city)']          # 'location' column is more accurate\n",
        "df.drop(['url','phone'],axis=1,inplace=True)   # don't care about these\n",
        "del df['menu_item']                # many null values\n",
        "df.dropna(axis=0,inplace=True)     # Drop null rows as they have other missing columns too \n",
        "df=df[(df['rate']!='NEW')&(df['rate']!='-')]            # There are rows in rate with 'NEW' value "
      ],
      "execution_count": 0,
      "outputs": []
    },
    {
      "cell_type": "code",
      "metadata": {
        "id": "WbMWI_7C7Upj",
        "colab_type": "code",
        "outputId": "1baf05b7-193d-476a-ecda-b2827476160e",
        "colab": {
          "base_uri": "https://localhost:8080/",
          "height": 238
        }
      },
      "source": [
        "# Now no null values remain\n",
        "df.isnull().sum()"
      ],
      "execution_count": 8,
      "outputs": [
        {
          "output_type": "execute_result",
          "data": {
            "text/plain": [
              "address                        0\n",
              "name                           0\n",
              "online_order                   0\n",
              "book_table                     0\n",
              "rate                           0\n",
              "votes                          0\n",
              "location                       0\n",
              "rest_type                      0\n",
              "cuisines                       0\n",
              "approx_cost(for two people)    0\n",
              "reviews_list                   0\n",
              "listed_in(type)                0\n",
              "dtype: int64"
            ]
          },
          "metadata": {
            "tags": []
          },
          "execution_count": 8
        }
      ]
    },
    {
      "cell_type": "code",
      "metadata": {
        "id": "vIOXvK3HOLED",
        "colab_type": "code",
        "outputId": "389586c4-6cf7-4661-9a93-efebdfc7a358",
        "colab": {
          "base_uri": "https://localhost:8080/",
          "height": 34
        }
      },
      "source": [
        "df.shape"
      ],
      "execution_count": 0,
      "outputs": [
        {
          "output_type": "execute_result",
          "data": {
            "text/plain": [
              "(41263, 12)"
            ]
          },
          "metadata": {
            "tags": []
          },
          "execution_count": 15
        }
      ]
    },
    {
      "cell_type": "code",
      "metadata": {
        "id": "MiJbSoOY8JkA",
        "colab_type": "code",
        "outputId": "2549c55c-67a5-4af2-e50f-ce27d7eb6a61",
        "colab": {
          "base_uri": "https://localhost:8080/",
          "height": 289
        }
      },
      "source": [
        "# Now change the order of columns and their data types\n",
        "df=df.loc[:,['name','address','location','listed_in(type)','cuisines','approx_cost(for two people)','online_order','book_table','rate','votes','reviews_list']]\n",
        "df=df.rename(columns={'listed_in(type)':'rest_type','approx_cost(for two people)':'cost(per person)','rate':'rating'})\n",
        "df.info()"
      ],
      "execution_count": 9,
      "outputs": [
        {
          "output_type": "stream",
          "text": [
            "<class 'pandas.core.frame.DataFrame'>\n",
            "Int64Index: 41263 entries, 0 to 51716\n",
            "Data columns (total 11 columns):\n",
            "name                41263 non-null object\n",
            "address             41263 non-null object\n",
            "location            41263 non-null object\n",
            "rest_type           41263 non-null object\n",
            "cuisines            41263 non-null object\n",
            "cost(per person)    41263 non-null object\n",
            "online_order        41263 non-null object\n",
            "book_table          41263 non-null object\n",
            "rating              41263 non-null object\n",
            "votes               41263 non-null int64\n",
            "reviews_list        41263 non-null object\n",
            "dtypes: int64(1), object(10)\n",
            "memory usage: 3.8+ MB\n"
          ],
          "name": "stdout"
        }
      ]
    },
    {
      "cell_type": "code",
      "metadata": {
        "id": "nuUPbOIN8JKj",
        "colab_type": "code",
        "colab": {}
      },
      "source": [
        "df['rating']=df['rating'].apply(lambda x:x.replace('/5',''))     # Removes '/5' from rating\n",
        "df['cost(per person)']=df['cost(per person)'].apply(lambda x:x.replace(',',''))    # removes thousand indicators(,)\n",
        "\n",
        "df['book_table']=df['book_table'].astype('category').cat.codes\n",
        "df['online_order']=df['online_order'].astype('category').cat.codes\n",
        "\n",
        "df[['cost(per person)','votes','online_order','book_table']]=df[['cost(per person)','votes','online_order','book_table']].astype(np.int64)\n",
        "df['cost(per person)']=df['cost(per person)'].apply(lambda x:np.int64(x/2))   # find cost per person\n",
        "df['rating']=df['rating'].astype(np.float)\n"
      ],
      "execution_count": 0,
      "outputs": []
    },
    {
      "cell_type": "code",
      "metadata": {
        "id": "4IjzX3ifHScR",
        "colab_type": "code",
        "outputId": "42337a38-0061-4833-c772-312f64d947e9",
        "colab": {
          "base_uri": "https://localhost:8080/",
          "height": 289
        }
      },
      "source": [
        "df.info()"
      ],
      "execution_count": 0,
      "outputs": [
        {
          "output_type": "stream",
          "text": [
            "<class 'pandas.core.frame.DataFrame'>\n",
            "Int64Index: 41263 entries, 0 to 51716\n",
            "Data columns (total 11 columns):\n",
            "name                41263 non-null object\n",
            "address             41263 non-null object\n",
            "location            41263 non-null object\n",
            "rest_type           41263 non-null object\n",
            "cuisines            41263 non-null object\n",
            "cost(per person)    41263 non-null int64\n",
            "online_order        41263 non-null int64\n",
            "book_table          41263 non-null int64\n",
            "rating              41263 non-null float64\n",
            "votes               41263 non-null int64\n",
            "reviews_list        41263 non-null object\n",
            "dtypes: float64(1), int64(4), object(6)\n",
            "memory usage: 3.8+ MB\n"
          ],
          "name": "stdout"
        }
      ]
    },
    {
      "cell_type": "code",
      "metadata": {
        "id": "aMNuT9Sa7w2e",
        "colab_type": "code",
        "colab": {}
      },
      "source": [
        "df=df.reset_index()\n",
        "del df['index']"
      ],
      "execution_count": 0,
      "outputs": []
    },
    {
      "cell_type": "code",
      "metadata": {
        "id": "7qaqmxsTR85t",
        "colab_type": "code",
        "colab": {}
      },
      "source": [
        "# Add a revenue column\n",
        "revenue=df['cost(per person)']*df['votes']\n",
        "df.insert(10,'revenue',revenue)"
      ],
      "execution_count": 0,
      "outputs": []
    },
    {
      "cell_type": "code",
      "metadata": {
        "id": "r8yW5g-5WiGi",
        "colab_type": "code",
        "outputId": "eb038579-8c08-4e9e-d030-e2717140fa38",
        "colab": {
          "base_uri": "https://localhost:8080/",
          "height": 54
        }
      },
      "source": [
        "df['reviews_list'][1]"
      ],
      "execution_count": 0,
      "outputs": [
        {
          "output_type": "execute_result",
          "data": {
            "text/plain": [
              "'[(\\'Rated 4.0\\', \\'RATED\\\\n  Had been here for dinner with family. Turned out to be a good choose suitable for all ages of people. Can try this place. We liked the most was their starters. Service is good. Prices are affordable. Will recommend this restaurant for early dinner. The place is little noisy.\\'), (\\'Rated 3.0\\', \\'RATED\\\\n  The ambience is really nice, staff is courteous. The price is pretty high for the quantity, but overall the experience was fine. The quality of food is nice but nothing extraordinary. They also have buffet(only veg)\\'), (\\'Rated 3.0\\', \\'RATED\\\\n  I felt good is little expensive for the quantity they serve and In terms of taste is decent. There is nothing much to talk about the ambience, regular casual dining restaurant where you can take your family for dinner or lunch. If they improve on that quantity or may be reduce the price a bit or may be improve the presentation of the food it might Manage to get more repeat customers.\\'), (\\'Rated 4.0\\', \\'RATED\\\\n  I was looking for a quite place to spend some time with family and as well wanted to try some new place. Since I was at Banashankari I thought of trying this place. The place had good rating and was part of Zomato gold. So I decided to try this place. It was a delite to see a very friendly staff and food we ordered was very tasty as well.\\\\n\\\\nFood : 4/5\\\\nAmbience :3/5\\\\nFriendly staff : 4/5\\\\nPocket friendly : 4/5\\\\n\\\\nWill definitely visit again ??\\'), (\\'Rated 4.0\\', \"RATED\\\\n  Nice place to dine and has a good ambiance... Food is good and the serving time is also good..neat restrooms and we\\'ll arranged tables....only thing is we went at 12.30 for lunch...and we noticed that they kept on playing one music back to back which was a little annoying...\\\\n\\\\n1. Chicken biriyani was so good and the chicken was fresh and tender ,rice was well cooked and overall was great\\\\n\\\\n2. Mutton biriyani was very very good and tasty and It had plenty of mutton pieces...\"), (\\'Rated 5.0\\', \\'RATED\\\\n  This place just cool ? with good ambience and slow music and having delicious food is where you find peace. Staff very friendly and they have maintained the place so clean. The price is average for what the quantity of food they serve.\\\\nThom yum Thai soup was best and was treat to mouth, roti was soft with that vilaythi paneer was perfect to have for veggie foodies, in rice we tried burnt garlic fried rice with vegetables and it was the perfect thing to end.\\'), (\\'Rated 4.0\\', \"RATED\\\\n  Quiet a good family type of place.. too calm and usually we don\\'t find crowd here.. panner curry and the deserts is what we had tasted.. they wer really good but we found it a little expensive\"), (\\'Rated 2.0\\', \"RATED\\\\n  I had a very bad experience here.\\\\nI don\\'t know about a la carte, but the buffet was the worst. They gave us complementary drink and momos before the buffet. The momos were really good.\\\\nThe number of varieties first of all was very disappointing. The service was very slow. They refilled the food very slowly. The starters were okay. The main course also was so so. There was two gravies with roti and some rice with raitha. They had chats, sev puri and pan puri, which was average. But the desert was disappointing. They had gulab Jamun and chocolate cake. The jamun was not cooked inside. There was a cold blob of raw dough inside. The chocolate cake also was really hard and not that good.\\\\nOverall the buffet was a bad experience for me.\"), (\\'Rated 4.0\\', \"RATED\\\\n  Food: 8/10\\\\nAmbience:8/10\\\\nStaff:8/10\\\\nOne of the good places to try north Indian food...but depends on ur taste buds. Not everyone will like all the items here. Specially when u r particular abt sweet and spicy food.\\\\nThere\\'s buffet available too.\\\\nWe had ordered paneer uttar dakshin and paneer kurchan..was amazing. The Gobi hara pyaz and mix veg were average.\"), (\\'Rated 3.0\\', \\'RATED\\\\n  A decent place for a family lunch or dinner.. well arranged in a simple manner. Food was tasty and the crew was very helpful and understanding..\\'), (\\'Rated 4.0\\', \"RATED\\\\n  Great place to have a heavy lunch. Good service.\\\\nThe chicken biryani was undoubtedly one of the best I\\'ve had. Biriyani and Lassi would be the suggested combo. Buffet is the talk of the place, so try according to your appetite. A nice place.\"), (\\'Rated 4.0\\', \\'RATED\\\\n  Its the one restaurant near katriguppe that i found was really good. Good variety of Chinese and thai dishes. Service is good and good place to hangout with family as its a peaceful place where noise is really less and good view.\\'), (\\'Rated 2.0\\', \"RATED\\\\n  Spice elephant soup SPL: almost manchow flavour soup.. Just above medium spicy\\\\n\\\\nLasooni fish tikka was awesome\\\\n\\\\nI don\\'t remember the dessert name but I have attached the photo .. It had vanilla ice inside wafers... Wafer was hell hard, egg smell chewy ... Nightmare dessert !\\\\n\\\\nTable leg space was very bad... I was so uncomfortable, the whole time kept on adjusting my legs\\\\n\\\\nNo parking\\\\n\\\\nFor the taste felt this is too costly\"), (\\'Rated 4.0\\', \\'RATED\\\\n  Zomato gold partner at this price. It was insane. They have really nice food. small place with very courteous staff and very cheap food for this ambience. Cost of soups is 80-100. Starters from 150-250. Main course 200-300. Cost for two was 800 for us.\\')]'"
            ]
          },
          "metadata": {
            "tags": []
          },
          "execution_count": 37
        }
      ]
    },
    {
      "cell_type": "code",
      "metadata": {
        "id": "LSpw73KpR8rA",
        "colab_type": "code",
        "outputId": "aa3af483-c5a8-485e-e60d-dcc2b1326ed2",
        "colab": {
          "base_uri": "https://localhost:8080/",
          "height": 1000
        }
      },
      "source": [
        "\n",
        "# df['reviews_list'][1]\n",
        "for i in df['reviews_list'][1].split('),'):\n",
        "    pprint(i)"
      ],
      "execution_count": 0,
      "outputs": [
        {
          "output_type": "stream",
          "text": [
            "(\"[('Rated 4.0', 'RATED\\\\n  Had been here for dinner with family. Turned out \"\n",
            " 'to be a good choose suitable for all ages of people. Can try this place. We '\n",
            " 'liked the most was their starters. Service is good. Prices are affordable. '\n",
            " \"Will recommend this restaurant for early dinner. The place is little noisy.'\")\n",
            "(\" ('Rated 3.0', 'RATED\\\\n  The ambience is really nice, staff is courteous. \"\n",
            " 'The price is pretty high for the quantity, but overall the experience was '\n",
            " 'fine. The quality of food is nice but nothing extraordinary. They also have '\n",
            " \"buffet(only veg)'\")\n",
            "(\" ('Rated 3.0', 'RATED\\\\n  I felt good is little expensive for the quantity \"\n",
            " 'they serve and In terms of taste is decent. There is nothing much to talk '\n",
            " 'about the ambience, regular casual dining restaurant where you can take your '\n",
            " 'family for dinner or lunch. If they improve on that quantity or may be '\n",
            " 'reduce the price a bit or may be improve the presentation of the food it '\n",
            " \"might Manage to get more repeat customers.'\")\n",
            "(\" ('Rated 4.0', 'RATED\\\\n  I was looking for a quite place to spend some time \"\n",
            " 'with family and as well wanted to try some new place. Since I was at '\n",
            " 'Banashankari I thought of trying this place. The place had good rating and '\n",
            " 'was part of Zomato gold. So I decided to try this place. It was a delite to '\n",
            " 'see a very friendly staff and food we ordered was very tasty as '\n",
            " 'well.\\\\n\\\\nFood : 4/5\\\\nAmbience :3/5\\\\nFriendly staff : 4/5\\\\nPocket '\n",
            " \"friendly : 4/5\\\\n\\\\nWill definitely visit again ??'\")\n",
            "(' (\\'Rated 4.0\\', \"RATED\\\\n  Nice place to dine and has a good ambiance... '\n",
            " \"Food is good and the serving time is also good..neat restrooms and we'll \"\n",
            " 'arranged tables....only thing is we went at 12.30 for lunch...and we noticed '\n",
            " 'that they kept on playing one music back to back which was a little '\n",
            " 'annoying...\\\\n\\\\n1. Chicken biriyani was so good and the chicken was fresh '\n",
            " 'and tender ,rice was well cooked and overall was great\\\\n\\\\n2. Mutton '\n",
            " 'biriyani was very very good and tasty and It had plenty of mutton pieces...\"')\n",
            "(\" ('Rated 5.0', 'RATED\\\\n  This place just cool ? with good ambience and slow \"\n",
            " 'music and having delicious food is where you find peace. Staff very friendly '\n",
            " 'and they have maintained the place so clean. The price is average for what '\n",
            " 'the quantity of food they serve.\\\\nThom yum Thai soup was best and was treat '\n",
            " 'to mouth, roti was soft with that vilaythi paneer was perfect to have for '\n",
            " 'veggie foodies, in rice we tried burnt garlic fried rice with vegetables and '\n",
            " \"it was the perfect thing to end.'\")\n",
            "(' (\\'Rated 4.0\\', \"RATED\\\\n  Quiet a good family type of place.. too calm and '\n",
            " \"usually we don't find crowd here.. panner curry and the deserts is what we \"\n",
            " 'had tasted.. they wer really good but we found it a little expensive\"')\n",
            "(' (\\'Rated 2.0\\', \"RATED\\\\n  I had a very bad experience here.\\\\nI don\\'t '\n",
            " 'know about a la carte, but the buffet was the worst. They gave us '\n",
            " 'complementary drink and momos before the buffet. The momos were really '\n",
            " 'good.\\\\nThe number of varieties first of all was very disappointing. The '\n",
            " 'service was very slow. They refilled the food very slowly. The starters were '\n",
            " 'okay. The main course also was so so. There was two gravies with roti and '\n",
            " 'some rice with raitha. They had chats, sev puri and pan puri, which was '\n",
            " 'average. But the desert was disappointing. They had gulab Jamun and '\n",
            " 'chocolate cake. The jamun was not cooked inside. There was a cold blob of '\n",
            " 'raw dough inside. The chocolate cake also was really hard and not that '\n",
            " 'good.\\\\nOverall the buffet was a bad experience for me.\"')\n",
            "(' (\\'Rated 4.0\\', \"RATED\\\\n  Food: 8/10\\\\nAmbience:8/10\\\\nStaff:8/10\\\\nOne of '\n",
            " 'the good places to try north Indian food...but depends on ur taste buds. Not '\n",
            " 'everyone will like all the items here. Specially when u r particular abt '\n",
            " \"sweet and spicy food.\\\\nThere's buffet available too.\\\\nWe had ordered \"\n",
            " 'paneer uttar dakshin and paneer kurchan..was amazing. The Gobi hara pyaz and '\n",
            " 'mix veg were average.\"')\n",
            "(\" ('Rated 3.0', 'RATED\\\\n  A decent place for a family lunch or dinner.. well \"\n",
            " 'arranged in a simple manner. Food was tasty and the crew was very helpful '\n",
            " \"and understanding..'\")\n",
            "(' (\\'Rated 4.0\\', \"RATED\\\\n  Great place to have a heavy lunch. Good '\n",
            " \"service.\\\\nThe chicken biryani was undoubtedly one of the best I've had. \"\n",
            " 'Biriyani and Lassi would be the suggested combo. Buffet is the talk of the '\n",
            " 'place, so try according to your appetite. A nice place.\"')\n",
            "(\" ('Rated 4.0', 'RATED\\\\n  Its the one restaurant near katriguppe that i \"\n",
            " 'found was really good. Good variety of Chinese and thai dishes. Service is '\n",
            " 'good and good place to hangout with family as its a peaceful place where '\n",
            " \"noise is really less and good view.'\")\n",
            "(' (\\'Rated 2.0\\', \"RATED\\\\n  Spice elephant soup SPL: almost manchow flavour '\n",
            " 'soup.. Just above medium spicy\\\\n\\\\nLasooni fish tikka was awesome\\\\n\\\\nI '\n",
            " \"don't remember the dessert name but I have attached the photo .. It had \"\n",
            " 'vanilla ice inside wafers... Wafer was hell hard, egg smell chewy ... '\n",
            " 'Nightmare dessert !\\\\n\\\\nTable leg space was very bad... I was so '\n",
            " 'uncomfortable, the whole time kept on adjusting my legs\\\\n\\\\nNo '\n",
            " 'parking\\\\n\\\\nFor the taste felt this is too costly\"')\n",
            "(\" ('Rated 4.0', 'RATED\\\\n  Zomato gold partner at this price. It was insane. \"\n",
            " 'They have really nice food. small place with very courteous staff and very '\n",
            " 'cheap food for this ambience. Cost of soups is 80-100. Starters from '\n",
            " \"150-250. Main course 200-300. Cost for two was 800 for us.')]\")\n"
          ],
          "name": "stdout"
        }
      ]
    },
    {
      "cell_type": "code",
      "metadata": {
        "id": "937H6CiOR7tv",
        "colab_type": "code",
        "colab": {}
      },
      "source": [
        ""
      ],
      "execution_count": 0,
      "outputs": []
    },
    {
      "cell_type": "code",
      "metadata": {
        "id": "6D33V489R7Xa",
        "colab_type": "code",
        "colab": {}
      },
      "source": [
        ""
      ],
      "execution_count": 0,
      "outputs": []
    },
    {
      "cell_type": "code",
      "metadata": {
        "id": "dTegZM2F5FQS",
        "colab_type": "code",
        "colab": {}
      },
      "source": [
        "# for i,val in enumerate(df['name'].to_list()[:]):\n",
        "#     for j in val.split(' '):\n",
        "#         if (not j.isalnum()):\n",
        "#             if ('&' not in val) and ('-' not in val) and ('\\'' not in val) and ('.' not in val):\n",
        "#                 print(i,val)\n"
      ],
      "execution_count": 0,
      "outputs": []
    },
    {
      "cell_type": "code",
      "metadata": {
        "id": "CbYo2oc9_7Sd",
        "colab_type": "code",
        "outputId": "77e5d536-1e00-4fa2-a770-c68ed3311fa5",
        "colab": {
          "base_uri": "https://localhost:8080/",
          "height": 122
        }
      },
      "source": [
        "# from google.colab import drive\n",
        "# drive.mount('/content/drive')"
      ],
      "execution_count": 0,
      "outputs": [
        {
          "output_type": "stream",
          "text": [
            "Go to this URL in a browser: https://accounts.google.com/o/oauth2/auth?client_id=947318989803-6bn6qk8qdgf4n4g3pfee6491hc0brc4i.apps.googleusercontent.com&redirect_uri=urn%3aietf%3awg%3aoauth%3a2.0%3aoob&response_type=code&scope=email%20https%3a%2f%2fwww.googleapis.com%2fauth%2fdocs.test%20https%3a%2f%2fwww.googleapis.com%2fauth%2fdrive%20https%3a%2f%2fwww.googleapis.com%2fauth%2fdrive.photos.readonly%20https%3a%2f%2fwww.googleapis.com%2fauth%2fpeopleapi.readonly\n",
            "\n",
            "Enter your authorization code:\n",
            "··········\n",
            "Mounted at /content/drive\n"
          ],
          "name": "stdout"
        }
      ]
    },
    {
      "cell_type": "code",
      "metadata": {
        "id": "40cTEfZ28aXt",
        "colab_type": "code",
        "colab": {}
      },
      "source": [
        "# df.to_csv('/content/Dsc_data_v3.csv')\n",
        "# !cp '/content/Dsc_data_v3.csv' '/content/drive/My Drive/Data/Dsc_data_v3.csv'"
      ],
      "execution_count": 0,
      "outputs": []
    },
    {
      "cell_type": "markdown",
      "metadata": {
        "id": "p9U-NA8K8TbX",
        "colab_type": "text"
      },
      "source": [
        "# EDA"
      ]
    },
    {
      "cell_type": "code",
      "metadata": {
        "id": "u30NPwBW8NWH",
        "colab_type": "code",
        "outputId": "3bd936c7-9f52-49c8-88d2-596e71ea5646",
        "colab": {
          "base_uri": "https://localhost:8080/",
          "height": 963
        }
      },
      "source": [
        "df"
      ],
      "execution_count": 0,
      "outputs": [
        {
          "output_type": "execute_result",
          "data": {
            "text/html": [
              "<div>\n",
              "<style scoped>\n",
              "    .dataframe tbody tr th:only-of-type {\n",
              "        vertical-align: middle;\n",
              "    }\n",
              "\n",
              "    .dataframe tbody tr th {\n",
              "        vertical-align: top;\n",
              "    }\n",
              "\n",
              "    .dataframe thead th {\n",
              "        text-align: right;\n",
              "    }\n",
              "</style>\n",
              "<table border=\"1\" class=\"dataframe\">\n",
              "  <thead>\n",
              "    <tr style=\"text-align: right;\">\n",
              "      <th></th>\n",
              "      <th>name</th>\n",
              "      <th>address</th>\n",
              "      <th>location</th>\n",
              "      <th>rest_type</th>\n",
              "      <th>cuisines</th>\n",
              "      <th>cost(per person)</th>\n",
              "      <th>online_order</th>\n",
              "      <th>book_table</th>\n",
              "      <th>rating</th>\n",
              "      <th>votes</th>\n",
              "      <th>revenue</th>\n",
              "      <th>reviews_list</th>\n",
              "    </tr>\n",
              "  </thead>\n",
              "  <tbody>\n",
              "    <tr>\n",
              "      <th>0</th>\n",
              "      <td>Jalsa</td>\n",
              "      <td>942, 21st Main Road, 2nd Stage, Banashankari, ...</td>\n",
              "      <td>Banashankari</td>\n",
              "      <td>Buffet</td>\n",
              "      <td>North Indian, Mughlai, Chinese</td>\n",
              "      <td>400</td>\n",
              "      <td>1</td>\n",
              "      <td>1</td>\n",
              "      <td>4.1</td>\n",
              "      <td>775</td>\n",
              "      <td>310000</td>\n",
              "      <td>[('Rated 4.0', 'RATED\\n  A beautiful place to ...</td>\n",
              "    </tr>\n",
              "    <tr>\n",
              "      <th>1</th>\n",
              "      <td>Spice Elephant</td>\n",
              "      <td>2nd Floor, 80 Feet Road, Near Big Bazaar, 6th ...</td>\n",
              "      <td>Banashankari</td>\n",
              "      <td>Buffet</td>\n",
              "      <td>Chinese, North Indian, Thai</td>\n",
              "      <td>400</td>\n",
              "      <td>1</td>\n",
              "      <td>0</td>\n",
              "      <td>4.1</td>\n",
              "      <td>787</td>\n",
              "      <td>314800</td>\n",
              "      <td>[('Rated 4.0', 'RATED\\n  Had been here for din...</td>\n",
              "    </tr>\n",
              "    <tr>\n",
              "      <th>2</th>\n",
              "      <td>San Churro Cafe</td>\n",
              "      <td>1112, Next to KIMS Medical College, 17th Cross...</td>\n",
              "      <td>Banashankari</td>\n",
              "      <td>Buffet</td>\n",
              "      <td>Cafe, Mexican, Italian</td>\n",
              "      <td>400</td>\n",
              "      <td>1</td>\n",
              "      <td>0</td>\n",
              "      <td>3.8</td>\n",
              "      <td>918</td>\n",
              "      <td>367200</td>\n",
              "      <td>[('Rated 3.0', \"RATED\\n  Ambience is not that ...</td>\n",
              "    </tr>\n",
              "    <tr>\n",
              "      <th>3</th>\n",
              "      <td>Addhuri Udupi Bhojana</td>\n",
              "      <td>1st Floor, Annakuteera, 3rd Stage, Banashankar...</td>\n",
              "      <td>Banashankari</td>\n",
              "      <td>Buffet</td>\n",
              "      <td>South Indian, North Indian</td>\n",
              "      <td>150</td>\n",
              "      <td>0</td>\n",
              "      <td>0</td>\n",
              "      <td>3.7</td>\n",
              "      <td>88</td>\n",
              "      <td>13200</td>\n",
              "      <td>[('Rated 4.0', \"RATED\\n  Great food and proper...</td>\n",
              "    </tr>\n",
              "    <tr>\n",
              "      <th>4</th>\n",
              "      <td>Grand Village</td>\n",
              "      <td>10, 3rd Floor, Lakshmi Associates, Gandhi Baza...</td>\n",
              "      <td>Basavanagudi</td>\n",
              "      <td>Buffet</td>\n",
              "      <td>North Indian, Rajasthani</td>\n",
              "      <td>300</td>\n",
              "      <td>0</td>\n",
              "      <td>0</td>\n",
              "      <td>3.8</td>\n",
              "      <td>166</td>\n",
              "      <td>49800</td>\n",
              "      <td>[('Rated 4.0', 'RATED\\n  Very good restaurant ...</td>\n",
              "    </tr>\n",
              "    <tr>\n",
              "      <th>...</th>\n",
              "      <td>...</td>\n",
              "      <td>...</td>\n",
              "      <td>...</td>\n",
              "      <td>...</td>\n",
              "      <td>...</td>\n",
              "      <td>...</td>\n",
              "      <td>...</td>\n",
              "      <td>...</td>\n",
              "      <td>...</td>\n",
              "      <td>...</td>\n",
              "      <td>...</td>\n",
              "      <td>...</td>\n",
              "    </tr>\n",
              "    <tr>\n",
              "      <th>41258</th>\n",
              "      <td>The Farm House Bar n Grill</td>\n",
              "      <td>136, SAP Labs India, KIADB Export Promotion In...</td>\n",
              "      <td>Whitefield</td>\n",
              "      <td>Pubs and bars</td>\n",
              "      <td>North Indian, Continental</td>\n",
              "      <td>400</td>\n",
              "      <td>0</td>\n",
              "      <td>0</td>\n",
              "      <td>3.7</td>\n",
              "      <td>34</td>\n",
              "      <td>13600</td>\n",
              "      <td>[('Rated 4.0', 'RATED\\n  Ambience- Big and spa...</td>\n",
              "    </tr>\n",
              "    <tr>\n",
              "      <th>41259</th>\n",
              "      <td>Bhagini</td>\n",
              "      <td>139/C1, Next To GR Tech Park, Pattandur Agraha...</td>\n",
              "      <td>Whitefield</td>\n",
              "      <td>Pubs and bars</td>\n",
              "      <td>Andhra, South Indian, Chinese, North Indian</td>\n",
              "      <td>400</td>\n",
              "      <td>0</td>\n",
              "      <td>0</td>\n",
              "      <td>2.5</td>\n",
              "      <td>81</td>\n",
              "      <td>32400</td>\n",
              "      <td>[('Rated 4.0', 'RATED\\n  A fine place to chill...</td>\n",
              "    </tr>\n",
              "    <tr>\n",
              "      <th>41260</th>\n",
              "      <td>Best Brews - Four Points by Sheraton Bengaluru...</td>\n",
              "      <td>Four Points by Sheraton Bengaluru, 43/3, White...</td>\n",
              "      <td>Whitefield</td>\n",
              "      <td>Pubs and bars</td>\n",
              "      <td>Continental</td>\n",
              "      <td>750</td>\n",
              "      <td>0</td>\n",
              "      <td>0</td>\n",
              "      <td>3.6</td>\n",
              "      <td>27</td>\n",
              "      <td>20250</td>\n",
              "      <td>[('Rated 5.0', \"RATED\\n  Food and service are ...</td>\n",
              "    </tr>\n",
              "    <tr>\n",
              "      <th>41261</th>\n",
              "      <td>Chime - Sheraton Grand Bengaluru Whitefield Ho...</td>\n",
              "      <td>Sheraton Grand Bengaluru Whitefield Hotel &amp; Co...</td>\n",
              "      <td>ITPL Main Road, Whitefield</td>\n",
              "      <td>Pubs and bars</td>\n",
              "      <td>Finger Food</td>\n",
              "      <td>1250</td>\n",
              "      <td>0</td>\n",
              "      <td>1</td>\n",
              "      <td>4.3</td>\n",
              "      <td>236</td>\n",
              "      <td>295000</td>\n",
              "      <td>[('Rated 4.0', 'RATED\\n  Nice and friendly pla...</td>\n",
              "    </tr>\n",
              "    <tr>\n",
              "      <th>41262</th>\n",
              "      <td>The Nest - The Den Bengaluru</td>\n",
              "      <td>ITPL Main Road, KIADB Export Promotion Industr...</td>\n",
              "      <td>ITPL Main Road, Whitefield</td>\n",
              "      <td>Pubs and bars</td>\n",
              "      <td>Finger Food, North Indian, Continental</td>\n",
              "      <td>750</td>\n",
              "      <td>0</td>\n",
              "      <td>0</td>\n",
              "      <td>3.4</td>\n",
              "      <td>13</td>\n",
              "      <td>9750</td>\n",
              "      <td>[('Rated 5.0', 'RATED\\n  Great ambience , look...</td>\n",
              "    </tr>\n",
              "  </tbody>\n",
              "</table>\n",
              "<p>41263 rows × 12 columns</p>\n",
              "</div>"
            ],
            "text/plain": [
              "                                                    name  ...                                       reviews_list\n",
              "0                                                  Jalsa  ...  [('Rated 4.0', 'RATED\\n  A beautiful place to ...\n",
              "1                                         Spice Elephant  ...  [('Rated 4.0', 'RATED\\n  Had been here for din...\n",
              "2                                        San Churro Cafe  ...  [('Rated 3.0', \"RATED\\n  Ambience is not that ...\n",
              "3                                  Addhuri Udupi Bhojana  ...  [('Rated 4.0', \"RATED\\n  Great food and proper...\n",
              "4                                          Grand Village  ...  [('Rated 4.0', 'RATED\\n  Very good restaurant ...\n",
              "...                                                  ...  ...                                                ...\n",
              "41258                         The Farm House Bar n Grill  ...  [('Rated 4.0', 'RATED\\n  Ambience- Big and spa...\n",
              "41259                                            Bhagini  ...  [('Rated 4.0', 'RATED\\n  A fine place to chill...\n",
              "41260  Best Brews - Four Points by Sheraton Bengaluru...  ...  [('Rated 5.0', \"RATED\\n  Food and service are ...\n",
              "41261  Chime - Sheraton Grand Bengaluru Whitefield Ho...  ...  [('Rated 4.0', 'RATED\\n  Nice and friendly pla...\n",
              "41262                       The Nest - The Den Bengaluru  ...  [('Rated 5.0', 'RATED\\n  Great ambience , look...\n",
              "\n",
              "[41263 rows x 12 columns]"
            ]
          },
          "metadata": {
            "tags": []
          },
          "execution_count": 32
        }
      ]
    },
    {
      "cell_type": "code",
      "metadata": {
        "id": "v-_JfWn4OMLC",
        "colab_type": "code",
        "outputId": "7e4c33ed-90f2-4def-b4ca-8d6b1c38cde9",
        "colab": {
          "base_uri": "https://localhost:8080/",
          "height": 1000
        }
      },
      "source": [
        "list(set(itertools.chain(*[i.split(', ') for i in df['cuisines'].unique()])))   # 105 in number"
      ],
      "execution_count": 0,
      "outputs": [
        {
          "output_type": "execute_result",
          "data": {
            "text/plain": [
              "['Parsi',\n",
              " 'Gujarati',\n",
              " 'Seafood',\n",
              " 'North Eastern',\n",
              " 'Greek',\n",
              " 'Afghani',\n",
              " 'Hyderabadi',\n",
              " 'Desserts',\n",
              " 'Maharashtrian',\n",
              " 'Healthy Food',\n",
              " 'Biryani',\n",
              " 'Chinese',\n",
              " 'Bohri',\n",
              " 'Indian',\n",
              " 'Bihari',\n",
              " 'Mangalorean',\n",
              " 'Fast Food',\n",
              " 'Italian',\n",
              " 'Bakery',\n",
              " 'French',\n",
              " 'Singaporean',\n",
              " 'Roast Chicken',\n",
              " 'Kebab',\n",
              " 'Naga',\n",
              " 'Konkan',\n",
              " 'Hot dogs',\n",
              " 'Kashmiri',\n",
              " 'Arabian',\n",
              " 'Rolls',\n",
              " 'Sandwich',\n",
              " 'Tea',\n",
              " 'Charcoal Chicken',\n",
              " 'Middle Eastern',\n",
              " 'Chettinad',\n",
              " 'Momos',\n",
              " 'Vegan',\n",
              " 'Cafe',\n",
              " 'Mediterranean',\n",
              " 'Salad',\n",
              " 'Jewish',\n",
              " 'North Indian',\n",
              " 'Raw Meats',\n",
              " 'Bengali',\n",
              " 'Mithai',\n",
              " 'Mongolian',\n",
              " 'Awadhi',\n",
              " 'Malaysian',\n",
              " 'Russian',\n",
              " 'African',\n",
              " 'Lebanese',\n",
              " 'Korean',\n",
              " 'Pizza',\n",
              " 'Ice Cream',\n",
              " 'Vietnamese',\n",
              " 'German',\n",
              " 'Indonesian',\n",
              " 'Belgian',\n",
              " 'Tex-Mex',\n",
              " 'Beverages',\n",
              " 'British',\n",
              " 'Tibetan',\n",
              " 'Iranian',\n",
              " 'European',\n",
              " 'Sri Lankan',\n",
              " 'Turkish',\n",
              " 'Mughlai',\n",
              " 'Thai',\n",
              " 'Afghan',\n",
              " 'Rajasthani',\n",
              " 'BBQ',\n",
              " 'Australian',\n",
              " 'Mexican',\n",
              " 'Paan',\n",
              " 'Street Food',\n",
              " 'Drinks Only',\n",
              " 'Wraps',\n",
              " 'Asian',\n",
              " 'Finger Food',\n",
              " 'Oriya',\n",
              " 'South American',\n",
              " 'Cantonese',\n",
              " 'Spanish',\n",
              " 'Bar Food',\n",
              " 'Steak',\n",
              " 'Portuguese',\n",
              " 'Sindhi',\n",
              " 'Modern Indian',\n",
              " 'Assamese',\n",
              " 'Burmese',\n",
              " 'Sushi',\n",
              " 'American',\n",
              " 'Coffee',\n",
              " 'South Indian',\n",
              " 'Lucknowi',\n",
              " 'Nepalese',\n",
              " 'Japanese',\n",
              " 'Continental',\n",
              " 'Burger',\n",
              " 'Pan Asian',\n",
              " 'Grill',\n",
              " 'Goan',\n",
              " 'Kerala',\n",
              " 'Tamil',\n",
              " 'Andhra',\n",
              " 'Bubble Tea',\n",
              " 'Juices']"
            ]
          },
          "metadata": {
            "tags": []
          },
          "execution_count": 101
        }
      ]
    },
    {
      "cell_type": "code",
      "metadata": {
        "id": "9rsaC6YYOMBG",
        "colab_type": "code",
        "outputId": "db30a1e1-5005-4e4d-82f2-cac0f7890ffb",
        "colab": {
          "base_uri": "https://localhost:8080/",
          "height": 136
        }
      },
      "source": [
        "list(set(itertools.chain(*[i.split(', ') for i in df['rest_type'].unique()])))     # 7 in number"
      ],
      "execution_count": 0,
      "outputs": [
        {
          "output_type": "execute_result",
          "data": {
            "text/plain": [
              "['Cafes',\n",
              " 'Pubs and bars',\n",
              " 'Dine-out',\n",
              " 'Buffet',\n",
              " 'Drinks & nightlife',\n",
              " 'Desserts',\n",
              " 'Delivery']"
            ]
          },
          "metadata": {
            "tags": []
          },
          "execution_count": 48
        }
      ]
    },
    {
      "cell_type": "code",
      "metadata": {
        "id": "q8UH_ijyOL4D",
        "colab_type": "code",
        "outputId": "8d2d0ac7-5a51-4aeb-db88-820b21a8b865",
        "colab": {
          "base_uri": "https://localhost:8080/",
          "height": 476
        }
      },
      "source": [
        "df['location'].unique()      # 92 in number"
      ],
      "execution_count": 0,
      "outputs": [
        {
          "output_type": "execute_result",
          "data": {
            "text/plain": [
              "array(['Banashankari', 'Basavanagudi', 'Mysore Road', 'Jayanagar',\n",
              "       'Kumaraswamy Layout', 'Rajarajeshwari Nagar', 'Vijay Nagar',\n",
              "       'Uttarahalli', 'JP Nagar', 'South Bangalore', 'City Market',\n",
              "       'Bannerghatta Road', 'BTM', 'Kanakapura Road', 'Bommanahalli',\n",
              "       'CV Raman Nagar', 'Electronic City', 'Wilson Garden',\n",
              "       'Shanti Nagar', 'Koramangala 5th Block', 'Richmond Road', 'HSR',\n",
              "       'Marathahalli', 'Koramangala 7th Block', 'Bellandur',\n",
              "       'Sarjapur Road', 'Whitefield', 'East Bangalore',\n",
              "       'Old Airport Road', 'Indiranagar', 'Koramangala 1st Block',\n",
              "       'Frazer Town', 'MG Road', 'Brigade Road', 'Lavelle Road',\n",
              "       'Church Street', 'Ulsoor', 'Residency Road', 'Shivajinagar',\n",
              "       'Infantry Road', 'St. Marks Road', 'Cunningham Road',\n",
              "       'Race Course Road', 'Commercial Street', 'Vasanth Nagar', 'Domlur',\n",
              "       'Koramangala 8th Block', 'Ejipura', 'Jeevan Bhima Nagar',\n",
              "       'Old Madras Road', 'Seshadripuram', 'Kammanahalli',\n",
              "       'Koramangala 6th Block', 'Majestic', 'Langford Town',\n",
              "       'Central Bangalore', 'Sanjay Nagar', 'Brookefield',\n",
              "       'ITPL Main Road, Whitefield', 'Varthur Main Road, Whitefield',\n",
              "       'Koramangala 2nd Block', 'Koramangala 3rd Block',\n",
              "       'Koramangala 4th Block', 'Koramangala', 'Hosur Road',\n",
              "       'Rajajinagar', 'RT Nagar', 'Banaswadi', 'North Bangalore',\n",
              "       'Nagawara', 'Hennur', 'Kalyan Nagar', 'HBR Layout',\n",
              "       'Rammurthy Nagar', 'Thippasandra', 'Kaggadasapura', 'Hebbal',\n",
              "       'Kengeri', 'New BEL Road', 'Sankey Road', 'Malleshwaram',\n",
              "       'Sadashiv Nagar', 'Basaveshwara Nagar', 'Yeshwantpur',\n",
              "       'West Bangalore', 'Magadi Road', 'Yelahanka', 'Sahakara Nagar',\n",
              "       'Jalahalli', 'Nagarbhavi', 'Peenya', 'KR Puram'], dtype=object)"
            ]
          },
          "metadata": {
            "tags": []
          },
          "execution_count": 103
        }
      ]
    },
    {
      "cell_type": "code",
      "metadata": {
        "id": "CaxlbatPGOA-",
        "colab_type": "code",
        "colab": {}
      },
      "source": [
        "# list(filter(lambda x:len(x)<10,df['cuisines'].unique().tolist()))"
      ],
      "execution_count": 0,
      "outputs": []
    },
    {
      "cell_type": "markdown",
      "metadata": {
        "id": "urHwIqxgds4L",
        "colab_type": "text"
      },
      "source": [
        "# Plots"
      ]
    },
    {
      "cell_type": "code",
      "metadata": {
        "id": "oQUCr0_DOLy-",
        "colab_type": "code",
        "outputId": "a90b375c-7aed-404c-f33a-054cfe6e0269",
        "colab": {
          "base_uri": "https://localhost:8080/",
          "height": 281
        }
      },
      "source": [
        "online_cost=df.groupby('online_order').mean()\n",
        "sns.barplot(['No','Yes'],online_cost['cost(per person)'].to_list())\n",
        "plt.ylabel('Average cost')\n",
        "plt.title('Average cost per person when offering online services')\n",
        "plt.show()"
      ],
      "execution_count": 0,
      "outputs": [
        {
          "output_type": "display_data",
          "data": {
            "image/png": "[encoded data removed]",
            "text/plain": [
              "<Figure size 432x288 with 1 Axes>"
            ]
          },
          "metadata": {
            "tags": []
          }
        }
      ]
    },
    {
      "cell_type": "code",
      "metadata": {
        "id": "_JjpGvcoIw8A",
        "colab_type": "code",
        "outputId": "73c394fc-53a0-4d99-a157-2a8df9fbab44",
        "colab": {
          "base_uri": "https://localhost:8080/",
          "height": 281
        }
      },
      "source": [
        "online_cost=df.groupby('book_table').mean()\n",
        "sns.barplot(['No','Yes'],online_cost['cost(per person)'].to_list())\n",
        "plt.ylabel('Average cost')\n",
        "plt.title('Average cost per person when offering online services')\n",
        "plt.show()"
      ],
      "execution_count": 0,
      "outputs": [
        {
          "output_type": "display_data",
          "data": {
            "image/png": "[encoded data removed]",
            "text/plain": [
              "<Figure size 432x288 with 1 Axes>"
            ]
          },
          "metadata": {
            "tags": []
          }
        }
      ]
    },
    {
      "cell_type": "code",
      "metadata": {
        "id": "y2Ayjd2lJ4SZ",
        "colab_type": "code",
        "colab": {}
      },
      "source": [
        ""
      ],
      "execution_count": 0,
      "outputs": []
    },
    {
      "cell_type": "code",
      "metadata": {
        "id": "5r4Fr5aYJ3Sz",
        "colab_type": "code",
        "outputId": "3906202c-ce99-44b9-a1dc-2fe09bbb0595",
        "colab": {
          "base_uri": "https://localhost:8080/",
          "height": 295
        }
      },
      "source": [
        "ax=sns.barplot(x=\"book_table\", y=\"revenue\", hue=\"online_order\", data=df)\n",
        "# ax=sns.barplot(x=\"online_order\", y=\"cost(per person)\", hue=\"book_table\", data=df)\n",
        "\n",
        "h, _ = ax.get_legend_handles_labels()\n",
        "ax.legend(h, ['No','Yes'], title=\"Online order\")\n",
        "ax.set_xlabel('Book table')\n",
        "ax.set_xticklabels(['No','Yes'])\n",
        "plt.title('Average revenue when ordering online vs booking a table')\n",
        "plt.show()"
      ],
      "execution_count": 97,
      "outputs": [
        {
          "output_type": "display_data",
          "data": {
            "image/png": "[encoded data removed]",
            "text/plain": [
              "<Figure size 432x288 with 1 Axes>"
            ]
          },
          "metadata": {
            "tags": []
          }
        }
      ]
    },
    {
      "cell_type": "code",
      "metadata": {
        "id": "YUiBQl6XJ3G7",
        "colab_type": "code",
        "outputId": "37af0a70-5bb3-4b40-e5d6-6ceca6059fd7",
        "colab": {
          "base_uri": "https://localhost:8080/",
          "height": 204
        }
      },
      "source": [
        "df.corr()"
      ],
      "execution_count": 0,
      "outputs": [
        {
          "output_type": "execute_result",
          "data": {
            "text/html": [
              "<div>\n",
              "<style scoped>\n",
              "    .dataframe tbody tr th:only-of-type {\n",
              "        vertical-align: middle;\n",
              "    }\n",
              "\n",
              "    .dataframe tbody tr th {\n",
              "        vertical-align: top;\n",
              "    }\n",
              "\n",
              "    .dataframe thead th {\n",
              "        text-align: right;\n",
              "    }\n",
              "</style>\n",
              "<table border=\"1\" class=\"dataframe\">\n",
              "  <thead>\n",
              "    <tr style=\"text-align: right;\">\n",
              "      <th></th>\n",
              "      <th>cost(per person)</th>\n",
              "      <th>online_order</th>\n",
              "      <th>book_table</th>\n",
              "      <th>rating</th>\n",
              "      <th>votes</th>\n",
              "    </tr>\n",
              "  </thead>\n",
              "  <tbody>\n",
              "    <tr>\n",
              "      <th>cost(per person)</th>\n",
              "      <td>1.000000</td>\n",
              "      <td>-0.175665</td>\n",
              "      <td>0.614294</td>\n",
              "      <td>0.385384</td>\n",
              "      <td>0.366556</td>\n",
              "    </tr>\n",
              "    <tr>\n",
              "      <th>online_order</th>\n",
              "      <td>-0.175665</td>\n",
              "      <td>1.000000</td>\n",
              "      <td>-0.054843</td>\n",
              "      <td>0.068970</td>\n",
              "      <td>-0.013357</td>\n",
              "    </tr>\n",
              "    <tr>\n",
              "      <th>book_table</th>\n",
              "      <td>0.614294</td>\n",
              "      <td>-0.054843</td>\n",
              "      <td>1.000000</td>\n",
              "      <td>0.426070</td>\n",
              "      <td>0.393186</td>\n",
              "    </tr>\n",
              "    <tr>\n",
              "      <th>rating</th>\n",
              "      <td>0.385384</td>\n",
              "      <td>0.068970</td>\n",
              "      <td>0.426070</td>\n",
              "      <td>1.000000</td>\n",
              "      <td>0.435256</td>\n",
              "    </tr>\n",
              "    <tr>\n",
              "      <th>votes</th>\n",
              "      <td>0.366556</td>\n",
              "      <td>-0.013357</td>\n",
              "      <td>0.393186</td>\n",
              "      <td>0.435256</td>\n",
              "      <td>1.000000</td>\n",
              "    </tr>\n",
              "  </tbody>\n",
              "</table>\n",
              "</div>"
            ],
            "text/plain": [
              "                  cost(per person)  online_order  ...    rating     votes\n",
              "cost(per person)          1.000000     -0.175665  ...  0.385384  0.366556\n",
              "online_order             -0.175665      1.000000  ...  0.068970 -0.013357\n",
              "book_table                0.614294     -0.054843  ...  0.426070  0.393186\n",
              "rating                    0.385384      0.068970  ...  1.000000  0.435256\n",
              "votes                     0.366556     -0.013357  ...  0.435256  1.000000\n",
              "\n",
              "[5 rows x 5 columns]"
            ]
          },
          "metadata": {
            "tags": []
          },
          "execution_count": 38
        }
      ]
    },
    {
      "cell_type": "code",
      "metadata": {
        "id": "X5z5Gl6Z8WyS",
        "colab_type": "code",
        "colab": {}
      },
      "source": [
        "# df[['online_order','votes']].corr()\n",
        "a=df.groupby(['book_table']).mean()"
      ],
      "execution_count": 0,
      "outputs": []
    },
    {
      "cell_type": "code",
      "metadata": {
        "id": "Z-2JqTml8WtX",
        "colab_type": "code",
        "outputId": "5aff2829-9743-4914-cfe8-d85227c4021e",
        "colab": {
          "base_uri": "https://localhost:8080/",
          "height": 282
        }
      },
      "source": [
        "sns.barplot(a.index.to_list(),a['votes'].to_list())"
      ],
      "execution_count": 0,
      "outputs": [
        {
          "output_type": "execute_result",
          "data": {
            "text/plain": [
              "<matplotlib.axes._subplots.AxesSubplot at 0x7fb4a7be5898>"
            ]
          },
          "metadata": {
            "tags": []
          },
          "execution_count": 27
        },
        {
          "output_type": "display_data",
          "data": {
            "image/png": "[encoded data removed]",
            "text/plain": [
              "<Figure size 432x288 with 1 Axes>"
            ]
          },
          "metadata": {
            "tags": []
          }
        }
      ]
    },
    {
      "cell_type": "code",
      "metadata": {
        "id": "qHQzTleB8Wnd",
        "colab_type": "code",
        "colab": {}
      },
      "source": [
        "# df.groupby(['book_table']).median()\n",
        "location_wise_mean=df.groupby(['location']).mean()\n",
        "online_orders=location_wise_mean.sort_values(by='online_order', ascending=False)\n",
        "votes=location_wise_mean.sort_values(by='votes', ascending=False)\n",
        "costs_desc=location_wise_mean.sort_values(by='cost(per person)', ascending=False)\n",
        "costs_asc=location_wise_mean.sort_values(by='cost(per person)', ascending=True)"
      ],
      "execution_count": 0,
      "outputs": []
    },
    {
      "cell_type": "code",
      "metadata": {
        "id": "WAh7earlwhnI",
        "colab_type": "code",
        "outputId": "93c34b5e-7a33-49b2-8e1a-8dc80bb4466d",
        "colab": {
          "base_uri": "https://localhost:8080/",
          "height": 450
        }
      },
      "source": [
        "# location_wise_mean\n",
        "online_orders"
      ],
      "execution_count": 0,
      "outputs": [
        {
          "output_type": "execute_result",
          "data": {
            "text/html": [
              "<div>\n",
              "<style scoped>\n",
              "    .dataframe tbody tr th:only-of-type {\n",
              "        vertical-align: middle;\n",
              "    }\n",
              "\n",
              "    .dataframe tbody tr th {\n",
              "        vertical-align: top;\n",
              "    }\n",
              "\n",
              "    .dataframe thead th {\n",
              "        text-align: right;\n",
              "    }\n",
              "</style>\n",
              "<table border=\"1\" class=\"dataframe\">\n",
              "  <thead>\n",
              "    <tr style=\"text-align: right;\">\n",
              "      <th></th>\n",
              "      <th>cost(per person)</th>\n",
              "      <th>online_order</th>\n",
              "      <th>book_table</th>\n",
              "      <th>rating</th>\n",
              "      <th>votes</th>\n",
              "    </tr>\n",
              "    <tr>\n",
              "      <th>location</th>\n",
              "      <th></th>\n",
              "      <th></th>\n",
              "      <th></th>\n",
              "      <th></th>\n",
              "      <th></th>\n",
              "    </tr>\n",
              "  </thead>\n",
              "  <tbody>\n",
              "    <tr>\n",
              "      <th>Nagarbhavi</th>\n",
              "      <td>125.000000</td>\n",
              "      <td>1.000000</td>\n",
              "      <td>0.000000</td>\n",
              "      <td>3.400000</td>\n",
              "      <td>10.000000</td>\n",
              "    </tr>\n",
              "    <tr>\n",
              "      <th>Yelahanka</th>\n",
              "      <td>162.500000</td>\n",
              "      <td>1.000000</td>\n",
              "      <td>0.000000</td>\n",
              "      <td>3.700000</td>\n",
              "      <td>44.000000</td>\n",
              "    </tr>\n",
              "    <tr>\n",
              "      <th>Uttarahalli</th>\n",
              "      <td>208.333333</td>\n",
              "      <td>1.000000</td>\n",
              "      <td>0.000000</td>\n",
              "      <td>3.511111</td>\n",
              "      <td>78.000000</td>\n",
              "    </tr>\n",
              "    <tr>\n",
              "      <th>Rajarajeshwari Nagar</th>\n",
              "      <td>362.500000</td>\n",
              "      <td>1.000000</td>\n",
              "      <td>0.000000</td>\n",
              "      <td>3.850000</td>\n",
              "      <td>366.000000</td>\n",
              "    </tr>\n",
              "    <tr>\n",
              "      <th>Nagawara</th>\n",
              "      <td>230.891720</td>\n",
              "      <td>0.942675</td>\n",
              "      <td>0.070064</td>\n",
              "      <td>3.503185</td>\n",
              "      <td>124.573248</td>\n",
              "    </tr>\n",
              "    <tr>\n",
              "      <th>...</th>\n",
              "      <td>...</td>\n",
              "      <td>...</td>\n",
              "      <td>...</td>\n",
              "      <td>...</td>\n",
              "      <td>...</td>\n",
              "    </tr>\n",
              "    <tr>\n",
              "      <th>Race Course Road</th>\n",
              "      <td>660.740741</td>\n",
              "      <td>0.340741</td>\n",
              "      <td>0.311111</td>\n",
              "      <td>3.782222</td>\n",
              "      <td>203.592593</td>\n",
              "    </tr>\n",
              "    <tr>\n",
              "      <th>Langford Town</th>\n",
              "      <td>441.666667</td>\n",
              "      <td>0.185185</td>\n",
              "      <td>0.000000</td>\n",
              "      <td>3.807407</td>\n",
              "      <td>195.592593</td>\n",
              "    </tr>\n",
              "    <tr>\n",
              "      <th>Majestic</th>\n",
              "      <td>223.198198</td>\n",
              "      <td>0.180180</td>\n",
              "      <td>0.018018</td>\n",
              "      <td>3.501802</td>\n",
              "      <td>36.342342</td>\n",
              "    </tr>\n",
              "    <tr>\n",
              "      <th>Sankey Road</th>\n",
              "      <td>1291.346154</td>\n",
              "      <td>0.000000</td>\n",
              "      <td>0.423077</td>\n",
              "      <td>3.965385</td>\n",
              "      <td>246.576923</td>\n",
              "    </tr>\n",
              "    <tr>\n",
              "      <th>Peenya</th>\n",
              "      <td>150.000000</td>\n",
              "      <td>0.000000</td>\n",
              "      <td>0.000000</td>\n",
              "      <td>3.200000</td>\n",
              "      <td>5.000000</td>\n",
              "    </tr>\n",
              "  </tbody>\n",
              "</table>\n",
              "<p>92 rows × 5 columns</p>\n",
              "</div>"
            ],
            "text/plain": [
              "                      cost(per person)  online_order  ...    rating       votes\n",
              "location                                              ...                      \n",
              "Nagarbhavi                  125.000000      1.000000  ...  3.400000   10.000000\n",
              "Yelahanka                   162.500000      1.000000  ...  3.700000   44.000000\n",
              "Uttarahalli                 208.333333      1.000000  ...  3.511111   78.000000\n",
              "Rajarajeshwari Nagar        362.500000      1.000000  ...  3.850000  366.000000\n",
              "Nagawara                    230.891720      0.942675  ...  3.503185  124.573248\n",
              "...                                ...           ...  ...       ...         ...\n",
              "Race Course Road            660.740741      0.340741  ...  3.782222  203.592593\n",
              "Langford Town               441.666667      0.185185  ...  3.807407  195.592593\n",
              "Majestic                    223.198198      0.180180  ...  3.501802   36.342342\n",
              "Sankey Road                1291.346154      0.000000  ...  3.965385  246.576923\n",
              "Peenya                      150.000000      0.000000  ...  3.200000    5.000000\n",
              "\n",
              "[92 rows x 5 columns]"
            ]
          },
          "metadata": {
            "tags": []
          },
          "execution_count": 38
        }
      ]
    },
    {
      "cell_type": "code",
      "metadata": {
        "id": "AQISvVOU8Whu",
        "colab_type": "code",
        "outputId": "64564f02-5279-4eca-fe12-a469a69a62c0",
        "colab": {
          "base_uri": "https://localhost:8080/",
          "height": 660
        }
      },
      "source": [
        "plt.figure(figsize=(9,9))\n",
        "plot=sns.barplot(votes.index.to_list()[:20],votes['votes'].to_list()[:20])\n",
        "plot.set_xticklabels(plot.get_xticklabels(), rotation=90)\n",
        "plt.title(\"Top 20 locations with highest average votes\")\n",
        "plt.show()"
      ],
      "execution_count": 0,
      "outputs": [
        {
          "output_type": "display_data",
          "data": {
            "image/png": "[encoded data removed]",
            "text/plain": [
              "<Figure size 648x648 with 1 Axes>"
            ]
          },
          "metadata": {
            "tags": []
          }
        }
      ]
    },
    {
      "cell_type": "code",
      "metadata": {
        "id": "17iY8vTP8NJg",
        "colab_type": "code",
        "colab": {}
      },
      "source": [
        ""
      ],
      "execution_count": 0,
      "outputs": []
    },
    {
      "cell_type": "code",
      "metadata": {
        "id": "IWsvySYDcCmw",
        "colab_type": "code",
        "outputId": "1f52e2da-781a-4967-ebac-a1a65e850172",
        "colab": {
          "base_uri": "https://localhost:8080/",
          "height": 499
        }
      },
      "source": [
        "plt.figure(figsize=(8,6))\n",
        "plot=sns.barplot(costs_desc.index.to_list()[:20],costs_desc['cost(per person)'].to_list()[:20])\n",
        "plot.set_xticklabels(plot.get_xticklabels(), rotation=90)\n",
        "plt.title(\"Top 20 locations with highest average cost per person\")\n",
        "plt.show()"
      ],
      "execution_count": 0,
      "outputs": [
        {
          "output_type": "display_data",
          "data": {
            "image/png": "[encoded data removed]",
            "text/plain": [
              "<Figure size 576x432 with 1 Axes>"
            ]
          },
          "metadata": {
            "tags": []
          }
        }
      ]
    },
    {
      "cell_type": "code",
      "metadata": {
        "id": "qRYRbl9tcChG",
        "colab_type": "code",
        "outputId": "07d393a3-6d93-47c4-cb3b-a77b1e82d342",
        "colab": {
          "base_uri": "https://localhost:8080/",
          "height": 531
        }
      },
      "source": [
        "plt.figure(figsize=(8,6))\n",
        "plot=sns.barplot(costs_asc.index.to_list()[:20],costs_asc['cost(per person)'].to_list()[:20])\n",
        "plot.set_xticklabels(plot.get_xticklabels(), rotation=90)\n",
        "plt.title(\"Top 20 locations with lowest average cost per person\")\n",
        "plt.show()"
      ],
      "execution_count": 0,
      "outputs": [
        {
          "output_type": "display_data",
          "data": {
            "image/png": "[encoded data removed]",
            "text/plain": [
              "<Figure size 576x432 with 1 Axes>"
            ]
          },
          "metadata": {
            "tags": []
          }
        }
      ]
    },
    {
      "cell_type": "code",
      "metadata": {
        "id": "I5Am4PeryY3G",
        "colab_type": "code",
        "colab": {}
      },
      "source": [
        ""
      ],
      "execution_count": 0,
      "outputs": []
    },
    {
      "cell_type": "code",
      "metadata": {
        "id": "lGpe2zihyYgB",
        "colab_type": "code",
        "outputId": "52441e51-7d03-47bb-d725-6473ee5a129d",
        "colab": {
          "base_uri": "https://localhost:8080/",
          "height": 295
        }
      },
      "source": [
        "rating_wise_mean=df.groupby('rating').mean()\n",
        "plt.scatter(rating_wise_mean.index.to_list(),rating_wise_mean['online_order'].to_list())\n",
        "plt.xlabel('Rating')\n",
        "plt.ylabel('Mean online order')\n",
        "plt.title('Online order vs rating')\n",
        "plt.show()"
      ],
      "execution_count": 0,
      "outputs": [
        {
          "output_type": "display_data",
          "data": {
            "image/png": "[encoded data removed]",
            "text/plain": [
              "<Figure size 432x288 with 1 Axes>"
            ]
          },
          "metadata": {
            "tags": []
          }
        }
      ]
    },
    {
      "cell_type": "code",
      "metadata": {
        "id": "-WIDWlWqyYGQ",
        "colab_type": "code",
        "outputId": "ec6df001-da26-4559-b13a-6297d95133e1",
        "colab": {
          "base_uri": "https://localhost:8080/",
          "height": 295
        }
      },
      "source": [
        "rating_wise_mean=df.groupby('rating').mean()\n",
        "plt.scatter(rating_wise_mean.index.to_list(),rating_wise_mean['book_table'].to_list())\n",
        "plt.xlabel('Rating')\n",
        "plt.ylabel('Mean table book')\n",
        "plt.title('Table booking vs rating')\n",
        "plt.show()"
      ],
      "execution_count": 0,
      "outputs": [
        {
          "output_type": "display_data",
          "data": {
            "image/png": "[encoded data removed]",
            "text/plain": [
              "<Figure size 432x288 with 1 Axes>"
            ]
          },
          "metadata": {
            "tags": []
          }
        }
      ]
    },
    {
      "cell_type": "code",
      "metadata": {
        "id": "HSe3x9SjyXs9",
        "colab_type": "code",
        "colab": {}
      },
      "source": [
        ""
      ],
      "execution_count": 0,
      "outputs": []
    },
    {
      "cell_type": "code",
      "metadata": {
        "id": "b3W3Swz8yXRn",
        "colab_type": "code",
        "colab": {}
      },
      "source": [
        ""
      ],
      "execution_count": 0,
      "outputs": []
    },
    {
      "cell_type": "code",
      "metadata": {
        "id": "IzcBBvJocCbQ",
        "colab_type": "code",
        "outputId": "1f6e4898-9959-4b75-becd-2934efcd7ba4",
        "colab": {
          "base_uri": "https://localhost:8080/",
          "height": 353
        }
      },
      "source": [
        "# plt.figure(figsize=(9,9))\n",
        "ax=sns.heatmap(df.corr())\n",
        "bottom, top = ax.get_ylim()\n",
        "ax.set_ylim(bottom + 0.5, top - 0.5)\n",
        "plt.title('Correlation plot')\n",
        "plt.show() "
      ],
      "execution_count": 98,
      "outputs": [
        {
          "output_type": "display_data",
          "data": {
            "image/png": "[encoded data removed]",
            "text/plain": [
              "<Figure size 432x288 with 2 Axes>"
            ]
          },
          "metadata": {
            "tags": []
          }
        }
      ]
    },
    {
      "cell_type": "code",
      "metadata": {
        "id": "8ruJpytLcCU9",
        "colab_type": "code",
        "outputId": "e0de346c-5d5f-454e-c9d1-3d5c5c0966f3",
        "colab": {
          "base_uri": "https://localhost:8080/",
          "height": 567
        }
      },
      "source": [
        "plt.figure(figsize=(9,9))\n",
        "sns.countplot(x='rating',data=df)\n",
        "plt.title('Frequency of each rating')\n",
        "plt.show()\n",
        "# Should be normally distributed as expected"
      ],
      "execution_count": 0,
      "outputs": [
        {
          "output_type": "display_data",
          "data": {
            "image/png": "[encoded data removed]",
            "text/plain": [
              "<Figure size 648x648 with 1 Axes>"
            ]
          },
          "metadata": {
            "tags": []
          }
        }
      ]
    },
    {
      "cell_type": "code",
      "metadata": {
        "id": "6aWw69kxcCN-",
        "colab_type": "code",
        "outputId": "81629e93-1565-4c0d-c012-99dc4c6a246c",
        "colab": {
          "base_uri": "https://localhost:8080/",
          "height": 282
        }
      },
      "source": [
        "# rest_wise=df.groupby('name').mean()\n",
        "\n",
        "# rating_desc= rest_wise.sort_values(by='rating', ascending=True)\n",
        "# sns.barplot(rating_desc.index.to_list()[:20],rating_desc['rating'].to_list()[:20])\n"
      ],
      "execution_count": 0,
      "outputs": [
        {
          "output_type": "execute_result",
          "data": {
            "text/plain": [
              "<matplotlib.axes._subplots.AxesSubplot at 0x7fb4a178f0b8>"
            ]
          },
          "metadata": {
            "tags": []
          },
          "execution_count": 93
        },
        {
          "output_type": "display_data",
          "data": {
            "image/png": "[encoded data removed]",
            "text/plain": [
              "<Figure size 432x288 with 1 Axes>"
            ]
          },
          "metadata": {
            "tags": []
          }
        }
      ]
    },
    {
      "cell_type": "code",
      "metadata": {
        "id": "QIF8YM_6cB-k",
        "colab_type": "code",
        "colab": {}
      },
      "source": [
        ""
      ],
      "execution_count": 0,
      "outputs": []
    },
    {
      "cell_type": "code",
      "metadata": {
        "id": "ALQG15U6mqhj",
        "colab_type": "code",
        "colab": {}
      },
      "source": [
        ""
      ],
      "execution_count": 0,
      "outputs": []
    },
    {
      "cell_type": "code",
      "metadata": {
        "id": "zIw-bhiTmqRi",
        "colab_type": "code",
        "colab": {}
      },
      "source": [
        ""
      ],
      "execution_count": 0,
      "outputs": []
    },
    {
      "cell_type": "code",
      "metadata": {
        "id": "NV65FVve6SSf",
        "colab_type": "code",
        "colab": {}
      },
      "source": [
        "location_list=df['location'].unique()\n",
        "\n",
        "location2idx={val:i for i,val in enumerate(location_list)}\n",
        "idx2location={i:val for i,val in enumerate(location_list)}"
      ],
      "execution_count": 0,
      "outputs": []
    },
    {
      "cell_type": "code",
      "metadata": {
        "id": "n1Iuw5_C6SLu",
        "colab_type": "code",
        "colab": {}
      },
      "source": [
        "cuisine_list=list(set(itertools.chain(*[i.split(', ') for i in df['cuisines'].unique()]))) \n",
        "\n",
        "cuisine2idx={val:i for i,val in enumerate(cuisine_list)}\n",
        "idx2cuisine={i:val for i,val in enumerate(cuisine_list)}"
      ],
      "execution_count": 0,
      "outputs": []
    },
    {
      "cell_type": "code",
      "metadata": {
        "id": "QQRTfRVW6SGu",
        "colab_type": "code",
        "colab": {}
      },
      "source": [
        "counts=np.zeros((len(location_list),len(cuisine_list)))\n",
        "\n",
        "for i in range(df.shape[0]):\n",
        "    cur_location=location2idx[df.loc[i,['location']][0]]\n",
        "    for val in df.loc[i,['cuisines']].str.split(', ')[0]:\n",
        "        cur_cuisine=cuisine2idx[val]\n",
        "        counts[cur_location,cur_cuisine]+=1\n",
        "    \n",
        "num_cuisine=counts.sum(axis=0)"
      ],
      "execution_count": 0,
      "outputs": []
    },
    {
      "cell_type": "code",
      "metadata": {
        "id": "7KarNf516R9c",
        "colab_type": "code",
        "colab": {}
      },
      "source": [
        "plt.figure(figsize=(10,10))\n",
        "sns.distplot((counts/counts.sum(axis=1).reshape(-1,1)).sum(axis=0))"
      ],
      "execution_count": 0,
      "outputs": []
    },
    {
      "cell_type": "code",
      "metadata": {
        "id": "6DLZ5g296R4U",
        "colab_type": "code",
        "colab": {}
      },
      "source": [
        "plt.figure(figsize=(10,10))\n",
        "sns.distplot(counts.sum(axis=0))"
      ],
      "execution_count": 0,
      "outputs": []
    },
    {
      "cell_type": "code",
      "metadata": {
        "id": "zTVyRyFX6RzA",
        "colab_type": "code",
        "outputId": "a5156c1c-04b7-4b69-9e09-943c342bef23",
        "colab": {
          "base_uri": "https://localhost:8080/",
          "height": 136
        }
      },
      "source": [
        "high_cols=np.where(counts.sum(axis=0)>10)\n",
        "high_cols"
      ],
      "execution_count": 0,
      "outputs": [
        {
          "output_type": "execute_result",
          "data": {
            "text/plain": [
              "(array([  0,   1,   2,   3,   4,   5,   6,   7,   8,   9,  10,  11,  12,\n",
              "         13,  14,  15,  16,  17,  20,  23,  24,  26,  27,  28,  29,  30,\n",
              "         33,  35,  37,  38,  39,  40,  41,  42,  43,  44,  45,  46,  47,\n",
              "         49,  50,  51,  52,  53,  54,  55,  57,  58,  59,  60,  61,  62,\n",
              "         64,  65,  66,  67,  68,  69,  70,  71,  73,  74,  75,  77,  78,\n",
              "         80,  82,  83,  84,  86,  87,  88,  89,  90,  92,  93,  94,  95,\n",
              "         96,  97,  98,  99, 100, 101, 103, 104]),)"
            ]
          },
          "metadata": {
            "tags": []
          },
          "execution_count": 98
        }
      ]
    },
    {
      "cell_type": "code",
      "metadata": {
        "id": "S4rEYCzm6Rtk",
        "colab_type": "code",
        "outputId": "d9a39ac1-eba4-423f-888d-f61781be8879",
        "colab": {
          "base_uri": "https://localhost:8080/",
          "height": 286
        }
      },
      "source": [
        "sns.heatmap(counts[:,high_cols].squeeze(1))"
      ],
      "execution_count": 0,
      "outputs": [
        {
          "output_type": "execute_result",
          "data": {
            "text/plain": [
              "<matplotlib.axes._subplots.AxesSubplot at 0x7f7f23b5de48>"
            ]
          },
          "metadata": {
            "tags": []
          },
          "execution_count": 52
        },
        {
          "output_type": "display_data",
          "data": {
            "image/png": "[encoded data removed]",
            "text/plain": [
              "<Figure size 432x288 with 2 Axes>"
            ]
          },
          "metadata": {
            "tags": []
          }
        }
      ]
    },
    {
      "cell_type": "code",
      "metadata": {
        "id": "89w8Lx3dx2pt",
        "colab_type": "code",
        "colab": {}
      },
      "source": [
        ""
      ],
      "execution_count": 0,
      "outputs": []
    },
    {
      "cell_type": "code",
      "metadata": {
        "id": "LrqIUDs26Rad",
        "colab_type": "code",
        "colab": {}
      },
      "source": [
        "k=10\n",
        "top_ind=np.argsort(-num_cuisine)[:k]\n",
        "top_val=num_cuisine[top_ind]"
      ],
      "execution_count": 0,
      "outputs": []
    },
    {
      "cell_type": "code",
      "metadata": {
        "id": "1AUVnmPL6REC",
        "colab_type": "code",
        "outputId": "a8a64a43-9c76-4e5c-b1f5-f6230d5dc12a",
        "colab": {
          "base_uri": "https://localhost:8080/",
          "height": 334
        }
      },
      "source": [
        "x_lab=[idx2cuisine[i] for i in top_ind]\n",
        "ax=sns.barplot(x=x_lab,y=top_val)\n",
        "ax.set_xticklabels(ax.get_xticklabels(), rotation=90)\n",
        "plt.title('Top 10 cuisines in Banglore')\n",
        "plt.show()\n",
        "# add map after this plot"
      ],
      "execution_count": 0,
      "outputs": [
        {
          "output_type": "display_data",
          "data": {
            "image/png": "[encoded data removed]",
            "text/plain": [
              "<Figure size 432x288 with 1 Axes>"
            ]
          },
          "metadata": {
            "tags": []
          }
        }
      ]
    },
    {
      "cell_type": "code",
      "metadata": {
        "id": "JGt8ry-Cx4m-",
        "colab_type": "code",
        "colab": {}
      },
      "source": [
        ""
      ],
      "execution_count": 0,
      "outputs": []
    },
    {
      "cell_type": "markdown",
      "metadata": {
        "id": "5MTJokkCSE3C",
        "colab_type": "text"
      },
      "source": [
        "# MAP"
      ]
    },
    {
      "cell_type": "code",
      "metadata": {
        "id": "4JDh-8R4T77f",
        "colab_type": "code",
        "colab": {}
      },
      "source": [
        "import folium\n",
        "from folium.plugins import HeatMap"
      ],
      "execution_count": 0,
      "outputs": []
    },
    {
      "cell_type": "code",
      "metadata": {
        "id": "gnoumZ1Nx4aK",
        "colab_type": "code",
        "colab": {}
      },
      "source": [
        "def generateBaseMap(default_location=[12.97, 77.59]):\n",
        "    return folium.Map(location=default_location, control_scale=True, zoom_start=12)"
      ],
      "execution_count": 0,
      "outputs": []
    },
    {
      "cell_type": "code",
      "metadata": {
        "id": "31oKHYtpaIPw",
        "colab_type": "code",
        "colab": {
          "base_uri": "https://localhost:8080/",
          "height": 513
        },
        "outputId": "2ed01bd8-5cd5-4d22-bb95-6b8fe96ea92d"
      },
      "source": [
        "df.head()"
      ],
      "execution_count": 36,
      "outputs": [
        {
          "output_type": "execute_result",
          "data": {
            "text/html": [
              "<div>\n",
              "<style scoped>\n",
              "    .dataframe tbody tr th:only-of-type {\n",
              "        vertical-align: middle;\n",
              "    }\n",
              "\n",
              "    .dataframe tbody tr th {\n",
              "        vertical-align: top;\n",
              "    }\n",
              "\n",
              "    .dataframe thead th {\n",
              "        text-align: right;\n",
              "    }\n",
              "</style>\n",
              "<table border=\"1\" class=\"dataframe\">\n",
              "  <thead>\n",
              "    <tr style=\"text-align: right;\">\n",
              "      <th></th>\n",
              "      <th>name</th>\n",
              "      <th>address</th>\n",
              "      <th>location</th>\n",
              "      <th>rest_type</th>\n",
              "      <th>cuisines</th>\n",
              "      <th>cost(per person)</th>\n",
              "      <th>online_order</th>\n",
              "      <th>book_table</th>\n",
              "      <th>rating</th>\n",
              "      <th>votes</th>\n",
              "      <th>revenue</th>\n",
              "      <th>reviews_list</th>\n",
              "    </tr>\n",
              "  </thead>\n",
              "  <tbody>\n",
              "    <tr>\n",
              "      <th>0</th>\n",
              "      <td>Jalsa</td>\n",
              "      <td>942, 21st Main Road, 2nd Stage, Banashankari, ...</td>\n",
              "      <td>Banashankari</td>\n",
              "      <td>Buffet</td>\n",
              "      <td>North Indian, Mughlai, Chinese</td>\n",
              "      <td>400</td>\n",
              "      <td>1</td>\n",
              "      <td>1</td>\n",
              "      <td>4.1</td>\n",
              "      <td>775</td>\n",
              "      <td>310000</td>\n",
              "      <td>[('Rated 4.0', 'RATED\\n  A beautiful place to ...</td>\n",
              "    </tr>\n",
              "    <tr>\n",
              "      <th>1</th>\n",
              "      <td>Spice Elephant</td>\n",
              "      <td>2nd Floor, 80 Feet Road, Near Big Bazaar, 6th ...</td>\n",
              "      <td>Banashankari</td>\n",
              "      <td>Buffet</td>\n",
              "      <td>Chinese, North Indian, Thai</td>\n",
              "      <td>400</td>\n",
              "      <td>1</td>\n",
              "      <td>0</td>\n",
              "      <td>4.1</td>\n",
              "      <td>787</td>\n",
              "      <td>314800</td>\n",
              "      <td>[('Rated 4.0', 'RATED\\n  Had been here for din...</td>\n",
              "    </tr>\n",
              "    <tr>\n",
              "      <th>2</th>\n",
              "      <td>San Churro Cafe</td>\n",
              "      <td>1112, Next to KIMS Medical College, 17th Cross...</td>\n",
              "      <td>Banashankari</td>\n",
              "      <td>Buffet</td>\n",
              "      <td>Cafe, Mexican, Italian</td>\n",
              "      <td>400</td>\n",
              "      <td>1</td>\n",
              "      <td>0</td>\n",
              "      <td>3.8</td>\n",
              "      <td>918</td>\n",
              "      <td>367200</td>\n",
              "      <td>[('Rated 3.0', \"RATED\\n  Ambience is not that ...</td>\n",
              "    </tr>\n",
              "    <tr>\n",
              "      <th>3</th>\n",
              "      <td>Addhuri Udupi Bhojana</td>\n",
              "      <td>1st Floor, Annakuteera, 3rd Stage, Banashankar...</td>\n",
              "      <td>Banashankari</td>\n",
              "      <td>Buffet</td>\n",
              "      <td>South Indian, North Indian</td>\n",
              "      <td>150</td>\n",
              "      <td>0</td>\n",
              "      <td>0</td>\n",
              "      <td>3.7</td>\n",
              "      <td>88</td>\n",
              "      <td>13200</td>\n",
              "      <td>[('Rated 4.0', \"RATED\\n  Great food and proper...</td>\n",
              "    </tr>\n",
              "    <tr>\n",
              "      <th>4</th>\n",
              "      <td>Grand Village</td>\n",
              "      <td>10, 3rd Floor, Lakshmi Associates, Gandhi Baza...</td>\n",
              "      <td>Basavanagudi</td>\n",
              "      <td>Buffet</td>\n",
              "      <td>North Indian, Rajasthani</td>\n",
              "      <td>300</td>\n",
              "      <td>0</td>\n",
              "      <td>0</td>\n",
              "      <td>3.8</td>\n",
              "      <td>166</td>\n",
              "      <td>49800</td>\n",
              "      <td>[('Rated 4.0', 'RATED\\n  Very good restaurant ...</td>\n",
              "    </tr>\n",
              "  </tbody>\n",
              "</table>\n",
              "</div>"
            ],
            "text/plain": [
              "                    name  ...                                       reviews_list\n",
              "0                  Jalsa  ...  [('Rated 4.0', 'RATED\\n  A beautiful place to ...\n",
              "1         Spice Elephant  ...  [('Rated 4.0', 'RATED\\n  Had been here for din...\n",
              "2        San Churro Cafe  ...  [('Rated 3.0', \"RATED\\n  Ambience is not that ...\n",
              "3  Addhuri Udupi Bhojana  ...  [('Rated 4.0', \"RATED\\n  Great food and proper...\n",
              "4          Grand Village  ...  [('Rated 4.0', 'RATED\\n  Very good restaurant ...\n",
              "\n",
              "[5 rows x 12 columns]"
            ]
          },
          "metadata": {
            "tags": []
          },
          "execution_count": 36
        }
      ]
    },
    {
      "cell_type": "code",
      "metadata": {
        "id": "YH8Cdl7yaHnD",
        "colab_type": "code",
        "colab": {}
      },
      "source": [
        "def gen_map(coord_counts,radius=15):\n",
        "    basemap=generateBaseMap()\n",
        "    HeatMap(coord_counts,radius=radius).add_to(basemap)\n",
        "    return basemap"
      ],
      "execution_count": 0,
      "outputs": []
    },
    {
      "cell_type": "code",
      "metadata": {
        "id": "VEmMH3TpaIBI",
        "colab_type": "code",
        "colab": {}
      },
      "source": [
        "address_counts=df['address'].value_counts()\n",
        "address=address_counts.index.to_list()\n",
        "address_counts=address_counts.to_list()"
      ],
      "execution_count": 0,
      "outputs": []
    },
    {
      "cell_type": "code",
      "metadata": {
        "id": "udc1QQkPbDaz",
        "colab_type": "code",
        "colab": {}
      },
      "source": [
        "coord=pd.read_csv('/content/Coordinates_Data_f.csv')\n",
        "\n",
        "coord_counts=[]\n",
        "for i in range(len(coord['Location'])):\n",
        "    ind=list(address).index(coord['Location'][i])\n",
        "    coord_counts.append([coord['X'][i],coord['Y'][i],address_counts[ind]])"
      ],
      "execution_count": 0,
      "outputs": []
    },
    {
      "cell_type": "code",
      "metadata": {
        "id": "biP1hT6euoJn",
        "colab_type": "code",
        "colab": {
          "base_uri": "https://localhost:8080/",
          "height": 532
        },
        "outputId": "6d60ad7b-b6f9-4ebf-a75e-f9c8f0fffd8c"
      },
      "source": [
        "gen_map(coord_counts)"
      ],
      "execution_count": 80,
      "outputs": [
        {
          "output_type": "execute_result",
          "data": {
            "text/html": [
              "<div style=\"width:100%;\"><div style=\"position:relative;width:100%;height:0;padding-bottom:60%;\"><iframe src=\"data:text/html;charset=utf-8;base64,PCFET0NUWVBFIGh0bWw+CjxoZWFkPiAgICAKICAgIDxtZXRhIGh0dHAtZXF1aXY9ImNvbnRlbnQtdHlwZSIgY29udGVudD0idGV4dC9odG1sOyBjaGFyc2V0PVVURi04IiAvPgogICAgPHNjcmlwdD5MX1BSRUZFUl9DQU5WQVM9ZmFsc2U7IExfTk9fVE9VQ0g9ZmFsc2U7IExfRElTQUJMRV8zRD1mYWxzZTs8L3NjcmlwdD4KICAgIDxzY3JpcHQgc3JjPSJodHRwczovL2Nkbi5qc2RlbGl2ci5uZXQvbnBtL2xlYWZsZXRAMS40LjAvZGlzdC9sZWFmbGV0LmpzIj48L3NjcmlwdD4KICAgIDxzY3JpcHQgc3JjPSJodHRwczovL2NvZGUuanF1ZXJ5LmNvbS9qcXVlcnktMS4xMi40Lm1pbi5qcyI+PC9zY3JpcHQ+CiAgICA8c2NyaXB0IHNyYz0iaHR0cHM6Ly9tYXhjZG4uYm9vdHN0cmFwY2RuLmNvbS9ib290c3RyYXAvMy4yLjAvanMvYm9vdHN0cmFwLm1pbi5qcyI+PC9zY3JpcHQ+CiAgICA8c2NyaXB0IHNyYz0iaHR0cHM6Ly9jZG5qcy5jbG91ZGZsYXJlLmNvbS9hamF4L2xpYnMvTGVhZmxldC5hd2Vzb21lLW1hcmtlcnMvMi4wLjIvbGVhZmxldC5hd2Vzb21lLW1hcmtlcnMuanMiPjwvc2NyaXB0PgogICAgPGxpbmsgcmVsPSJzdHlsZXNoZWV0IiBocmVmPSJodHRwczovL2Nkbi5qc2RlbGl2ci5uZXQvbnBtL2xlYWZsZXRAMS40LjAvZGlzdC9sZWFmbGV0LmNzcyIvPgogICAgPGxpbmsgcmVsPSJzdHlsZXNoZWV0IiBocmVmPSJodHRwczovL21heGNkbi5ib290c3RyYXBjZG4uY29tL2Jvb3RzdHJhcC8zLjIuMC9jc3MvYm9vdHN0cmFwLm1pbi5jc3MiLz4KICAgIDxsaW5rIHJlbD0ic3R5bGVzaGVldCIgaHJlZj0iaHR0cHM6Ly9tYXhjZG4uYm9vdHN0cmFwY2RuLmNvbS9ib290c3RyYXAvMy4yLjAvY3NzL2Jvb3RzdHJhcC10aGVtZS5taW4uY3NzIi8+CiAgICA8bGluayByZWw9InN0eWxlc2hlZXQiIGhyZWY9Imh0dHBzOi8vbWF4Y2RuLmJvb3RzdHJhcGNkbi5jb20vZm9udC1hd2Vzb21lLzQuNi4zL2Nzcy9mb250LWF3ZXNvbWUubWluLmNzcyIvPgogICAgPGxpbmsgcmVsPSJzdHlsZXNoZWV0IiBocmVmPSJodHRwczovL2NkbmpzLmNsb3VkZmxhcmUuY29tL2FqYXgvbGlicy9MZWFmbGV0LmF3ZXNvbWUtbWFya2Vycy8yLjAuMi9sZWFmbGV0LmF3ZXNvbWUtbWFya2Vycy5jc3MiLz4KICAgIDxsaW5rIHJlbD0ic3R5bGVzaGVldCIgaHJlZj0iaHR0cHM6Ly9yYXdjZG4uZ2l0aGFjay5jb20vcHl0aG9uLXZpc3VhbGl6YXRpb24vZm9saXVtL21hc3Rlci9mb2xpdW0vdGVtcGxhdGVzL2xlYWZsZXQuYXdlc29tZS5yb3RhdGUuY3NzIi8+CiAgICA8c3R5bGU+aHRtbCwgYm9keSB7d2lkdGg6IDEwMCU7aGVpZ2h0OiAxMDAlO21hcmdpbjogMDtwYWRkaW5nOiAwO308L3N0eWxlPgogICAgPHN0eWxlPiNtYXAge3Bvc2l0aW9uOmFic29sdXRlO3RvcDowO2JvdHRvbTowO3JpZ2h0OjA7bGVmdDowO308L3N0eWxlPgogICAgCiAgICA8bWV0YSBuYW1lPSJ2aWV3cG9ydCIgY29udGVudD0id2lkdGg9ZGV2aWNlLXdpZHRoLAogICAgICAgIGluaXRpYWwtc2NhbGU9MS4wLCBtYXhpbXVtLXNjYWxlPTEuMCwgdXNlci1zY2FsYWJsZT1ubyIgLz4KICAgIDxzdHlsZT4jbWFwXzExYWZmNWRjZjU4NTQzODQ5ZTIyOTliMzg1ODAyNGJiIHsKICAgICAgICBwb3NpdGlvbjogcmVsYXRpdmU7CiAgICAgICAgd2lkdGg6IDEwMC4wJTsKICAgICAgICBoZWlnaHQ6IDEwMC4wJTsKICAgICAgICBsZWZ0OiAwLjAlOwogICAgICAgIHRvcDogMC4wJTsKICAgICAgICB9CiAgICA8L3N0eWxlPgogICAgPHNjcmlwdCBzcmM9Imh0dHBzOi8vbGVhZmxldC5naXRodWIuaW8vTGVhZmxldC5oZWF0L2Rpc3QvbGVhZmxldC1oZWF0LmpzIj48L3NjcmlwdD4KPC9oZWFkPgo8Ym9keT4gICAgCiAgICAKICAgIDxkaXYgY2xhc3M9ImZvbGl1bS1tYXAiIGlkPSJtYXBfMTFhZmY1ZGNmNTg1NDM4NDllMjI5OWIzODU4MDI0YmIiID48L2Rpdj4KPC9ib2R5Pgo8c2NyaXB0PiAgICAKICAgIAogICAgCiAgICAgICAgdmFyIGJvdW5kcyA9IG51bGw7CiAgICAKCiAgICB2YXIgbWFwXzExYWZmNWRjZjU4NTQzODQ5ZTIyOTliMzg1ODAyNGJiID0gTC5tYXAoCiAgICAgICAgJ21hcF8xMWFmZjVkY2Y1ODU0Mzg0OWUyMjk5YjM4NTgwMjRiYicsIHsKICAgICAgICBjZW50ZXI6IFsxMi45NywgNzcuNTldLAogICAgICAgIHpvb206IDEyLAogICAgICAgIG1heEJvdW5kczogYm91bmRzLAogICAgICAgIGxheWVyczogW10sCiAgICAgICAgd29ybGRDb3B5SnVtcDogZmFsc2UsCiAgICAgICAgY3JzOiBMLkNSUy5FUFNHMzg1NywKICAgICAgICB6b29tQ29udHJvbDogdHJ1ZSwKICAgICAgICB9KTsKTC5jb250cm9sLnNjYWxlKCkuYWRkVG8obWFwXzExYWZmNWRjZjU4NTQzODQ5ZTIyOTliMzg1ODAyNGJiKTsKCiAgICAKICAgIHZhciB0aWxlX2xheWVyX2NjM2FhZmFjMTMzNTRiYTJiZTEyNDFjYjg3YmY5MjA5ID0gTC50aWxlTGF5ZXIoCiAgICAgICAgJ2h0dHBzOi8ve3N9LnRpbGUub3BlbnN0cmVldG1hcC5vcmcve3p9L3t4fS97eX0ucG5nJywKICAgICAgICB7CiAgICAgICAgImF0dHJpYnV0aW9uIjogbnVsbCwKICAgICAgICAiZGV0ZWN0UmV0aW5hIjogZmFsc2UsCiAgICAgICAgIm1heE5hdGl2ZVpvb20iOiAxOCwKICAgICAgICAibWF4Wm9vbSI6IDE4LAogICAgICAgICJtaW5ab29tIjogMCwKICAgICAgICAibm9XcmFwIjogZmFsc2UsCiAgICAgICAgIm9wYWNpdHkiOiAxLAogICAgICAgICJzdWJkb21haW5zIjogImFiYyIsCiAgICAgICAgInRtcyI6IGZhbHNlCn0pLmFkZFRvKG1hcF8xMWFmZjVkY2Y1ODU0Mzg0OWUyMjk5YjM4NTgwMjRiYik7CiAgICAKICAgICAgICAgICAgdmFyIGhlYXRfbWFwX2FiNDczOWU5ZTI0NjQ4Y2ZiZDBmZWM2MDAyYTdhY2FhID0gTC5oZWF0TGF5ZXIoCiAgICAgICAgICAgICAgICBbWzEyLjkxOTAwNzcsIDc3LjU2NzQ2MjYsIDldLCBbMTIuOTI3Njg2NSwgNzcuNTUxNTA3LCA0XSwgWzEyLjkyNzE5MDksIDc3LjU2MDE2NDQsIDExXSwgWzEyLjkyNDk1NTEsIDc3LjU1MDIzMjgsIDJdLCBbMTIuOTQ0NTU1OTAwMDAwMDAxLCA3Ny41Njk4NzMyLCA0XSwgWzEyLjk0NTI2ODIsIDc3LjU2ODcwMTEsIDddLCBbMTIuOTUzMTI2MTk5OTk5OTk4LCA3Ny41NDI4Mzg2LCAzXSwgWzEyLjkyNDM0NzUwMDAwMDAwMSwgNzcuNTYyMTM2OCwgNV0sIFsxMi45MjU4MTUsIDc3LjU1ODUwMzQsIDddLCBbMTIuOTI0MTEwNCwgNzcuNTYxOTk0NCwgN10sIFsxMi45MzQ5NTQ0LCA3Ny41MzE1MTM1LCAzXSwgWzEyLjkyNzI5NDQwMDAwMDAwMSwgNzcuNTgyOTg0NSwgNl0sIFsxMi45NDY1Nzc0LCA3Ny41NjkzMDQ2LCAzXSwgWzEyLjk0MzI5OTUsIDc3LjU2ODg1NDQsIDJdLCBbMTIuOTQ3MTk0Njk5OTk5OTk5LCA3Ny41NjkyNjE3MDAwMDAwMSwgMl0sIFsxMi45NDQxNjE4LCA3Ny41NjgxMDU0MDAwMDAwMSwgMl0sIFsxMi45NDI5MDMyLCA3Ny41NjYwMDI1OTk5OTk5OSwgNF0sIFsxMi45NDQzNTM0LCA3Ny41NzA4NDMwMDAwMDAwMSwgNF0sIFsxMi45MjU3NjgsIDc3LjU2MTg3MTksIDRdLCBbMTIuOTI1MTQ1NTk5OTk5OTk5LCA3Ny41NDg2MTA3MDAwMDAwMSwgMl0sIFsxMi45NDM5MDA3LCA3Ny41NTk0MzE4LCA0XSwgWzEyLjk0NjY3ODIsIDc3LjU0MzgyLCA0XSwgWzEyLjkyMzg4OTksIDc3LjU3MTI1MzMsIDNdLCBbMTIuOTQyMTM3NDAwMDAwMDAyLCA3Ny41NDk4MDU0LCAyXSwgWzEyLjkyOTQwMjY5OTk5OTk5OSwgNzcuNTYwOTQwNywgM10sIFsxMi45MzI4MDM4LCA3Ny41MzQ0MTk1LCAxXSwgWzEyLjk0MzIxNiwgNzcuNTQyMTY4NywgMV0sIFsxMi45MjQ0NzA5MDAwMDAwMDEsIDc3LjU2MjEwMTU5OTk5OTk5LCAzXSwgWzEyLjkzNTM3OTgwMDAwMDAwMiwgNzcuNTMyNDc2OSwgMl0sIFsxMi45NDAxNzA1LCA3Ny41NjIyMTUyLCA1XSwgWzEyLjkzMzEzLCA3Ny41Nzk0NDAyOTk5OTk5OSwgNl0sIFsxMi45MzEzMjksIDc3LjU0MzEzMTEsIDNdLCBbMTIuOTQ2NDM1NSwgNzcuNTYyMDIzOSwgNF0sIFsxMi45MzgwMDU1LCA3Ny41NDg4ODQ2LCAyXSwgWzEyLjkyNDMwMjgwMDAwMDAwMSwgNzcuNTYyNjY0OCwgOF0sIFsxMi45MjQ0OTMsIDc3LjU2MzE3NjMsIDJdLCBbMTIuOTI0MjQyNiwgNzcuNTYyNTA4MDk5OTk5OTksIDJdLCBbMTIuOTA1NjEwMiwgNzcuNTYxNDQ1OCwgMl0sIFsxMi45MDk0NDEzLCA3Ny41NjI4MjcwOTk5OTk5OSwgM10sIFsxMi45MjEwMTI0LCA3Ny41MTgzOTA1OTk5OTk5OSwgMV0sIFsxMi45MDcxNzg1LCA3Ny41NjM3NDE0MDAwMDAwMSwgM10sIFsxMi45MDYzODQ5LCA3Ny41ODUyNDg4LCAyXSwgWzEyLjk2MTg0OSwgNzcuNTM0Nzk5MywgMl0sIFsxMi45MTU2Mzc3LCA3Ny41ODk4MDA0LCAzXSwgWzEyLjkzMTk0MDUsIDc3LjU4MTE0NjMsIDRdLCBbMTIuOTI2NzYwNSwgNzcuNTYyNDkxNTAwMDAwMDEsIDZdLCBbMTIuOTIwMTY0OTk5OTk5OTk5LCA3Ny41NjcxMTk5OTk5OTk5OSwgNF0sIFsxMi45NDE5MzY2LCA3Ny41NTc3MjcyLCA0XSwgWzEyLjkzODk5OTQsIDc3LjU0OTkyMTU5OTk5OTk5LCAyXSwgWzEyLjkyNTE2MiwgNzcuNTYyMDg0MywgMl0sIFsxMi45MjYyNzA1LCA3Ny41NjI1MTkyOTk5OTk5OSwgNV0sIFsxMi45MDYyODk0LCA3Ny41NTY3MjY0LCAyXSwgWzEyLjk0MzgwNDgsIDc3LjU2NDM0NzIsIDVdLCBbMTIuOTIyNzA3NCwgNzcuNTU0MzgxNDk5OTk5OTksIDJdLCBbMTIuOTIyODc0NDAwMDAwMDAxLCA3Ny41NTQxOTA3LCAyXSwgWzEyLjk0MDc5ODksIDc3LjU3ODcyMjksIDNdLCBbMTIuOTI4MTIwMzAwMDAwMDAyLCA3Ny41ODA2OTkzLCAxMl0sIFsxMi45MjcxMzMzMDAwMDAwMDEsIDc3LjU1OTIwMDE5OTk5OTk5LCA2XSwgWzEyLjk0MzgxMzksIDc3LjU1NzY2MzEsIDRdLCBbMTIuOTQ2NzQ0ODAwMDAwMDAxLCA3Ny41Njk3NDY5LCA0XSwgWzEyLjk0MzI1MDIsIDc3LjUzOTI3MDMsIDJdLCBbMTIuOTI0NjQwMTk5OTk5OTk5LCA3Ny41NDkyNTMwMDAwMDAwMSwgMV0sIFsxMi45MjYxNDMxOTk5OTk5OTksIDc3LjU2MjMxMDA5OTk5OTk5LCAyXSwgWzEyLjkzODk2NiwgNzcuNTY4NjM0NiwgNl0sIFsxMi45NDE0MjIzMDAwMDAwMDEsIDc3LjU1MTQ0NTUsIDJdLCBbMTIuOTI1NzYyODAwMDAwMDAxLCA3Ny41NjE4NzcyLCA0XSwgWzEyLjkyMzUxNzU5OTk5OTk5OCwgNzcuNTcwODQ0OCwgNl0sIFsxMi45Njc0OTYxLCA3Ny41MzU3MDQ5MDAwMDAwMSwgMV0sIFsxMi45MjM5MDUyLCA3Ny41NjMxLCAzXSwgWzEyLjkyNjM0MTMsIDc3LjU1OTYxNjgsIDZdLCBbMTIuOTI1MDU5NCwgNzcuNTQzODc5NDAwMDAwMDEsIDJdLCBbMTIuOTIxNTU4NywgNzcuNTQ5MjA4NDk5OTk5OTksIDRdLCBbMTIuOTI2MTQ3MzAwMDAwMDAyLCA3Ny41ODIzMTcyLCA1XSwgWzEyLjkyNTY3LCA3Ny41NTk4OTEyOTk5OTk5OSwgNF0sIFsxMi45MjMyMDc5LCA3Ny41NDg4NjI1OTk5OTk5OSwgMl0sIFsxMi45NDE3Mjg5MDAwMDAwMDEsIDc3LjU1MDUzNjMsIDFdLCBbMTIuOTI2MTQwNiwgNzcuNTY0MTQzLCAzXSwgWzEyLjkyMzExMTUwMDAwMDAwMSwgNzcuNTU1NDU0MDk5OTk5OTksIDJdLCBbMTIuOTIyMjAwNCwgNzcuNTU4NzE5NSwgM10sIFsyOC41NDg1MjUzLCA3Ny4yNzQ5ODUyLCA2XSwgWzEyLjkyNTU5MzUsIDc3LjU2MTk0NzYsIDldLCBbMTIuOTUwNjI4NiwgNzcuNTA1NzQ2NSwgNl0sIFsxMi45NDMxMDcwOTk5OTk5OTksIDc3LjU2NDQ2MzksIDVdLCBbMTIuOTI0MTQ5NywgNzcuNTYyODY3NDAwMDAwMDIsIDZdLCBbMTIuOTM3MDI2NSwgNzcuNTUyNTAyOTAwMDAwMDEsIDJdLCBbMTIuOTM2NTUwNTk5OTk5OTk5LCA3Ny41NTgwMTI5MDAwMDAwMSwgNF0sIFsxMi45MjA5NDgsIDc3LjU0ODI5ODUsIDJdLCBbMTIuOTMzODQ1NiwgNzcuNTU2MzAzOTAwMDAwMDIsIDRdLCBbMTIuODc4MzA3MDAwMDAwMDAxLCA3Ny41MTA2NDEsIDJdLCBbMTIuOTM0NDk0OCwgNzcuNTMyMzI3NywgMl0sIFsxMi45MzMyNjY5OTk5OTk5OTksIDc3LjU1NTIyNTYsIDFdLCBbMTIuOTM2NTYzNCwgNzcuNTQ4OTE3NSwgNF0sIFsxMi45MjYwMTc4MDAwMDAwMDIsIDc3LjUyMTMxNDgsIDJdLCBbMTIuOTI2MjcxNywgNzcuNTY5MjY2OTAwMDAwMDIsIDldLCBbMTIuOTM1MTU4MDk5OTk5OTk5LCA3Ny41NDM3NTMwMDAwMDAwMSwgM10sIFsxMi45NDAxODQsIDc3LjU1MTE2MzI5OTk5OTk4LCAyXSwgWzEyLjk0MDMyOCwgNzcuNTU0NDU3NSwgNF0sIFsxMi45MjYxNDM2OTk5OTk5OTksIDc3LjU2MjUxNTEsIDRdLCBbMTIuOTI0MTg0MSwgNzcuNTY1MTIwMDk5OTk5OTksIDZdLCBbMTIuOTE2NjA5LCA3Ny41NTE2MzI1OTk5OTk5OSwgMV0sIFsxMi45MzQwMzE1LCA3Ny41NDQyMzg0MDAwMDAwMSwgM10sIFsyOC41NDg1MjUzLCA3Ny4yNzQ5ODUyLCA5XSwgWzEyLjk0NzczODYsIDc3LjU2NTU0NzksIDVdLCBbMTIuOTE4NDkyNTAwMDAwMDAxLCA3Ny41NzcxNTc1OTk5OTk5OSwgNl0sIFsxMi45Mzg4MjY2LCA3Ny41NTExNjY3LCA0XSwgWzEyLjk0MDczNiwgNzcuNTc4NDIxMywgNV0sIFsxMi45MDc1NDAxLCA3Ny41NjEyMDIwOTk5OTk5OSwgMl0sIFsxMi45MzE2NDU2OTk5OTk5OTksIDc3LjUzOTgyOSwgMV0sIFsxMi45MzMxNzg5OTk5OTk5OTksIDc3LjU0MzI4MjU5OTk5OTk4LCAzXSwgWzEyLjkzMDk0MDQsIDc3LjU4MTUyOSwgNF0sIFsxMi45NDk1OTkwMDAwMDAwMDEsIDc3LjUzMjQ3NDcsIDRdLCBbMTIuOTA5NDEwNiwgNzcuNTYxNjAzNDAwMDAwMDEsIDJdLCBbMTIuOTA1MTk1NCwgNzcuNTYwNjY0OSwgMl0sIFsxMi45MzI0MzEzMDAwMDAwMDEsIDc3LjU4MTUzNDU5OTk5OTk4LCA2XSwgWzEyLjk0MDYzODYsIDc3LjU3NzA1NzI5OTk5OTk5LCAzXSwgWzEyLjk0OTMwMDcsIDc3LjU0MDA2MTQsIDJdLCBbMTIuOTMzMDA5NCwgNzcuNTgyMjAyMjk5OTk5OTksIDZdLCBbMjguNTQ4NTI1MywgNzcuMjc0OTg1MiwgNV0sIFsxMi45MjcyODkxOTk5OTk5OTksIDc3LjU4Mjk4OTgsIDEwXSwgWzEyLjk0ODAzNywgNzcuNTY2NjcxMywgM10sIFsxMi45MjQ0NzUsIDc3LjU4MTY5NjMsIDldLCBbMTIuOTM4MzI1LCA3Ny41NjEwMjYzLCAzXSwgWzEyLjkwNzMxODksIDc3LjU2MTc3MTkwMDAwMDAxLCAyXSwgWzEyLjkzODM1NDMsIDc3LjU1MjI4MzksIDNdLCBbMTIuOTI4NTY0MTAwMDAwMDAxLCA3Ny41NjQxNTYyLCAxXSwgWzEyLjkyNjQ3NTE5OTk5OTk5OSwgNzcuNTQ4NzA3LCAxXSwgWzEyLjk0MDI1NzksIDc3LjU2Mjc1MDMsIDVdLCBbMTIuOTQ0ODM4OSwgNzcuNTY5NjMwMiwgNV0sIFsxMi45NDE2NDI1LCA3Ny41Nzc5NDY3OTk5OTk5OSwgNl0sIFsxMi45MzkwODIsIDc3LjU1NTM4NjMsIDRdLCBbMTIuOTUxNDA2NTk5OTk5OTk5LCA3Ny41NzUxNDMyLCA1XSwgWzEyLjkwNTg2NTMsIDc3LjU2MDgyNzgsIDRdLCBbMTIuOTIzNjg3MSwgNzcuNTUxNzgyNSwgM10sIFsxMi45MzI4Mzc5LCA3Ny41ODE0MzU5LCA4XSwgWzEyLjkxNjE3MjA5OTk5OTk5OSwgNzcuNTc1MzI2NDAwMDAwMDEsIDRdLCBbMTIuOTA3MDMyMTk5OTk5OTk4LCA3Ny41NjE1ODk3LCAyXSwgWzEyLjkyMzE5NjMsIDc3LjU2ODcyMTI5OTk5OTk5LCA2XSwgWzEyLjkwNTk1NDE5OTk5OTk5OCwgNzcuNTYwNzQzMSwgMl0sIFsxMi45MjM2NDYwMDAwMDAwMDIsIDc3LjU2NzI0MTc5OTk5OTk5LCA0XSwgWzEyLjkzNTEzOTMwMDAwMDAwMSwgNzcuNTQ1MTUyOCwgM10sIFsxMi45NDM2NjU2OTk5OTk5OTksIDc3LjU3MDcyNTU5OTk5OTk5LCAzXSwgWzEyLjkyOTgzNTY5OTk5OTk5OCwgNzcuNTc5NDA4NSwgNV0sIFsxMi45MDcwOTc0LCA3Ny41NjE0NjcyOTk5OTk5OSwgMl0sIFsxMi45MDg2MjI5MDAwMDAwMDEsIDc3LjU2MTgyNzkwMDAwMDAxLCAzXSwgWzEyLjkzOTUwMzYsIDc3LjU2Mjc1MzQsIDVdLCBbMTIuOTUwMDAwMiwgNzcuNTczOTE2NTAwMDAwMDEsIDVdLCBbMTIuOTQ0MjQyNywgNzcuNTY4NzU2Mjk5OTk5OTksIDVdLCBbMTIuOTA3MzUxNDAwMDAwMDAxLCA3Ny41NjE3NDI1MDAwMDAwMSwgMl0sIFsxMi45MTg1NDksIDc3LjU1NzczMDIwMDAwMDAxLCAzXSwgWzEyLjkzMjU2NTgsIDc3LjU0MzAwMDcsIDJdLCBbMTIuOTI0OTE4NSwgNzcuNTQ5MDM0MjAwMDAwMDEsIDNdLCBbMTIuOTExMjE5MiwgNzcuNTg1NTYxMywgMl0sIFsxMi45MzEwMDc0LCA3Ny41ODA2NzE0LCA3XSwgWzEyLjk0MzgzMzk5OTk5OTk5OSwgNzcuNTY3NjI5MywgNV0sIFsyOC41NDg1MjUzLCA3Ny4yNzQ5ODUyLCA1XSwgWzEyLjk0NzUzODIsIDc3LjU3MTc0MzA5OTk5OTk5LCA1XSwgWzEyLjkzMzA3MDU5OTk5OTk5OSwgNzcuNTUyODY3NDAwMDAwMDEsIDJdLCBbMTIuOTI1NTgxODAwMDAwMDAyLCA3Ny41NDc2OTQ4LCAzXSwgWzEyLjkzMzE3MDgwMDAwMDAwMSwgNzcuNTgzODU0MywgOF0sIFsxMi45MjcyODkxOTk5OTk5OTksIDc3LjU4Mjk4OTgsIDddLCBbMTIuOTI3NzIzOSwgNzcuNTU5OTAwNSwgNV0sIFsxMi45MDk4MDA1MDAwMDAwMDEsIDc3LjU0ODA3OTQsIDJdLCBbMTIuOTI0MDY1MiwgNzcuNTU4MzA4MywgNV0sIFsxMi45MDkxNzU2LCA3Ny41NjA4NzgyLCAyXSwgWzEyLjkxMTk0NTkwMDAwMDAwMSwgNzcuNTY0ODAxOSwgNV0sIFsxMi45MDY5MTgsIDc3LjU1NzQ1NCwgNV0sIFsxMi45MzgyODIxOTk5OTk5OTgsIDc3LjU4NDI4MzU5OTk5OTk5LCAzXSwgWzEyLjkxNzY1MDcsIDc3LjU0ODk4NzkwMDAwMDAxLCAyXSwgWzEyLjkyMzMxOTgsIDc3LjU2Nzg2MDcwMDAwMDAxLCA2XSwgWzEyLjkzMDAyMjcsIDc3LjU4Mjg0NDgsIDddLCBbMTIuOTMxMDMzMiwgNzcuNTgzNzYyNiwgMTddLCBbMTIuOTI2MjEzOSwgNzcuNTgyMTAzOCwgOF0sIFsxMi45MjY1OTYsIDc3LjU4MTY3NDMsIDddLCBbMTIuOTI5MjMzMTk5OTk5OTk5LCA3Ny41ODAxMjEwOTk5OTk5OSwgNl0sIFsxMi45MTIxMDcsIDc3LjU3MjI4ODEsIDVdLCBbMTIuOTIzMjk5MiwgNzcuNTc5MTgxOCwgN10sIFsxMi45Mjg5NzQ4LCA3Ny41ODI3MjQ1LCA0XSwgWzEyLjk0MDYwOTMsIDc3LjU3NDI3NjcsIDRdLCBbMTIuOTA3MjMzOTAwMDAwMDAxLCA3Ny41NjMzODAyOTk5OTk5OSwgMV0sIFsxMi45NDU5NzI0LCA3Ny41Njg1MzI4LCA0XSwgWzEyLjk1MjQ3MTMwMDAwMDAwMSwgNzcuNTQxNDQxNSwgMl0sIFsxMi45NDQyMTMwMDAwMDAwMDEsIDc3LjU3MDQxOTEsIDRdLCBbMTIuOTM0MDc0LCA3Ny41NjYwNDc0LCA2XSwgWzEyLjkzOTI0ODEsIDc3LjU2ODE5OTMsIDZdLCBbMTIuOTQxODE4MzAwMDAwMDAxLCA3Ny41NzMwNTkxLCAyXSwgWzEyLjkzMTc5ODEsIDc3LjU3MTI2NTkwMDAwMDAxLCA1XSwgWzEyLjk1ODM4NzQwMDAwMDAwMSwgNzcuNTEyMTk4MywgNF0sIFsxMi45MDg3OTk0MDAwMDAwMDEsIDc3LjU0NzAxNTgsIDFdLCBbMTIuNjE5MTM5LCA3Ni44MTgzMjgwMDAwMDAwMSwgMl0sIFsxMi45MjgwMjcxOTk5OTk5OTksIDc3LjU4MzAxNywgOF0sIFsxMi45NDI0MjM1LCA3Ny41Njg4NjU0LCA1XSwgWzEyLjkxMTIxOTksIDc3LjU2NDU1NDEsIDVdLCBbMTIuOTIzOTU3MTk5OTk5OTk4LCA3Ny41NjQzNDAxLCA1XSwgWzEyLjkwNTE5NTQsIDc3LjU2MDY2NDksIDJdLCBbMTIuOTMyNjQwMTk5OTk5OTk4LCA3Ny41Nzk3ODQ0MDAwMDAwMSwgNF0sIFsxMi45MjAyMDgyLCA3Ny41NzM0MDQwOTk5OTk5OSwgMV0sIFsxMi45MTc1ODMyLCA3Ny41NzA3MjA1OTk5OTk5OSwgN10sIFsxOC42NzEzNjQyLCA4MC40NDk0MzE3LCAzXSwgWzEyLjkyNDQwOTU5OTk5OTk5OSwgNzcuNTYzMTA5OCwgNl0sIFsxMi45MzAyNjk4LCA3Ny41ODMyMjY5MDAwMDAwMSwgN10sIFsxMi45Mjg0MDIxOTk5OTk5OTksIDc3LjU3OTM0NzU5OTk5OTk5LCAzXSwgWzEyLjkyNzc5MjE5OTk5OTk5OSwgNzcuNTM3MzEwMywgMl0sIFsxMi45MzY0MjU5LCA3Ny41NzYwODExLCA1XSwgWzEyLjk1MTQ0LCA3Ny41NzUxMjI3MDAwMDAwMSwgNl0sIFsxMi45MzA3NzA1LCA3Ny41ODI3MzYsIDRdLCBbMTIuOTM3NjA3NDAwMDAwMDAxLCA3Ny41Njk1OTU5OTk5OTk5OSwgNl0sIFsxMi45MzEwNTEzLCA3Ny41NzczNDEsIDFdLCBbMTIuOTMwOTI1NiwgNzcuNTc5MzMxNCwgN10sIFsxMi45NDM1MzE2LCA3Ny41ODI1NjU4LCAxMF0sIFsxMi45NTgyOTYsIDc3LjUzMzM2MDMsIDFdLCBbMTIuOTI0MzU0MzAwMDAwMDAxLCA3Ny41NjMzODgyOTk5OTk5OSwgM10sIFsxMi45MzM2MDQ4MDAwMDAwMDEsIDc3LjU2MDA2OTUsIDVdLCBbMTIuOTIyNjA3NCwgNzcuNTUxNTQyNywgM10sIFsxMi45MDY2OTIsIDc3LjU2MjIwNzYsIDRdLCBbMTIuOTMzMjM3LCA3Ny41ODEwNzAzLCA5XSwgWzEyLjkxMTY4MiwgNzcuNTY0ODM0MywgNV0sIFsxMi45MDc0OSwgNzcuNTQ0NjM0LCAxXSwgWzEyLjkwNjQwNzQsIDc3LjU5NTY1MTEsIDFdLCBbMTIuOTM5NjkzNiwgNzcuNTY2OTkyOSwgNV0sIFsxMi45Mzc5ODcwOTk5OTk5OTksIDc3LjU2NjUzOSwgNV0sIFsxMi45MzQyNTUsIDc3LjU3ODU3MDcsIDRdLCBbMTIuOTA0NTUyNjk5OTk5OTk4LCA3Ny41NDE3Mzk1LCAxXSwgWzEyLjkzNjUyMzMwMDAwMDAwMSwgNzcuNTc2MjMzMywgNV0sIFsxMi45NTA1NjEyLCA3Ny41NzYyNDIyOTk5OTk5OSwgNV0sIFsxMi45MjY4Nzg4LCA3Ny41NzcxMjksIDVdLCBbMTIuOTM0OTAwOCwgNzcuNTgwNzUzMywgOF0sIFsxMi45NTczMDUzMDAwMDAwMDIsIDc3LjU2NDUxOTgsIDVdLCBbMTIuOTQxMTk0NCwgNzcuNTY4MjU5LCA1XSwgWzEyLjkzMDcyNjE5OTk5OTk5OSwgNzcuNTc2MDgyNSwgN10sIFsxMi45MjcyMDExOTk5OTk5OTksIDc3LjU3NDk5ODMsIDZdLCBbMTIuOTMwOTUzLCA3Ny41OTA0NzIwOTk5OTk5OSwgNl0sIFsxMi45NDU4ODI0LCA3Ny41Njg0MjI5LCAzXSwgWzEyLjk2NDg1OTcsIDc3LjUzODIyNTMwMDAwMDAxLCA0XSwgWzEyLjk0MDcxNDMwMDAwMDAwMiwgNzcuNTQ2NDk2NSwgM10sIFsxMi45MTg4MjYzMDAwMDAwMDEsIDc3LjU2NjU0NjMsIDVdLCBbMTIuOTA5MTc1NiwgNzcuNTYwODc4MiwgMl0sIFsxMi45NDMzODcsIDc3LjU3NDkzMjIsIDZdLCBbMTIuOTA1NzUyNjk5OTk5OTk5LCA3Ny41NTYzNjQ0LCAyXSwgWzEyLjkwOTEyODksIDc3LjU0NzAyNzcsIDFdLCBbMTIuOTMwOTAzNTk5OTk5OTk5LCA3Ny41Mzg5MDM1LCA1XSwgWzEyLjk0MDU4MTMwMDAwMDAwMiwgNzcuNTY2MDA1MywgNF0sIFsxMi45MjQyMTg4LCA3Ny41NjQwMTA5LCA5XSwgWzEyLjkyNTU5MTUsIDc3LjUxNTc3NiwgMV0sIFsxMi45MzU5NzM1LCA3Ny41ODE2NDQsIDZdLCBbMTIuOTI0MTQ5NywgNzcuNTYyODY3NDAwMDAwMDIsIDVdLCBbMTIuOTMxMzI5NywgNzcuNTgxMzY0MiwgN10sIFsxMi45MDQ5NTc1LCA3Ny41MzA2ODU3LCA1XSwgWzEyLjkyMjM0NjY5OTk5OTk5OSwgNzcuNTc1Njc0MjAwMDAwMDEsIDFdLCBbMTIuOTQ3NDIwMiwgNzcuNTY1Nzc0MSwgMl0sIFsxMi45MDkxNzU2LCA3Ny41NjA4NzgyLCAyXSwgWzEyLjkyNDAwNTAwMDAwMDAwMSwgNzcuNTY2MDcxMywgN10sIFsxMi45MTc2MDM5LCA3Ny41NzY2NTkyMDAwMDAwMSwgOF0sIFsxMi45Mjc1OTA3LCA3Ny41NzM1MDMxLCA3XSwgWzEyLjkzNDQ5NDgsIDc3LjUzMjMyNzcsIDJdLCBbMTIuOTI4NzA4LCA3Ny41NTk4MzE1LCAyXSwgWzEyLjkyNTY2NDIsIDc3LjU2Mjc4MTEsIDZdLCBbMTIuOTUyNDU0NSwgNzcuNTc1MTI1LCA0XSwgWzEyLjkzMDM1MjA5OTk5OTk5OSwgNzcuNTc5NDAzNSwgN10sIFsxMi45MTA5MzEsIDc3LjU2MjMzNjMsIDJdLCBbMTIuOTQxOTYyMSwgNzcuNTUwMzA5NywgM10sIFsxMi45MjU1MTYsIDc3LjU4MTQwMSwgOV0sIFsxMi45MDc1OTE2LCA3Ny41NTgzNjUwMDAwMDAwMSwgNF0sIFsxMi45MjQ1NDcyLCA3Ny41NzYzNiwgOV0sIFsxMi45Mjg5NDgxOTk5OTk5OTksIDc3LjU3OTQ3ODAwMDAwMDAxLCA1XSwgWzEyLjk0NDQ5Njg5OTk5OTk5OSwgNzcuNTc3NzYzNywgNV0sIFsxMi45MjM1NDY0MDAwMDAwMDEsIDc3LjU3OTIzMjQ5OTk5OTk5LCA3XSwgWzEyLjkyNDIwOSwgNzcuNTc1ODc5NywgN10sIFsxMi45NTIxNDY4MDAwMDAwMDEsIDc3LjU3NDk1MjU5OTk5OTk5LCA2XSwgWzI4LjU0ODUyNTMsIDc3LjI3NDk4NTIsIDddLCBbMTIuOTM2ODE0MzAwMDAwMDAyLCA3Ny41NzAxMDUzLCA2XSwgWzEyLjk2MTMxMjY5OTk5OTk5OSwgNzcuNTU5OTk1NCwgNF0sIFsxMi45NTA4NDI2LCA3Ny41NzIzMTI0LCA1XSwgWzEyLjk0ODkzNjEsIDc3LjU3NTMwMjQwMDAwMDAxLCA1XSwgWzEyLjk1MTQyMzMsIDc3LjU3NTEzMywgN10sIFsxMi45MjUxMTUsIDc3LjU2MjY1NjkwMDAwMDAxLCA1XSwgWzI4LjU0ODUyNTMsIDc3LjI3NDk4NTIsIDJdLCBbMTIuOTQ2NTA2LCA3Ny41NzQ0MjUzLCA1XSwgWzEyLjkyMTYyMDIsIDc3LjU2NzkxOTQ5OTk5OTk5LCA1XSwgWzEyLjkyNzc5NjUsIDc3LjU1OTc1NTcsIDVdLCBbMTIuOTA5MjQyMSwgNzcuNTY0MjI5MywgNF0sIFsyOC41NDg1MjUzLCA3Ny4yNzQ5ODUyLCA0XSwgWzEyLjkyNTU5MzE5OTk5OTk5OCwgNzcuNTYyMjU0MDAwMDAwMDEsIDZdLCBbMTIuOTI5NjM2NCwgNzcuNTcwNzA4NzAwMDAwMDEsIDZdLCBbMTIuOTM2MzA3NiwgNzcuNTczMTUzNDAwMDAwMDEsIDVdLCBbMTIuOTQxOTcxMSwgNzcuNTUwMTE1NDAwMDAwMDEsIDJdLCBbMTIuOTMxMjE0OSwgNzcuNTgxMzQ5MiwgOV0sIFsxMi45MjYwNDc1MDAwMDAwMDEsIDc3LjU3OTg5MSwgN10sIFsxMi45MzA0MTMyLCA3Ny41MzgyMjM5LCA0XSwgWzEyLjkxMTU1MDEsIDc3LjU2NDk0NCwgNV0sIFsxMi45MTY0OTksIDc3LjU1ODIwNjIsIDNdLCBbMTIuOTI0MTc1OSwgNzcuNTYyODI4Mjk5OTk5OTksIDJdLCBbMTIuOTQ3NTgyLCA3Ny41NjY4ODIyMDAwMDAwMSwgMl0sIFsxMi45MjU3NjE5MDAwMDAwMDEsIDc3LjU2MjEzNjA5OTk5OTk5LCAzXSwgWzEyLjkxMDM1MTMsIDc3LjU2MjI4NDA5OTk5OTk5LCAyXSwgWzEyLjkyNzI4OTE5OTk5OTk5OSwgNzcuNTgyOTg5OCwgNl0sIFsxMi44ODAwNTA0LCA3Ny42MjE0Nzg2LCAyXSwgWzEyLjkxNDkzNzcsIDc3LjYwNDU5MzYsIDE0XSwgWzI4LjU0ODUyNDgwMDAwMDAwMywgNzcuMjc0OTg1MiwgODZdLCBbMTIuODg5MzA4MiwgNzcuNTk0OTA3NTk5OTk5OTgsIDRdLCBbMTIuOTAyMTk0LCA3Ny41ODI5MzAzLCA0XSwgWzEyLjg3NTY2ODgwMDAwMDAwMSwgNzcuNTkzMDk3OSwgMl0sIFsyOC41NDg1MjUzLCA3Ny4yNzQ5ODUyLCA0XSwgWzI4LjU0ODUyNTMsIDc3LjI3NDk4NTIsIDNdLCBbMjguNTQ4NTI1MywgNzcuMjc0OTg1MiwgMl0sIFsxMi44NTkwNjQzMDAwMDAwMDIsIDc3LjYxMjAwOTEsIDJdLCBbMTIuODk1MTcxNSwgNzcuNjA4MTQ5MjAwMDAwMDEsIDRdLCBbMTIuODkxNTgzMDk5OTk5OTk4LCA3Ny42MDU5Mzg3LCA0XSwgWzEyLjg2MDkwMjkwMDAwMDAwMSwgNzcuNTg4NzQyMDk5OTk5OTksIDJdLCBbMTIuODkxMTI0OCwgNzcuNTk2MDcxNTk5OTk5OTksIDFdLCBbMjguNTQ4NTI1MywgNzcuMjc0OTg1MiwgNl0sIFsxMi44NTgzODAyLCA3Ny41ODIwMTg1LCAyXSwgWzI4LjU0ODUyNTMsIDc3LjI3NDk4NTIsIDhdLCBbMTIuODU4MDM2MTk5OTk5OTk5LCA3Ny41ODc3MjI0LCAyXSwgWzEyLjgzOTUyNzEsIDc3LjU4NjY3MjU5OTk5OTk5LCA0XSwgWzEyLjg1NTEyODMsIDc3LjU5MTQxMTQ5OTk5OTk5LCAyXSwgWzEyLjg3NTg1ODUwMDAwMDAwMSwgNzcuNTkzNDc3Mjk5OTk5OTksIDVdLCBbMTIuOTMwMTU2NSwgNzcuNTk4NjgyNSwgMTBdLCBbMTIuODM5NTI3MSwgNzcuNTg2NjcyNTk5OTk5OTksIDJdLCBbMTIuODk1NDU2LCA3Ny41MjE1MTIzLCAzXSwgWzEyLjg5MjI1NzQsIDc3LjU5NjM2NDI5OTk5OTk5LCA0XSwgWzEyLjg5MjAzOTgwMDAwMDAwMSwgNzcuNTk2NjYxNSwgNF0sIFsxMi44ODQ0ODQxLCA3Ny41OTQwMzk1OTk5OTk5OSwgNF0sIFsxMi44NDc4NzYxLCA3Ny41MzYyMTgzLCA0XSwgWzEyLjkwNzc0NTMsIDc3LjU5ODg5NTQsIDZdLCBbMTIuODQxNzgzNCwgNzcuNTczOTI5NzAwMDAwMDEsIDRdLCBbMTIuODYwNzg5NCwgNzcuNTU0ODIxNDAwMDAwMDEsIDJdLCBbMTIuODcyNDU4NywgNzcuNTkxNzE3MSwgMl0sIFsxMi44Mzk1MjcxLCA3Ny41ODY2NzI1OTk5OTk5OSwgMl0sIFsxMi44OTUyNjE5OTk5OTk5OTksIDc3LjYwODk2NzI5OTk5OTk5LCA0XSwgWzEyLjg4MTkyNzQsIDc3LjYwNzA3OTcsIDJdLCBbMTIuODkwNTQxMiwgNzcuNTk1OTU3OSwgMl0sIFsxMi44NjkyMzQsIDc3LjU5NTQyNzMsIDJdLCBbMTIuODYyMzczMTk5OTk5OTk5LCA3Ny41ODg0OTQ2LCAyXSwgWzEyLjkwMTQyODYsIDc3LjU5ODgxMDQsIDZdLCBbMTIuODc2MDAyNiwgNzcuNTkzNDQzMSwgMl0sIFsxMi44ODAyODQ1LCA3Ny42MDEyNzEyLCAyXSwgWzEyLjgzOTYwNTEsIDc3LjU3Njc5NTgsIDJdLCBbMTIuODc1ODc3MDAwMDAwMDAxLCA3Ny42MTQ4MzM3LCAyXSwgWzEyLjc5NDI4NTEsIDc3LjYxODYyNDQsIDNdLCBbMTIuODcwMTI0LCA3Ny42MjE4ODczLCAxXSwgWzEyLjkxMDgwNzksIDc3LjYwNzMzLCAyXSwgWzEyLjkwMDQxNTUsIDc3LjU5ODk3OTMsIDZdLCBbMTIuOTMwMTU2NSwgNzcuNTk4NjgyNSwgMTBdLCBbMTIuODc2MjYxMDk5OTk5OTk5LCA3Ny41OTM1Mjg1LCAyXSwgWzEyLjkwMDY4OCwgNzcuNTgzNDgwMjk5OTk5OTksIDRdLCBbMTIuODU2MDk4NSwgNzcuNTM4MTc2MiwgNV0sIFsxMi45MTQwMDE3LCA3Ny42MDY3MTY3LCAxMF0sIFsxMi44Nzc4MTMzLCA3Ny41OTM2MTA4MDAwMDAwMSwgM10sIFsyOC41NDg1MjUzLCA3Ny4yNzQ5ODUyLCAyXSwgWzEyLjg5MzM5OTEsIDc3LjU5ODQwNTU5OTk5OTk5LCA0XSwgWzI4LjU0ODUyNTMsIDc3LjI3NDk4NTIsIDVdLCBbMTIuOTE0OTU3OSwgNzcuNTgzODMyNSwgOV0sIFsxMi45MDU4ODc1LCA3Ny41ODc4NDcyMDAwMDAwMSwgOF0sIFsxMi45MTY2OTIxLCA3Ny41OTIxODk5MDAwMDAwMSwgMTNdLCBbMTIuODc2MjUxNywgNzcuNjE0NzUzNzk5OTk5OTksIDJdLCBbMTIuODkyMTgzMiwgNzcuNTk2Mzg0OSwgNF0sIFsxMi45MTIxODAwMDAwMDAwMDEsIDc3LjU4OTExOSwgOV0sIFsxMi45MDA5NzYzLCA3Ny41ODQ3NjEsIDRdLCBbMTIuODkzODI0MSwgNzcuNjA4NzMyMSwgMl0sIFsxMi44ODk2OTU5LCA3Ny41NDMwMzk3OTk5OTk5OSwgNF0sIFsxMi44OTE0OTgsIDc3LjU3MjQwMTMsIDRdLCBbMTIuOTAyMjkyMSwgNzcuNTY5ODE2MSwgN10sIFsxMi45MDM0OTg4MDAwMDAwMDEsIDc3LjYwMDE4MDAwMDAwMDAxLCA3XSwgWzEyLjg5MDA2MTcsIDc3LjU5NTYzMDUsIDJdLCBbMTIuOTA2MDQ5OCwgNzcuNTkwMjY2NywgMTFdLCBbMTIuODkwOTYzMzAwMDAwMDAxLCA3Ny41OTU1NDUxLCA0XSwgWzEyLjkxMzQ5OTUsIDc3LjYwNDEzOTgsIDldLCBbMTIuOTEzOTY1MSwgNzcuNTgzNjg3OCwgN10sIFsxMi45MTI5MTEsIDc3LjYwNzY2ODMsIDNdLCBbMTIuODk3MzQ0MSwgNzcuNTk3Njk0NiwgN10sIFsxMi45MTA2NzI3LCA3Ny41OTY5NTIyLCA5XSwgWzEyLjkyMjQ5NTgwMDAwMDAwMiwgNzcuNjE1MDUxLCA3XSwgWzEyLjkxNzAwMTcsIDc3LjU4MzU1OTgsIDVdLCBbMTIuODg1Njk1NCwgNzcuNjAwMjI0MzAwMDAwMDEsIDRdLCBbMTIuOTA2MDkwNSwgNzcuNTkwNjczOCwgMTNdLCBbMTIuOTA2OTUxLCA3Ny41NzEwOTgzLCA0XSwgWzEyLjg5MTY4NDksIDc3LjU3MjAzMzMsIDJdLCBbMTIuOTExNjcwMiwgNzcuNjA0MTc0MywgOV0sIFsxMi44OTA5NjMzMDAwMDAwMDEsIDc3LjU5NTU0NTEsIDRdLCBbMTIuOTA2NjQ1ODAwMDAwMDAyLCA3Ny41ODc0MzQ5LCA3XSwgWzI4LjU0ODUyNTMsIDc3LjI3NDk4NTIsIDhdLCBbMjguNTQ4NTI1MywgNzcuMjc0OTg1MiwgNF0sIFsxMi45MDcyMDE5LCA3Ny42MDM3NzE3MDAwMDAwMSwgNl0sIFsxMi45MDY0Njk2LCA3Ny41Nzk4ODI1OTk5OTk5OSwgOF0sIFsxMi44OTY4MzY0LCA3Ny41Nzg5MjY1OTk5OTk5OSwgNF0sIFsxMi44OTAzNDI1OTk5OTk5OTksIDc3LjU3OTgxNzIwMDAwMDAxLCAyXSwgWzEyLjkwMzc0NDIsIDc3LjU4MzY5OTcsIDZdLCBbMTIuOTAwMTg1NywgNzcuNTgzNDIxOCwgMl0sIFsxMi45MDYyMjUzMDAwMDAwMDEsIDc3LjU5MDk4NDU5OTk5OTk4LCA4XSwgWzEyLjg4NzMxODQwMDAwMDAwMiwgNzcuNTY5MzIwMywgNF0sIFsxMi44OTU1Nzk5LCA3Ny41Nzk2NTU3LCAzXSwgWzI4LjU0ODUyNTMsIDc3LjI3NDk4NTIsIDJdLCBbMTIuODk0Mjk1NiwgNzcuNjE4MDczNCwgMl0sIFsxMi45MDYwMjcxLCA3Ny42MDM2Njc4LCA2XSwgWzEyLjkwMDAxNzEsIDc3LjU4MzU1ODA5OTk5OTk5LCA0XSwgWzEyLjkwNTU4MjQsIDc3LjYwMjIyMTQsIDZdLCBbMjguNTQ4NTI1MywgNzcuMjc0OTg1MiwgOF0sIFsxMi45MDcwMDg4LCA3Ny41OTI4NzU0MDAwMDAwMSwgOF0sIFsxMi45MDU3MzgwMDAwMDAwMDEsIDc3LjU4MzU0MjAwMDAwMDAxLCA2XSwgWzEyLjkwNjk2ODgwMDAwMDAwMSwgNzcuNTc5MTI5NDAwMDAwMDEsIDJdLCBbMTIuOTA5MiwgNzcuNjExODcxMDk5OTk5OTksIDJdLCBbMTIuOTA1MzQ5MzAwMDAwMDAxLCA3Ny41NzkwMDQzLCA0XSwgWzEyLjkwOTE2NTMsIDc3LjYwNDI0MzQsIDZdLCBbMTIuODkwMDIyLCA3Ny41Nzk4MDc0LCA0XSwgWzEyLjg5MjQ0ODUsIDc3LjYwOTU5MDkwMDAwMDAxLCA0XSwgWzEyLjg5MjI3ODYsIDc3LjYwNzY0NzcsIDRdLCBbMTIuOTA5MTc0MiwgNzcuNjA2MDI2MSwgM10sIFsxMi44OTgxMjY1LCA3Ny41ODA0Mjk2LCA0XSwgWzEyLjg3NzIzNDUsIDc3LjU4MDE5MDEsIDRdLCBbMTIuOTA1NTg5MiwgNzcuNTc4MTUwNDAwMDAwMDEsIDZdLCBbMTIuOTAxODI3MSwgNzcuNTY3NjY5OSwgNF0sIFsxMi44OTQ4Mzk0LCA3Ny41NzYzNjYyOTk5OTk5OSwgNF0sIFsxMi45MDU5MTU3LCA3Ny41OTUyOTMsIDRdLCBbMTIuOTEzNjM3NCwgNzcuNjAzNTk5NSwgNF0sIFsxMi45MDYzOTI1LCA3Ny42MDQ0NDEwMDAwMDAwMSwgNl0sIFsxMi45MDg5MjA3LCA3Ny41NzQzNzgyOTk5OTk5OSwgNl0sIFsxMi45MDY0MDc0LCA3Ny41OTU2NTExLCA0XSwgWzEyLjk5ODYzNTQ5OTk5OTk5OSwgNzcuNjEzMzAzLCA0XSwgWzEyLjkwMjEyMjEsIDc3LjU4ODYzNTcwMDAwMDAxLCA0XSwgWzEyLjg5MzI4NzEsIDc3LjU3OTcwODUsIDNdLCBbMTIuOTA5MTM0NywgNzcuNjA0MjY4NywgNl0sIFsxMi45MDg3OTMsIDc3LjYwMTQ0MjMsIDZdLCBbMTIuOTEwMjUyOTk5OTk5OTk5LCA3Ny41OTU1MjcyOTk5OTk5OSwgNF0sIFsxMi45MDc3NDUzLCA3Ny41OTg4OTU0LCA0XSwgWzEyLjkxMTY0NDU5OTk5OTk5OSwgNzcuNTkxMzAwNDAwMDAwMDEsIDldLCBbMTIuODYzNzEyMTk5OTk5OTk4LCA3Ny41OTQ1MjM5OTk5OTk5OSwgMl0sIFsxMi44NzYwMDI2LCA3Ny41OTM0NDMxLCAyXSwgWzEyLjg3NjIxMzkwMDAwMDAwMiwgNzcuNjEzNjkyMywgMV0sIFsxMi44ODI4ODgwMDAwMDAwMDEsIDc3LjYwODAwNDI5OTk5OTk5LCA1XSwgWzEyLjkxMjQ2ODIsIDc3LjYxMzYxLCAxMF0sIFsxMi45MTQ5NzM5LCA3Ny42MDM5MzE3LCAxMV0sIFsxMi44OTg4OTM5LCA3Ny41ODQzNzA0LCA0XSwgWzEyLjg4OTQzODcsIDc3LjYxODE1Mjc5OTk5OTk5LCAzXSwgWzEyLjkwMDc1MTA5OTk5OTk5OSwgNzcuNjA2Mjc3MiwgN10sIFsxMi44OTI5NiwgNzcuNTkyMDQxMSwgM10sIFsxMi45MDMxODkxLCA3Ny41ODM3NDg0LCA3XSwgWzI4LjU0ODUyNTMsIDc3LjI3NDk4NTIsIDEyXSwgWzEyLjg5NDMxNTgwMDAwMDAwMSwgNzcuNTc4NzEyMDk5OTk5OTksIDRdLCBbMTIuOTExODYxNiwgNzcuNTg0ODI2Nzk5OTk5OTksIDFdLCBbMTIuODg1MzM4MiwgNzcuNTk4NDEyNCwgNF0sIFsxMi45MTQ1ODc4MDAwMDAwMDEsIDc3LjYxMDIxOTQsIDExXSwgWzI4LjU0ODUyNTMsIDc3LjI3NDk4NTIsIDEzXSwgWzEyLjg4MTA0MTkwMDAwMDAwMSwgNzcuNjA4MDE3LCAxXSwgWzEyLjkwNzI5NTUsIDc3LjU5NzE4ODgsIDNdLCBbMTIuNzk0Mjg1MSwgNzcuNjE4NjI0NCwgMl0sIFsxMi44OTA3MzE1MDAwMDAwMDEsIDc3LjU5NjI3MjEsIDFdLCBbMTIuOTA3MDc2NywgNzcuNTg4NzU0NTAwMDAwMDEsIDVdLCBbMTIuODM5NTI3MSwgNzcuNTg2NjcyNTk5OTk5OTksIDFdLCBbMTIuODg5NjU1Njk5OTk5OTk5LCA3Ny41OTg3OTUsIDJdLCBbMTIuODc2MDAyNiwgNzcuNTkzNDQzMSwgMV0sIFsxMi44OTAwMTYyLCA3Ny41OTU4NTc5LCAxXSwgWzEyLjc5NDI4NTEsIDc3LjYxODYyNDQsIDFdLCBbMTIuOTA3NzQ1MywgNzcuNTk4ODk1NCwgNF0sIFsxMi44NzYwMDI2LCA3Ny41OTM0NDMxLCAxXSwgWzEyLjk1Mzg0NzcsIDc3LjM1MDczNjIwMDAwMDAxLCAxXSwgWzEyLjg3NTg1ODUwMDAwMDAwMSwgNzcuNTkzNTUwMDk5OTk5OTksIDFdLCBbMTIuOTEyNjc5NiwgNzcuNTk5NDg5NDAwMDAwMDEsIDddLCBbMTIuOTA1MTAxNiwgNzcuNTczMjQzOCwgMl0sIFsxMi45MDY5MjEzLCA3Ny41ODk3MjU4LCA0XSwgWzEyLjkwNjIyNTMwMDAwMDAwMSwgNzcuNTkwOTg0NTk5OTk5OTgsIDNdLCBbMTIuOTA2MTQxNywgNzcuNTg4NjIwMjAwMDAwMDEsIDhdLCBbMTIuOTA2MzgzLCA3Ny41OTQ1MjQzLCA3XSwgWzEyLjg4NzQ2NzcsIDc3LjU4MDE2MzU5OTk5OTk5LCAzXSwgWzEyLjg5MjI1NjY5OTk5OTk5OSwgNzcuNTc5MTE1NywgMl0sIFsxMi44ODI1NTYsIDc3LjYwODI3NiwgMl0sIFsxMi44Mzc5ODIsIDc3LjU3MzM5MTQsIDFdLCBbMTIuODkxNTA2LCA3Ny42MDIzODkzLCAyXSwgWzEyLjg4NzA3NjUsIDc3LjU5MjA2ODYsIDFdLCBbMTIuODgyNDg1ODAwMDAwMDAxLCA3Ny41OTM3NjQ3LCAxXSwgWzEyLjg2NTUwNjEsIDc3LjU5NzI3NzEsIDJdLCBbMTIuODg0NzY2NSwgNzcuNTk0NzYxOCwgMl0sIFsxMi44MDA5MDAzLCA3Ny41NzU1ODAzLCAxXSwgWzEyLjkxMTk4OSwgNzcuNjAwMDY0MSwgMl0sIFsxMi44NDE1NTgwMDAwMDAwMDEsIDc3LjU4ODE5OTMsIDFdLCBbMTIuODc1OTMxMSwgNzcuNTkzNDk1MywgMV0sIFsxMi44Nzk5NDc3LCA3Ny41OTgwOTI3OTk5OTk5OSwgMV0sIFsxMi44NzY0MzkxLCA3Ny42MTI2ODQ0LCAxXSwgWzEyLjg3NjAwMjYsIDc3LjU5MzQ0MzEsIDFdLCBbMTIuODc2MzA4NDAwMDAwMDAxLCA3Ny41OTM1OTYyMDAwMDAwMSwgMV0sIFsxMi45MDUwMDQ3LCA3Ny41OTkzNjQwMDAwMDAwMSwgMV0sIFsxMi44ODMzMDUsIDc3LjYwNTI3MDQwMDAwMDAxLCAxXSwgWzEyLjkxNDUyOTE5OTk5OTk5OSwgNzcuNTk3MjIzNSwgMTJdLCBbMTIuOTA3NDgyNDAwMDAwMDAxLCA3Ny41ODg1NTA1LCA0XSwgWzEyLjkwNzc5NDQsIDc3LjU5ODk2MjYsIDddLCBbMTIuOTA3NzU3NywgNzcuNTk5MzI1NiwgNF0sIFsxMi45MDc3NDUzLCA3Ny41OTg4OTU0LCA0XSwgWzEyLjg4NTE5MTY5OTk5OTk5OCwgNzcuNTkyNzI4Mjk5OTk5OTksIDJdLCBbMTIuNzk0MjQ4MSwgNzcuNDgwNzI0NTk5OTk5OTksIDNdLCBbMTIuOTE0Nzg1MSwgNzcuNTk3MjIyNCwgNF0sIFsxMi45MzAxNTY1LCA3Ny41OTg2ODI1LCA1XSwgWzEyLjg4ODk5MjE5OTk5OTk5OSwgNzcuNjAwNjgxNzAwMDAwMDEsIDFdLCBbMTIuOTMwMDc5MzAwMDAwMDAxLCA3Ny41OTg4Mjg0MDAwMDAwMiwgNF0sIFsxMi45MzA3MTc4MDAwMDAwMDIsIDc3LjYwMDcxODcsIDZdLCBbMjguNTQ4NTI1MywgNzcuMjc0OTg1MiwgNV0sIFsxMi44ODEzNTA5OTk5OTk5OTksIDc3LjU5MzY5NTMsIDFdLCBbMTIuODk5MzE2OSwgNzcuNTk0MzAyNSwgNV0sIFsxMi45MTE4NjA4OTk5OTk5OTksIDc3LjU5NzkxNTMsIDNdLCBbMTIuODc2MDAyNiwgNzcuNTkzNDQzMSwgMV0sIFsxMi44NjI4MzUzLCA3Ny41ODg4MSwgMV0sIFsxMi43OTQyODUxLCA3Ny42MTg2MjQ0LCAyXSwgWzEyLjkwNzc5NDQsIDc3LjU5ODk2MjYsIDRdLCBbMTIuODk2MDcwMzAwMDAwMDAyLCA3Ny41OTk0ODksIDNdLCBbMTIuODc2NzE0Njk5OTk5OTk5LCA3Ny41OTE5OTEyLCAxXSwgWzEyLjkwODI5NDA5OTk5OTk5OSwgNzcuNTk5NDcwMywgMl0sIFsxMi44ODI5ODU5LCA3Ny42MDY1NDA3OTk5OTk5OSwgMV0sIFsyOC41NDg1MjUzLCA3Ny4yNzQ5ODUyLCA1XSwgWzEyLjkyMzk5MTAwMDAwMDAwMSwgNzcuNTYyMDczNSwgM10sIFsxMi45MjY4MzI2OTk5OTk5OTksIDc3LjU4MTcwMTI5OTk5OTk5LCA4XSwgWzEyLjkzMjcyODUsIDc3LjU4MjUxNzEsIDZdLCBbMTIuOTI3NDk3MiwgNzcuNTc0OTgyOTk5OTk5OTksIDZdLCBbMTIuOTQ3MTgyNCwgNzcuNTY2NzE4NzAwMDAwMDEsIDVdLCBbMTIuOTMzNzc0OTAwMDAwMDAxLCA3Ny41NzIzNDczLCA2XSwgWzEyLjkzNjMxOTAwMDAwMDAwMSwgNzcuNTY3MjkxMiwgN10sIFsxMi45Mjg5NDA1LCA3Ny41OTA2NTE3OTk5OTk5OSwgOV0sIFsxMi45NTgwNTM5MDAwMDAwMDEsIDc3LjUzMjAzNjYsIDFdLCBbMTIuOTM5NjExOTAwMDAwMDAxLCA3Ny41NzUzNTkzLCA3XSwgWzEyLjkyNTE0MzgsIDc3LjU3NDUzOTcsIDZdLCBbMTIuOTA2MTc1MDk5OTk5OTk5LCA3Ny41NjU5ODAyOTk5OTk5OSwgNV0sIFsxMi45MjU3NjcxLCA3Ny41NjIxMzA3OTk5OTk5OSwgNV0sIFsxMi45MzA3MzczLCA3Ny41NjczNTkwOTk5OTk5OSwgNV0sIFsxMi45MzA5NTMxLCA3Ny41NzQxMDczLCA0XSwgWzEyLjkyNjUxNjMsIDc3LjU0NjM3Njc5OTk5OTk5LCAyXSwgWzEyLjkyNTk1OTQsIDc3LjU2MjE4MjIwMDAwMDAxLCA1XSwgWzEyLjk0NDg2MzgsIDc3LjU2NTgzODksIDNdLCBbMTIuOTEwMjM1MywgNzcuNTQwMTIxNTk5OTk5OTksIDFdLCBbMTIuOTI2MjkyNywgNzcuNTgyNzI4MiwgNF0sIFsxMi45MzI4Nzk1LCA3Ny41NjUxNDgzLCA0XSwgWzEyLjkzMTA3MzYsIDc3LjU4MDg5MTYsIDVdLCBbMTIuOTQzNDIzNjk5OTk5OTk5LCA3Ny41NjU1NzgxLCA1XSwgWzEyLjkzODc5NjcsIDc3LjU0OTg1MywgNF0sIFsxMi45MjYxMTk1LCA3Ny41ODI0NDIyLCA1XSwgWzEyLjkyODE4NDMwMDAwMDAwMiwgNzcuNTQ5NTM0OTk5OTk5OTksIDNdLCBbMTIuOTM0ODcwNywgNzcuNTQ0OTI3NSwgM10sIFsxMi45MjM4MTY0LCA3Ny41NTEyNjgwMDAwMDAwMSwgMl0sIFsxMi45MTQ4NjU3LCA3Ny41NjU0ODg1LCA0XSwgWzEyLjkwNzEzMTE5OTk5OTk5OCwgNzcuNTYxMzA4MDk5OTk5OTksIDJdLCBbMTIuOTA3MjA2MiwgNzcuNTU3ODI2NiwgMl0sIFsxMi45NTI2Mzg5LCA3Ny41NDE5MTc3LCA0XSwgWzEyLjkwNzEwMjYsIDc3LjU2MTQ2MiwgMl0sIFsxMi45NDgxNDA0MDAwMDAwMDIsIDc3LjU3NDM4MTgsIDVdLCBbMTIuOTgxODc5NCwgNzcuNTkzODE0NywgMl0sIFsxMi45MDgxMDk2LCA3Ny41NTg3Njc1LCAyXSwgWzEyLjkwNzk1NjksIDc3LjU2MjkyMzcwMDAwMDAxLCAyXSwgWzEyLjkwODM4OTUsIDc3LjU2MjkxMjA5OTk5OTk5LCAyXSwgWzEyLjkyMDE3MDIsIDc3LjU2NzExNDcsIDJdLCBbMTIuOTEyMTU2MTk5OTk5OTk4LCA3Ny41ODM2MDkzLCA0XSwgWzEyLjkyODk3NzQsIDc3LjU4MzgxNjA5OTk5OTk5LCA4XSwgWzEyLjkzMDI5NjQ5OTk5OTk5OSwgNzcuNTgwOTA4OTk5OTk5OTksIDhdLCBbMTIuOTI1NzI2NiwgNzcuNTcxNTUwMSwgN10sIFsxMi45NTg3OTU3LCA3Ny41NzMzMTM4LCA0XSwgWzEyLjkzMTIxNzQsIDc3LjU2NDk0NDcsIDddLCBbMTIuOTQwNzUxODAwMDAwMDAxLCA3Ny41NDMxMjg0MDAwMDAwMSwgMl0sIFsxMi45NDYwNjg0OTk5OTk5OTksIDc3LjU2OTI1OTMsIDVdLCBbMTIuOTQzNjY2NDk5OTk5OTk5LCA3Ny41Njg3OTE4LCA1XSwgWzEyLjkyMTkwODksIDc3LjU2NzY2NDcsIDddLCBbMTIuOTI2NTU4MzAwMDAwMDAyLCA3Ny41NjE3NzE5OTk5OTk5OSwgNV0sIFsxMi45MzI3OTY2OTk5OTk5OTksIDc3LjU4MzI5MDI5OTk5OTk5LCA4XSwgWzEyLjk1MTY1MDIsIDc3LjU3MzAxMTgsIDRdLCBbMTIuOTM5ODE5NiwgNzcuNTcwNDk4NywgNl0sIFsxMi45MzI0MTczMDAwMDAwMDEsIDc3LjU4NDE0OTksIDddLCBbMTIuOTI0MzU5NywgNzcuNTYzMzgxNzAwMDAwMDEsIDZdLCBbMTIuOTEwOTkyMTk5OTk5OTk5LCA3Ny41NDkwNjkyLCAxXSwgWzEyLjkyOTI1MzUsIDc3LjU2OTYwMjQwMDAwMDAxLCA2XSwgWzEyLjg5ODAxMDQsIDc3LjU2ODg3MTIsIDVdLCBbMTIuOTQ5Njg3NDAwMDAwMDAyLCA3Ny41NzMwNzc4LCAzXSwgWzEyLjk1MzQyMTIsIDc3LjU3NzkxNSwgOF0sIFsxMi45Mjc5MTU2LCA3Ny41NzYwMDEsIDZdLCBbMTIuOTI2NTAyMiwgNzcuNTgyNDMzLCAxMF0sIFsxMi45MjY5MjA5LCA3Ny41NjIzMTQ1LCA1XSwgWzEyLjkwNzg3NDgsIDc3LjU2MDM5MywgNF0sIFsxMi45MzM1OTA5LCA3Ny41NTkzNzY2LCA1XSwgWzEzLjAyNzc4MzQsIDc3LjYzMDI1NDcwMDAwMDAxLCAyXSwgWzEyLjkyNDE2NDQsIDc3LjU3NDg1ODU5OTk5OTk4LCAzXSwgWzEyLjkyNjI2MTcsIDc3LjU3OTcxODIsIDhdLCBbMTIuOTA1MjAwNTk5OTk5OTk5LCA3Ny41NjA2NTk2LCAyXSwgWzEyLjk0ODM2NDUsIDc3LjU2NjQ3MDUsIDRdLCBbMTIuOTQwMTg5MTk5OTk5OTk5LCA3Ny41NTExNTgsIDRdLCBbMTIuOTIxNDIxNywgNzcuNTY4ODM3MiwgN10sIFsxMi45NDU4NDU1LCA3Ny41Njg0ODEyMDAwMDAwMSwgNV0sIFsxMi45NDU1MzI3LCA3Ny41Njg5NTM3LCA1XSwgWzEyLjkyNDg4MjQ5OTk5OTk5OSwgNzcuNTYyNDEwNTk5OTk5OTksIDNdLCBbMTIuOTQxOTgyMzAwMDAwMDAxLCA3Ny41NTIxMzcxLCAxXSwgWzEyLjkyNTE3NzgsIDc3LjU1OTk1MDEsIDFdLCBbMTIuOTI2MTQ4Mzk5OTk5OTk5LCA3Ny41NjIzMDQ3OTk5OTk5OSwgNV0sIFsxMi45MzAyMDU4MDAwMDAwMDEsIDc3LjU0NDU5NzksIDFdLCBbMTIuOTQxOTI1OCwgNzcuNTUwMDY5MjAwMDAwMDEsIDFdLCBbMTIuOTIyODg4MSwgNzcuNTU0MTQwOCwgMl0sIFsxMi45MjM0ODE1OTk5OTk5OTksIDc3LjU2ODAzMjYsIDNdLCBbMTIuOTM5MTIwOSwgNzcuNTUwOTg2NSwgMl0sIFsxMi45NDYxMTMzLCA3Ny41NjgwNzY3OTk5OTk5OSwgMl0sIFsxMi45NDc5NjQ1MDAwMDAwMDEsIDc3LjU2Nzc0MjIsIDJdLCBbMTIuOTQzMjk5NSwgNzcuNTY4ODU0NCwgMl0sIFsxMi45NDcxOTQ2OTk5OTk5OTksIDc3LjU2OTI2MTcwMDAwMDAxLCAyXSwgWzEyLjk0NDE2MTgsIDc3LjU2ODEwNTQwMDAwMDAxLCAyXSwgWzEyLjk0MjkwMzIsIDc3LjU2NjAwMjU5OTk5OTk5LCA0XSwgWzEyLjk0NDM1MzQsIDc3LjU3MDg0MzAwMDAwMDAxLCA0XSwgWzEyLjkyNTc2OCwgNzcuNTYxODcxOSwgNF0sIFsxMi45MjUxNDU1OTk5OTk5OTksIDc3LjU0ODYxMDcwMDAwMDAxLCAyXSwgWzEyLjk0MzkwMDcsIDc3LjU1OTQzMTgsIDRdLCBbMTIuOTQ2Njc4MiwgNzcuNTQzODIsIDRdLCBbMTIuOTIzODg5OSwgNzcuNTcxMjUzMywgM10sIFsxMi45NDIxMzc0MDAwMDAwMDIsIDc3LjU0OTgwNTQsIDJdLCBbMTIuOTI5NDAyNjk5OTk5OTk5LCA3Ny41NjA5NDA3LCAzXSwgWzEyLjkzMjgwMzgsIDc3LjUzNDQxOTUsIDFdLCBbMTIuOTQzMjE2LCA3Ny41NDIxNjg3LCAxXSwgWzEyLjkzNDQwMjQsIDc3LjUzMzM0MTQwMDAwMDAxLCAxXSwgWzEyLjkzNDc1MSwgNzcuNTM0NTU3NDk5OTk5OTksIDFdLCBbMTIuOTIzNjg3MSwgNzcuNTUxNzkyNzAwMDAwMDEsIDFdLCBbMTIuOTIzOTYyNCwgNzcuNTY0MzM0OCwgM10sIFsxMi45MjQwODc1OTk5OTk5OTgsIDc3LjU2NDgyNjcsIDNdLCBbMTIuOTQxNzY1NiwgNzcuNTQyOTMxMiwgMV0sIFsxMi45NDExNzkxOTk5OTk5OTksIDc3LjU1NTczMTcwMDAwMDAxLCAyXSwgWzEyLjk0MTc3NjcsIDc3LjU1NzgyMjgsIDJdLCBbMTIuOTQwMjg0OCwgNzcuNTQ1MTE0NSwgMV0sIFsxMi45NDAxNzU3LCA3Ny41NjIyMDk5LCAyXSwgWzEyLjkyNTU5NjcsIDc3LjU2MjI0ODMwMDAwMDAxLCAzXSwgWzEyLjkzODM2NzEsIDc3LjU1MzYwNDgsIDJdXSwKICAgICAgICAgICAgICAgIHsKICAgICAgICAgICAgICAgICAgICBtaW5PcGFjaXR5OiAwLjUsCiAgICAgICAgICAgICAgICAgICAgbWF4Wm9vbTogMTgsCiAgICAgICAgICAgICAgICAgICAgbWF4OiAxLjAsCiAgICAgICAgICAgICAgICAgICAgcmFkaXVzOiAxNSwKICAgICAgICAgICAgICAgICAgICBibHVyOiAxNSwKICAgICAgICAgICAgICAgICAgICBncmFkaWVudDogbnVsbAogICAgICAgICAgICAgICAgICAgIH0pCiAgICAgICAgICAgICAgICAuYWRkVG8obWFwXzExYWZmNWRjZjU4NTQzODQ5ZTIyOTliMzg1ODAyNGJiKTsKICAgICAgICAKPC9zY3JpcHQ+\" style=\"position:absolute;width:100%;height:100%;left:0;top:0;border:none !important;\" allowfullscreen webkitallowfullscreen mozallowfullscreen></iframe></div></div>"
            ],
            "text/plain": [
              "<folium.folium.Map at 0x7f43022ad390>"
            ]
          },
          "metadata": {
            "tags": []
          },
          "execution_count": 80
        }
      ]
    },
    {
      "cell_type": "code",
      "metadata": {
        "id": "EZlOY0x7aHGi",
        "colab_type": "code",
        "colab": {
          "base_uri": "https://localhost:8080/",
          "height": 705
        },
        "outputId": "28f245ca-22f7-488e-9fd1-d09527fb873e"
      },
      "source": [
        "address_mean=df.groupby('address').mean()\n",
        "address_mean"
      ],
      "execution_count": 81,
      "outputs": [
        {
          "output_type": "execute_result",
          "data": {
            "text/html": [
              "<div>\n",
              "<style scoped>\n",
              "    .dataframe tbody tr th:only-of-type {\n",
              "        vertical-align: middle;\n",
              "    }\n",
              "\n",
              "    .dataframe tbody tr th {\n",
              "        vertical-align: top;\n",
              "    }\n",
              "\n",
              "    .dataframe thead th {\n",
              "        text-align: right;\n",
              "    }\n",
              "</style>\n",
              "<table border=\"1\" class=\"dataframe\">\n",
              "  <thead>\n",
              "    <tr style=\"text-align: right;\">\n",
              "      <th></th>\n",
              "      <th>cost(per person)</th>\n",
              "      <th>online_order</th>\n",
              "      <th>book_table</th>\n",
              "      <th>rating</th>\n",
              "      <th>votes</th>\n",
              "      <th>revenue</th>\n",
              "    </tr>\n",
              "    <tr>\n",
              "      <th>address</th>\n",
              "      <th></th>\n",
              "      <th></th>\n",
              "      <th></th>\n",
              "      <th></th>\n",
              "      <th></th>\n",
              "      <th></th>\n",
              "    </tr>\n",
              "  </thead>\n",
              "  <tbody>\n",
              "    <tr>\n",
              "      <th># 31, 7th Cross, Opposite Canara Bank, Domlur, Bangalore</th>\n",
              "      <td>300.0</td>\n",
              "      <td>1.0</td>\n",
              "      <td>0.0</td>\n",
              "      <td>4.100000</td>\n",
              "      <td>364.750000</td>\n",
              "      <td>109425.000000</td>\n",
              "    </tr>\n",
              "    <tr>\n",
              "      <th># 8 (169) 11th cross S.R Nagar Residency Road, Bangalore</th>\n",
              "      <td>200.0</td>\n",
              "      <td>1.0</td>\n",
              "      <td>0.0</td>\n",
              "      <td>3.000000</td>\n",
              "      <td>13.000000</td>\n",
              "      <td>2600.000000</td>\n",
              "    </tr>\n",
              "    <tr>\n",
              "      <th>#,1070 Ground Floor, 24th Main, oppiste karnataka bank, 1st Sector, HSR Layout, HSR, Bangalore</th>\n",
              "      <td>150.0</td>\n",
              "      <td>0.0</td>\n",
              "      <td>0.0</td>\n",
              "      <td>4.000000</td>\n",
              "      <td>104.000000</td>\n",
              "      <td>15600.000000</td>\n",
              "    </tr>\n",
              "    <tr>\n",
              "      <th>#01, 1st A Main BTM 2nd Stage, BTM, Bangalore</th>\n",
              "      <td>150.0</td>\n",
              "      <td>1.0</td>\n",
              "      <td>0.0</td>\n",
              "      <td>3.422222</td>\n",
              "      <td>6.777778</td>\n",
              "      <td>1016.666667</td>\n",
              "    </tr>\n",
              "    <tr>\n",
              "      <th>#03, Sai Sanjeevani Layout, 1st Main Road, Munnekollall, Marathahalli, Bangalore</th>\n",
              "      <td>250.0</td>\n",
              "      <td>0.0</td>\n",
              "      <td>0.0</td>\n",
              "      <td>3.700000</td>\n",
              "      <td>41.000000</td>\n",
              "      <td>10250.000000</td>\n",
              "    </tr>\n",
              "    <tr>\n",
              "      <th>...</th>\n",
              "      <td>...</td>\n",
              "      <td>...</td>\n",
              "      <td>...</td>\n",
              "      <td>...</td>\n",
              "      <td>...</td>\n",
              "      <td>...</td>\n",
              "    </tr>\n",
              "    <tr>\n",
              "      <th>Zone by The Park, 26/A, Phase 1, Electronic City, Bangalore</th>\n",
              "      <td>700.0</td>\n",
              "      <td>0.0</td>\n",
              "      <td>1.0</td>\n",
              "      <td>4.000000</td>\n",
              "      <td>415.000000</td>\n",
              "      <td>290500.000000</td>\n",
              "    </tr>\n",
              "    <tr>\n",
              "      <th>bhaskar reddy building, hosur main road, yellamma temple road, Electronic City, Bangalore</th>\n",
              "      <td>150.0</td>\n",
              "      <td>1.0</td>\n",
              "      <td>0.0</td>\n",
              "      <td>3.300000</td>\n",
              "      <td>7.000000</td>\n",
              "      <td>1050.000000</td>\n",
              "    </tr>\n",
              "    <tr>\n",
              "      <th>c/o Foodism, 2nd A Main Road, 445/31, 7th Cross Road, Vibhutipura Extension, Doddanekundi, Doddanekkundi, Bengaluru, Karnataka 560037</th>\n",
              "      <td>150.0</td>\n",
              "      <td>1.0</td>\n",
              "      <td>0.0</td>\n",
              "      <td>4.200000</td>\n",
              "      <td>44.000000</td>\n",
              "      <td>6600.000000</td>\n",
              "    </tr>\n",
              "    <tr>\n",
              "      <th>hree Shankaranarayana 1981 &amp; 1990/17, 28th Main Road, 9th Block, Jayanagar East, Jayanagar, Bangalore</th>\n",
              "      <td>200.0</td>\n",
              "      <td>1.0</td>\n",
              "      <td>0.0</td>\n",
              "      <td>3.700000</td>\n",
              "      <td>0.000000</td>\n",
              "      <td>0.000000</td>\n",
              "    </tr>\n",
              "    <tr>\n",
              "      <th>somasundra palaya</th>\n",
              "      <td>225.0</td>\n",
              "      <td>0.0</td>\n",
              "      <td>0.0</td>\n",
              "      <td>3.700000</td>\n",
              "      <td>31.000000</td>\n",
              "      <td>6975.000000</td>\n",
              "    </tr>\n",
              "  </tbody>\n",
              "</table>\n",
              "<p>8792 rows × 6 columns</p>\n",
              "</div>"
            ],
            "text/plain": [
              "                                                    cost(per person)  ...        revenue\n",
              "address                                                               ...               \n",
              "# 31, 7th Cross, Opposite Canara Bank, Domlur, ...             300.0  ...  109425.000000\n",
              "# 8 (169) 11th cross S.R Nagar Residency Road, ...             200.0  ...    2600.000000\n",
              "#,1070 Ground Floor, 24th Main, oppiste karnata...             150.0  ...   15600.000000\n",
              "#01, 1st A Main BTM 2nd Stage, BTM, Bangalore                  150.0  ...    1016.666667\n",
              "#03, Sai Sanjeevani Layout, 1st Main Road, Munn...             250.0  ...   10250.000000\n",
              "...                                                              ...  ...            ...\n",
              "Zone by The Park, 26/A, Phase 1, Electronic Cit...             700.0  ...  290500.000000\n",
              "bhaskar reddy building, hosur main road, yellam...             150.0  ...    1050.000000\n",
              "c/o Foodism, 2nd A Main Road, 445/31, 7th Cross...             150.0  ...    6600.000000\n",
              "hree Shankaranarayana 1981 & 1990/17, 28th Main...             200.0  ...       0.000000\n",
              "somasundra palaya                                              225.0  ...    6975.000000\n",
              "\n",
              "[8792 rows x 6 columns]"
            ]
          },
          "metadata": {
            "tags": []
          },
          "execution_count": 81
        }
      ]
    },
    {
      "cell_type": "code",
      "metadata": {
        "id": "L1KuKo1jvEsE",
        "colab_type": "code",
        "colab": {}
      },
      "source": [
        "address=address_mean.index.to_list()\n",
        "cost_list=address_mean['cost(per person)'].to_list()\n",
        "rating_list=address_mean['rating'].to_list()"
      ],
      "execution_count": 0,
      "outputs": []
    },
    {
      "cell_type": "code",
      "metadata": {
        "id": "i8eQKMSdaG0S",
        "colab_type": "code",
        "colab": {
          "base_uri": "https://localhost:8080/",
          "height": 532
        },
        "outputId": "31f30c62-83d3-4481-b4a7-17e511863b91"
      },
      "source": [
        "coord_counts=[]\n",
        "for i in range(len(coord['Location'])):\n",
        "    ind=list(address).index(coord['Location'][i])\n",
        "    coord_counts.append([coord['X'][i],coord['Y'][i],cost_list[ind]])\n",
        "\n",
        "gen_map(coord_counts,radius=10)"
      ],
      "execution_count": 89,
      "outputs": [
        {
          "output_type": "execute_result",
          "data": {
            "text/html": [
              "<div style=\"width:100%;\"><div style=\"position:relative;width:100%;height:0;padding-bottom:60%;\"><iframe src=\"data:text/html;charset=utf-8;base64,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\" style=\"position:absolute;width:100%;height:100%;left:0;top:0;border:none !important;\" allowfullscreen webkitallowfullscreen mozallowfullscreen></iframe></div></div>"
            ],
            "text/plain": [
              "<folium.folium.Map at 0x7f430220abe0>"
            ]
          },
          "metadata": {
            "tags": []
          },
          "execution_count": 89
        }
      ]
    },
    {
      "cell_type": "code",
      "metadata": {
        "id": "rcpE7El5aGYJ",
        "colab_type": "code",
        "colab": {
          "base_uri": "https://localhost:8080/",
          "height": 532
        },
        "outputId": "05a29bd9-fa59-4163-ccc2-4aa9b613c851"
      },
      "source": [
        "coord_counts=[]\n",
        "for i in range(len(coord['Location'])):\n",
        "    ind=list(address).index(coord['Location'][i])\n",
        "    coord_counts.append([coord['X'][i],coord['Y'][i],rating_list[ind]])\n",
        "\n",
        "gen_map(coord_counts,radius=10)"
      ],
      "execution_count": 90,
      "outputs": [
        {
          "output_type": "execute_result",
          "data": {
            "text/html": [
              "<div style=\"width:100%;\"><div style=\"position:relative;width:100%;height:0;padding-bottom:60%;\"><iframe src=\"data:text/html;charset=utf-8;base64,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\" style=\"position:absolute;width:100%;height:100%;left:0;top:0;border:none !important;\" allowfullscreen webkitallowfullscreen mozallowfullscreen></iframe></div></div>"
            ],
            "text/plain": [
              "<folium.folium.Map at 0x7f43021c14e0>"
            ]
          },
          "metadata": {
            "tags": []
          },
          "execution_count": 90
        }
      ]
    },
    {
      "cell_type": "markdown",
      "metadata": {
        "id": "JzHiAQ4xz6rL",
        "colab_type": "text"
      },
      "source": [
        "# User input"
      ]
    },
    {
      "cell_type": "code",
      "metadata": {
        "id": "vZb3UUEWx4OL",
        "colab_type": "code",
        "colab": {
          "base_uri": "https://localhost:8080/",
          "height": 547
        },
        "outputId": "42cdfb80-fea0-4776-f173-0b7a628ff12f"
      },
      "source": [
        "location=input('Enter location of your restaurant: ')\n",
        "rest_type=input('Enter type of your restaurant: ')\n",
        "online = input(\"Enter 1 - Accept online order OR 0 - Dont accept online order\")\n",
        "table = input(\"Enter 1 - Book tables OR 0 - Dont book tables\")\n",
        "rating = input(\"Enter your average rating\")"
      ],
      "execution_count": 95,
      "outputs": [
        {
          "output_type": "error",
          "ename": "KeyboardInterrupt",
          "evalue": "ignored",
          "traceback": [
            "\u001b[0;31m---------------------------------------------------------------------------\u001b[0m",
            "\u001b[0;31mKeyboardInterrupt\u001b[0m                         Traceback (most recent call last)",
            "\u001b[0;32m/usr/local/lib/python3.6/dist-packages/ipykernel/kernelbase.py\u001b[0m in \u001b[0;36m_input_request\u001b[0;34m(self, prompt, ident, parent, password)\u001b[0m\n\u001b[1;32m    729\u001b[0m             \u001b[0;32mtry\u001b[0m\u001b[0;34m:\u001b[0m\u001b[0;34m\u001b[0m\u001b[0;34m\u001b[0m\u001b[0m\n\u001b[0;32m--> 730\u001b[0;31m                 \u001b[0mident\u001b[0m\u001b[0;34m,\u001b[0m \u001b[0mreply\u001b[0m \u001b[0;34m=\u001b[0m \u001b[0mself\u001b[0m\u001b[0;34m.\u001b[0m\u001b[0msession\u001b[0m\u001b[0;34m.\u001b[0m\u001b[0mrecv\u001b[0m\u001b[0;34m(\u001b[0m\u001b[0mself\u001b[0m\u001b[0;34m.\u001b[0m\u001b[0mstdin_socket\u001b[0m\u001b[0;34m,\u001b[0m \u001b[0;36m0\u001b[0m\u001b[0;34m)\u001b[0m\u001b[0;34m\u001b[0m\u001b[0;34m\u001b[0m\u001b[0m\n\u001b[0m\u001b[1;32m    731\u001b[0m             \u001b[0;32mexcept\u001b[0m \u001b[0mException\u001b[0m\u001b[0;34m:\u001b[0m\u001b[0;34m\u001b[0m\u001b[0;34m\u001b[0m\u001b[0m\n",
            "\u001b[0;32m/usr/local/lib/python3.6/dist-packages/jupyter_client/session.py\u001b[0m in \u001b[0;36mrecv\u001b[0;34m(self, socket, mode, content, copy)\u001b[0m\n\u001b[1;32m    802\u001b[0m         \u001b[0;32mtry\u001b[0m\u001b[0;34m:\u001b[0m\u001b[0;34m\u001b[0m\u001b[0;34m\u001b[0m\u001b[0m\n\u001b[0;32m--> 803\u001b[0;31m             \u001b[0mmsg_list\u001b[0m \u001b[0;34m=\u001b[0m \u001b[0msocket\u001b[0m\u001b[0;34m.\u001b[0m\u001b[0mrecv_multipart\u001b[0m\u001b[0;34m(\u001b[0m\u001b[0mmode\u001b[0m\u001b[0;34m,\u001b[0m \u001b[0mcopy\u001b[0m\u001b[0;34m=\u001b[0m\u001b[0mcopy\u001b[0m\u001b[0;34m)\u001b[0m\u001b[0;34m\u001b[0m\u001b[0;34m\u001b[0m\u001b[0m\n\u001b[0m\u001b[1;32m    804\u001b[0m         \u001b[0;32mexcept\u001b[0m \u001b[0mzmq\u001b[0m\u001b[0;34m.\u001b[0m\u001b[0mZMQError\u001b[0m \u001b[0;32mas\u001b[0m \u001b[0me\u001b[0m\u001b[0;34m:\u001b[0m\u001b[0;34m\u001b[0m\u001b[0;34m\u001b[0m\u001b[0m\n",
            "\u001b[0;32m/usr/local/lib/python3.6/dist-packages/zmq/sugar/socket.py\u001b[0m in \u001b[0;36mrecv_multipart\u001b[0;34m(self, flags, copy, track)\u001b[0m\n\u001b[1;32m    465\u001b[0m         \"\"\"\n\u001b[0;32m--> 466\u001b[0;31m         \u001b[0mparts\u001b[0m \u001b[0;34m=\u001b[0m \u001b[0;34m[\u001b[0m\u001b[0mself\u001b[0m\u001b[0;34m.\u001b[0m\u001b[0mrecv\u001b[0m\u001b[0;34m(\u001b[0m\u001b[0mflags\u001b[0m\u001b[0;34m,\u001b[0m \u001b[0mcopy\u001b[0m\u001b[0;34m=\u001b[0m\u001b[0mcopy\u001b[0m\u001b[0;34m,\u001b[0m \u001b[0mtrack\u001b[0m\u001b[0;34m=\u001b[0m\u001b[0mtrack\u001b[0m\u001b[0;34m)\u001b[0m\u001b[0;34m]\u001b[0m\u001b[0;34m\u001b[0m\u001b[0;34m\u001b[0m\u001b[0m\n\u001b[0m\u001b[1;32m    467\u001b[0m         \u001b[0;31m# have first part already, only loop while more to receive\u001b[0m\u001b[0;34m\u001b[0m\u001b[0;34m\u001b[0m\u001b[0;34m\u001b[0m\u001b[0m\n",
            "\u001b[0;32mzmq/backend/cython/socket.pyx\u001b[0m in \u001b[0;36mzmq.backend.cython.socket.Socket.recv\u001b[0;34m()\u001b[0m\n",
            "\u001b[0;32mzmq/backend/cython/socket.pyx\u001b[0m in \u001b[0;36mzmq.backend.cython.socket.Socket.recv\u001b[0;34m()\u001b[0m\n",
            "\u001b[0;32mzmq/backend/cython/socket.pyx\u001b[0m in \u001b[0;36mzmq.backend.cython.socket._recv_copy\u001b[0;34m()\u001b[0m\n",
            "\u001b[0;32m/usr/local/lib/python3.6/dist-packages/zmq/backend/cython/checkrc.pxd\u001b[0m in \u001b[0;36mzmq.backend.cython.checkrc._check_rc\u001b[0;34m()\u001b[0m\n",
            "\u001b[0;31mKeyboardInterrupt\u001b[0m: ",
            "\nDuring handling of the above exception, another exception occurred:\n",
            "\u001b[0;31mKeyboardInterrupt\u001b[0m                         Traceback (most recent call last)",
            "\u001b[0;32m<ipython-input-95-fa1f497d108f>\u001b[0m in \u001b[0;36m<module>\u001b[0;34m()\u001b[0m\n\u001b[0;32m----> 1\u001b[0;31m \u001b[0mlocation\u001b[0m\u001b[0;34m=\u001b[0m\u001b[0minput\u001b[0m\u001b[0;34m(\u001b[0m\u001b[0;34m'Enter location of your restaurant: '\u001b[0m\u001b[0;34m)\u001b[0m\u001b[0;34m\u001b[0m\u001b[0;34m\u001b[0m\u001b[0m\n\u001b[0m\u001b[1;32m      2\u001b[0m \u001b[0mrest_type\u001b[0m\u001b[0;34m=\u001b[0m\u001b[0minput\u001b[0m\u001b[0;34m(\u001b[0m\u001b[0;34m'Enter type of your restaurant: '\u001b[0m\u001b[0;34m)\u001b[0m\u001b[0;34m\u001b[0m\u001b[0;34m\u001b[0m\u001b[0m\n\u001b[1;32m      3\u001b[0m \u001b[0monline\u001b[0m \u001b[0;34m=\u001b[0m \u001b[0minput\u001b[0m\u001b[0;34m(\u001b[0m\u001b[0;34m\"Enter 1 - Accept online order OR 0 - Dont accept online order\"\u001b[0m\u001b[0;34m)\u001b[0m\u001b[0;34m\u001b[0m\u001b[0;34m\u001b[0m\u001b[0m\n\u001b[1;32m      4\u001b[0m \u001b[0mtable\u001b[0m \u001b[0;34m=\u001b[0m \u001b[0minput\u001b[0m\u001b[0;34m(\u001b[0m\u001b[0;34m\"Enter 1 - Book tables OR 0 - Dont book tables\"\u001b[0m\u001b[0;34m)\u001b[0m\u001b[0;34m\u001b[0m\u001b[0;34m\u001b[0m\u001b[0m\n\u001b[1;32m      5\u001b[0m \u001b[0mrating\u001b[0m \u001b[0;34m=\u001b[0m \u001b[0minput\u001b[0m\u001b[0;34m(\u001b[0m\u001b[0;34m\"Enter your average rating\"\u001b[0m\u001b[0;34m)\u001b[0m\u001b[0;34m\u001b[0m\u001b[0;34m\u001b[0m\u001b[0m\n",
            "\u001b[0;32m/usr/local/lib/python3.6/dist-packages/ipykernel/kernelbase.py\u001b[0m in \u001b[0;36mraw_input\u001b[0;34m(self, prompt)\u001b[0m\n\u001b[1;32m    703\u001b[0m             \u001b[0mself\u001b[0m\u001b[0;34m.\u001b[0m\u001b[0m_parent_ident\u001b[0m\u001b[0;34m,\u001b[0m\u001b[0;34m\u001b[0m\u001b[0;34m\u001b[0m\u001b[0m\n\u001b[1;32m    704\u001b[0m             \u001b[0mself\u001b[0m\u001b[0;34m.\u001b[0m\u001b[0m_parent_header\u001b[0m\u001b[0;34m,\u001b[0m\u001b[0;34m\u001b[0m\u001b[0;34m\u001b[0m\u001b[0m\n\u001b[0;32m--> 705\u001b[0;31m             \u001b[0mpassword\u001b[0m\u001b[0;34m=\u001b[0m\u001b[0;32mFalse\u001b[0m\u001b[0;34m,\u001b[0m\u001b[0;34m\u001b[0m\u001b[0;34m\u001b[0m\u001b[0m\n\u001b[0m\u001b[1;32m    706\u001b[0m         )\n\u001b[1;32m    707\u001b[0m \u001b[0;34m\u001b[0m\u001b[0m\n",
            "\u001b[0;32m/usr/local/lib/python3.6/dist-packages/ipykernel/kernelbase.py\u001b[0m in \u001b[0;36m_input_request\u001b[0;34m(self, prompt, ident, parent, password)\u001b[0m\n\u001b[1;32m    733\u001b[0m             \u001b[0;32mexcept\u001b[0m \u001b[0mKeyboardInterrupt\u001b[0m\u001b[0;34m:\u001b[0m\u001b[0;34m\u001b[0m\u001b[0;34m\u001b[0m\u001b[0m\n\u001b[1;32m    734\u001b[0m                 \u001b[0;31m# re-raise KeyboardInterrupt, to truncate traceback\u001b[0m\u001b[0;34m\u001b[0m\u001b[0;34m\u001b[0m\u001b[0;34m\u001b[0m\u001b[0m\n\u001b[0;32m--> 735\u001b[0;31m                 \u001b[0;32mraise\u001b[0m \u001b[0mKeyboardInterrupt\u001b[0m\u001b[0;34m\u001b[0m\u001b[0;34m\u001b[0m\u001b[0m\n\u001b[0m\u001b[1;32m    736\u001b[0m             \u001b[0;32melse\u001b[0m\u001b[0;34m:\u001b[0m\u001b[0;34m\u001b[0m\u001b[0;34m\u001b[0m\u001b[0m\n\u001b[1;32m    737\u001b[0m                 \u001b[0;32mbreak\u001b[0m\u001b[0;34m\u001b[0m\u001b[0;34m\u001b[0m\u001b[0m\n",
            "\u001b[0;31mKeyboardInterrupt\u001b[0m: "
          ]
        }
      ]
    },
    {
      "cell_type": "code",
      "metadata": {
        "id": "m2qKw3zc5S5p",
        "colab_type": "code",
        "colab": {}
      },
      "source": [
        ""
      ],
      "execution_count": 0,
      "outputs": []
    },
    {
      "cell_type": "code",
      "metadata": {
        "id": "qTNz7MUEx36y",
        "colab_type": "code",
        "colab": {
          "base_uri": "https://localhost:8080/",
          "height": 34
        },
        "outputId": "4ace242a-9ba9-48ba-cad5-65568b42f2c4"
      },
      "source": [
        "rest_type"
      ],
      "execution_count": 94,
      "outputs": [
        {
          "output_type": "execute_result",
          "data": {
            "text/plain": [
              "'raghav dabha'"
            ]
          },
          "metadata": {
            "tags": []
          },
          "execution_count": 94
        }
      ]
    },
    {
      "cell_type": "code",
      "metadata": {
        "id": "S08vZk_Px3yK",
        "colab_type": "code",
        "colab": {
          "base_uri": "https://localhost:8080/",
          "height": 51
        },
        "outputId": "fc557a78-7e8d-4d09-c8e1-93d4415142e4"
      },
      "source": [
        "input()"
      ],
      "execution_count": 70,
      "outputs": [
        {
          "output_type": "stream",
          "text": [
            "asdasd\n"
          ],
          "name": "stdout"
        },
        {
          "output_type": "execute_result",
          "data": {
            "text/plain": [
              "'asdasd'"
            ]
          },
          "metadata": {
            "tags": []
          },
          "execution_count": 70
        }
      ]
    },
    {
      "cell_type": "code",
      "metadata": {
        "id": "Zu_Mk5vMXHMl",
        "colab_type": "code",
        "colab": {}
      },
      "source": [
        ""
      ],
      "execution_count": 0,
      "outputs": []
    },
    {
      "cell_type": "code",
      "metadata": {
        "id": "SYk_wSYzXG3Y",
        "colab_type": "code",
        "colab": {}
      },
      "source": [
        ""
      ],
      "execution_count": 0,
      "outputs": []
    },
    {
      "cell_type": "code",
      "metadata": {
        "id": "gh27zXWsXGh-",
        "colab_type": "code",
        "colab": {}
      },
      "source": [
        ""
      ],
      "execution_count": 0,
      "outputs": []
    },
    {
      "cell_type": "code",
      "metadata": {
        "id": "cd3Z20v0XGGx",
        "colab_type": "code",
        "colab": {}
      },
      "source": [
        ""
      ],
      "execution_count": 0,
      "outputs": []
    }
  ]
}